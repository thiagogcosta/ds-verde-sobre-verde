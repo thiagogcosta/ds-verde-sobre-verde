{
 "cells": [
  {
   "cell_type": "markdown",
   "metadata": {},
   "source": [
    "# Análise de dados e Criação de Modelos de Machine Learning para a Identificação de Pragas em Colheitas"
   ]
  },
  {
   "cell_type": "markdown",
   "metadata": {},
   "source": [
    "## 1 - Importação das bibliotecas:"
   ]
  },
  {
   "cell_type": "code",
   "execution_count": 7,
   "metadata": {},
   "outputs": [],
   "source": [
    "import pandas as pd\n",
    "import numpy as np\n",
    "import matplotlib.pyplot as plt\n",
    "import seaborn as sns\n",
    "from sklearn.preprocessing import StandardScaler\n",
    "import pickle\n",
    "from sklearn.preprocessing import Normalizer\n",
    "from sklearn.model_selection import GridSearchCV\n",
    "from sklearn.ensemble import RandomForestRegressor\n",
    "from sklearn.ensemble import RandomForestClassifier\n",
    "from sklearn.linear_model import LogisticRegression\n",
    "from sklearn.naive_bayes import GaussianNB\n",
    "from sklearn.tree import DecisionTreeClassifier\n",
    "from sklearn.svm import SVC \n",
    "from sklearn.model_selection import cross_val_predict, KFold\n",
    "from sklearn.metrics import accuracy_score\n",
    "from sklearn.metrics import precision_score\n",
    "from sklearn.metrics import recall_score\n",
    "from sklearn.metrics import mean_squared_error\n",
    "from sklearn.metrics import classification_report, confusion_matrix\n",
    "from sklearn.metrics import confusion_matrix\n",
    "from sklearn.metrics import precision_recall_fscore_support\n",
    "import joblib\n",
    "import statistics\n",
    "import warnings\n",
    "warnings.filterwarnings('ignore')"
   ]
  },
  {
   "cell_type": "markdown",
   "metadata": {},
   "source": [
    "----------------------"
   ]
  },
  {
   "cell_type": "markdown",
   "metadata": {},
   "source": [
    "## 2 - Definição dos parâmetros dos Datasets e leitura dos arquivos:"
   ]
  },
  {
   "cell_type": "code",
   "execution_count": 8,
   "metadata": {},
   "outputs": [],
   "source": [
    "# Nome dos arquivos que serão lidos\n",
    "amargoso = 'data/_amargoso.csv'\n",
    "braquiaria = 'data/_braquiaria.csv'\n",
    "caruru = 'data/_caruru.csv'\n",
    "juazeiro = 'data/_juazeiro.csv'\n",
    "leiteiro = 'data/_leiteiro.csv'\n",
    "\n",
    "# Criação dos Dataframes\n",
    "df_amargoso = pd.read_csv(amargoso, sep=',')\n",
    "df_braquiaria = pd.read_csv(braquiaria, sep=',')\n",
    "df_caruru = pd.read_csv(caruru, sep=',')\n",
    "df_juazeiro = pd.read_csv(juazeiro, sep=',')\n",
    "df_leiteiro = pd.read_csv(leiteiro, sep=',')\n",
    "\n",
    "# Renomear as colunas dos Dataframes:\n",
    "vec_dfs = [df_amargoso, df_braquiaria, df_caruru, df_juazeiro, df_leiteiro]\n",
    "\n",
    "for df in vec_dfs:\n",
    "    df.rename(columns={'Sample num' : 'id', 'F1 (410nm)' : 'f1', 'F2 (440nm)' : 'f2', \n",
    "                       'F3 (470nm)' : 'f3', 'F4 (510nm)' : 'f4', 'F5 (550nm)' : 'f5', \n",
    "                       'F6 (583nm)' : 'f6', 'F7 (620nm)' : 'f7', 'F8 (670nm)' : 'f8', \n",
    "                       'CLEAR' : 'clear', 'SAIDA' : 'y'}, inplace = True)\n",
    "    df.drop('Function', axis=1, inplace=True)"
   ]
  },
  {
   "cell_type": "code",
   "execution_count": 9,
   "metadata": {},
   "outputs": [],
   "source": [
    "# Tipos de pragas\n",
    "# - 0 = Amargoso\n",
    "# - 1 = Caruru\n",
    "# - 2 = Juazeiro\n",
    "# - 3 = Leiteiro\n",
    "# - 4 = Braquiaria\n",
    "\n",
    "df_amargoso['tipo'] = '0'\n",
    "df_caruru['tipo'] = '1'\n",
    "df_juazeiro['tipo'] = '2'\n",
    "df_leiteiro['tipo'] = '3'\n",
    "df_braquiaria['tipo'] = '4'"
   ]
  },
  {
   "cell_type": "markdown",
   "metadata": {},
   "source": [
    "---------------------"
   ]
  },
  {
   "cell_type": "markdown",
   "metadata": {},
   "source": [
    "## 3 - Pré-processamento dos dados"
   ]
  },
  {
   "cell_type": "code",
   "execution_count": 10,
   "metadata": {},
   "outputs": [],
   "source": [
    "# Converter dados de Inteiro e Object para Float\n",
    "def converter_colunas_float(df):\n",
    "    df['f1'] = df.f1.astype(np.float64)\n",
    "    df['f2'] = df.f2.astype(np.float64)\n",
    "    df['f3'] = df.f3.astype(np.float64)\n",
    "    df['f4'] = df.f4.astype(np.float64)\n",
    "    df['f5'] = df.f5.astype(np.float64)\n",
    "    df['f6'] = df.f6.astype(np.float64)\n",
    "    df['f7'] = df.f7.astype(np.float64)\n",
    "    df['f8'] = df.f8.astype(np.float64)\n",
    "    df['clear'] = pd.to_numeric(df['clear'],errors='coerce')\n",
    "    df['y'] = df.y.astype(np.float64)\n",
    "    df['tipo'] = df.tipo.astype(np.float64)\n",
    "    \n",
    "    return df"
   ]
  },
  {
   "cell_type": "code",
   "execution_count": 11,
   "metadata": {},
   "outputs": [],
   "source": [
    "# Dados Faltantes\n",
    "# - Verificação da existência de dados faltantes\n",
    "# - - Substituição de dados faltantes pelo o valor obtido com interpolação linear\n",
    "\n",
    "def inserir_dados_faltantes(df):\n",
    "    if df['f1'].isna().any():\n",
    "        df['f1'] = df.f1.interpolate(method='linear')\n",
    "    if df['f2'].isna().any():\n",
    "        df['f2'] = df.f2.interpolate(method='linear')\n",
    "    if df['f3'].isna().any():\n",
    "        df['f3'] = df.f3.interpolate(method='linear')\n",
    "    if df['f4'].isna().any():\n",
    "        df['f4'] = df.f4.interpolate(method='linear')\n",
    "    if df['f5'].isna().any():\n",
    "        df['f5'] = df.f5.interpolate(method='linear')\n",
    "    if df['f6'].isna().any():\n",
    "        df['f6'] = df.f6.interpolate(method='linear')\n",
    "    if df['f7'].isna().any():\n",
    "        df['f7'] = df.f7.interpolate(method='linear')\n",
    "    if df['f8'].isna().any():\n",
    "        df['f8'] = df.f8.interpolate(method='linear')\n",
    "    if df['clear'].isna().any():\n",
    "        df['clear'] = df.clear.interpolate(method='linear')\n",
    "    \n",
    "    return df"
   ]
  },
  {
   "cell_type": "code",
   "execution_count": 12,
   "metadata": {},
   "outputs": [],
   "source": [
    "# Vetor de Dataframes\n",
    "vec_dfs = [df_amargoso,df_braquiaria,df_caruru, df_juazeiro, df_leiteiro]\n",
    "\n",
    "vec_df_preprocessados = []\n",
    "\n",
    "for df in vec_dfs:\n",
    "    \n",
    "    # Converter os dados para float\n",
    "    df = converter_colunas_float(df)\n",
    "\n",
    "    # Inserir os dados faltantes via interpolação linear\n",
    "    df = inserir_dados_faltantes(df)\n",
    "    \n",
    "    # Inserir os Dataframes Pré-processados em um vetor\n",
    "    vec_df_preprocessados.append(df)\n",
    "\n",
    "# Concatenar todos os Dataframes\n",
    "df_preprocessado = pd.concat(vec_df_preprocessados)\n",
    "\n",
    "# Resetar o index do Dataframe\n",
    "df_preprocessado = df_preprocessado.reset_index()\n",
    "\n",
    "# Seleção dos parâmetros mais interessantes\n",
    "df_preprocessado = df_preprocessado[['f1','f2','f3','f4','f5','f6','f7','f8','clear','y','tipo']]\n",
    "\n",
    "# Salvar o DataFrame Pré-processado\n",
    "df_preprocessado.to_csv('data/df_preprocessado.csv')"
   ]
  },
  {
   "cell_type": "code",
   "execution_count": 14,
   "metadata": {
    "scrolled": true
   },
   "outputs": [
    {
     "name": "stdout",
     "output_type": "stream",
     "text": [
      "-------Total de Linhas do Dataframe Pré-processado-------\n",
      "637\n",
      "-------Pré-visualização dos dados do Dataframe-------\n",
      "      f1     f2     f3     f4     f5     f6      f7      f8   clear    y  tipo\n",
      "0  366.0  471.0  632.0  796.0  999.0  967.0  1326.0  1532.0  7318.0  1.0   0.0\n",
      "1  336.0  459.0  595.0  811.0  987.0  953.0  1356.0  1478.0  7284.0  1.0   0.0\n",
      "2  333.0  470.0  610.0  849.0  992.0  958.0  1472.0  1487.0  7427.0  1.0   0.0\n",
      "3  337.0  453.0  589.0  774.0  933.0  949.0  1316.0  1406.0  6916.0  1.0   0.0\n",
      "4  329.0  454.0  585.0  783.0  948.0  951.0  1311.0  1490.0  6953.0  1.0   0.0\n",
      "-------Descrição dos tipos das variáveis contidas no Dataframe-------\n",
      "f1       float64\n",
      "f2       float64\n",
      "f3       float64\n",
      "f4       float64\n",
      "f5       float64\n",
      "f6       float64\n",
      "f7       float64\n",
      "f8       float64\n",
      "clear    float64\n",
      "y        float64\n",
      "tipo     float64\n",
      "dtype: object\n",
      "-------Descrição do Dataframe-------\n",
      "               f1          f2          f3           f4           f5  \\\n",
      "count  637.000000  637.000000  637.000000   637.000000   637.000000   \n",
      "mean   308.949765  402.277865  507.406593   654.952904   787.064364   \n",
      "std     64.419937   90.669174  116.620654   146.701257   169.712291   \n",
      "min    210.000000  262.000000  340.000000   433.000000   521.000000   \n",
      "25%    262.000000  333.000000  420.000000   543.000000   661.000000   \n",
      "50%    290.000000  374.000000  471.000000   611.000000   743.000000   \n",
      "75%    346.000000  471.000000  577.000000   748.000000   892.000000   \n",
      "max    510.000000  683.000000  953.000000  1083.000000  1384.000000   \n",
      "\n",
      "                f6           f7           f8        clear           y  \\\n",
      "count   637.000000   637.000000   637.000000   637.000000  637.000000   \n",
      "mean    862.354788   987.450549  1194.594976  5847.492936    0.799058   \n",
      "std     206.829738   264.722085   337.501967  1619.477917    0.401020   \n",
      "min     574.000000   635.000000   740.000000  3360.000000    0.000000   \n",
      "25%     707.000000   795.000000   946.000000  4527.000000    1.000000   \n",
      "50%     794.000000   894.000000  1093.000000  5476.000000    1.000000   \n",
      "75%     971.000000  1087.000000  1347.000000  7284.000000    1.000000   \n",
      "max    1488.000000  1881.000000  2439.000000  9894.000000    1.000000   \n",
      "\n",
      "             tipo  \n",
      "count  637.000000  \n",
      "mean     2.037677  \n",
      "std      1.358120  \n",
      "min      0.000000  \n",
      "25%      1.000000  \n",
      "50%      2.000000  \n",
      "75%      3.000000  \n",
      "max      4.000000  \n"
     ]
    }
   ],
   "source": [
    "# - Informações relevantes sobre os dados pré-processados\n",
    "print('-------Total de Linhas do Dataframe Pré-processado-------')\n",
    "print(len(df_preprocessado))\n",
    "print('-------Pré-visualização dos dados do Dataframe-------')\n",
    "print(df_preprocessado.head())\n",
    "print('-------Descrição dos tipos das variáveis contidas no Dataframe-------')\n",
    "print(df_preprocessado.dtypes)\n",
    "print('-------Descrição do Dataframe-------')\n",
    "print(df_preprocessado.describe())"
   ]
  },
  {
   "cell_type": "markdown",
   "metadata": {},
   "source": [
    "-------------------"
   ]
  },
  {
   "cell_type": "markdown",
   "metadata": {},
   "source": [
    "## 4 - Análise de dados"
   ]
  },
  {
   "cell_type": "code",
   "execution_count": 15,
   "metadata": {},
   "outputs": [],
   "source": [
    "# Correlação entre os dados\n",
    "# - Fazer a correlação de Pearson para verificar a se há correlação entre os dados.\n",
    "# - - - - - - - - - - Níveis de Correlação - - - - - - - - -\n",
    "# - - 0.9 para mais ou para menos indica uma correlação muito forte.\n",
    "# - - 0.7 a 0.9 positivo ou negativo indica uma correlação forte.\n",
    "# - - 0.5 a 0.7 positivo ou negativo indica uma correlação moderada.\n",
    "# - - 0.3 a 0.5 positivo ou negativo indica uma correlação fraca.\n",
    "# - - 0 a 0.3 positivo ou negativo indica uma correlação desprezível.\n",
    "\n",
    "# Realizar a correlação entre as colunas\n",
    "df_correlacao  = df_preprocessado.corr(method ='pearson')"
   ]
  },
  {
   "cell_type": "markdown",
   "metadata": {},
   "source": [
    "## HeatMap"
   ]
  },
  {
   "cell_type": "code",
   "execution_count": 16,
   "metadata": {
    "scrolled": false
   },
   "outputs": [
    {
     "data": {
      "image/png": "[encoded data removed]",
      "text/plain": [
       "<Figure size 1080x1080 with 2 Axes>"
      ]
     },
     "metadata": {
      "needs_background": "light"
     },
     "output_type": "display_data"
    }
   ],
   "source": [
    "# Visualização das correlações entre das labels do Dataframe através de um heatmap:\n",
    "%matplotlib inline\n",
    "plt.figure(figsize=(15,15))\n",
    "sns.heatmap(df_correlacao, annot=True, linewidths=0.5, linecolor='black', cmap='RdGy_r')\n",
    "plt.xticks(rotation=90)\n",
    "plt.savefig(\"heatmap_correlation.png\", dpi=150) \n",
    "plt.show()"
   ]
  },
  {
   "cell_type": "markdown",
   "metadata": {},
   "source": [
    "Conclusão: As features de \"f1\" até \"clear\" possuem uma correlação forte, logo isso é um bom indício que essas features são relacionadas, no entanto, como na base de dados possui poucos exemplos balanceados, ou seja há aproximadamente 120 casos do tipo braquiaria e mais de 500 casos de exemplos de dados com praga, logo isso impacta na correlação das features com as saídas."
   ]
  },
  {
   "cell_type": "markdown",
   "metadata": {},
   "source": [
    "-----------------------"
   ]
  },
  {
   "cell_type": "markdown",
   "metadata": {},
   "source": [
    "## 5 - Criação do conjunto verdade "
   ]
  },
  {
   "cell_type": "markdown",
   "metadata": {},
   "source": [
    "### 5.1 - Solução para a identificação de pragas"
   ]
  },
  {
   "cell_type": "code",
   "execution_count": 17,
   "metadata": {},
   "outputs": [],
   "source": [
    "# Resetar o index do Dataframe\n",
    "df_preprocessado = df_preprocessado.reset_index()"
   ]
  },
  {
   "cell_type": "markdown",
   "metadata": {},
   "source": [
    "-------------"
   ]
  },
  {
   "cell_type": "markdown",
   "metadata": {},
   "source": [
    "### 5.1.1 Criação do conjunto de teste"
   ]
  },
  {
   "cell_type": "code",
   "execution_count": 18,
   "metadata": {},
   "outputs": [
    {
     "name": "stdout",
     "output_type": "stream",
     "text": [
      "     index     f1     f2     f3      f4      f5      f6      f7      f8  \\\n",
      "246    246  279.0  354.0  480.0   567.0   764.0   706.0   876.0   974.0   \n",
      "229    229  268.0  336.0  446.0   549.0   715.0   700.0   842.0   954.0   \n",
      "180    180  269.0  382.0  483.0   664.0   774.0   850.0  1083.0  1308.0   \n",
      "181    181  326.0  423.0  583.0   737.0   929.0  1029.0  1248.0  1512.0   \n",
      "158    158  244.0  300.0  373.0   511.0   615.0   692.0   734.0   884.0   \n",
      "243    243  272.0  347.0  471.0   559.0   744.0   701.0   851.0   957.0   \n",
      "247    247  279.0  357.0  476.0   568.0   751.0   707.0   877.0   986.0   \n",
      "160    160  262.0  315.0  399.0   547.0   659.0   757.0   837.0   997.0   \n",
      "156    156  232.0  279.0  355.0   484.0   572.0   631.0   696.0   795.0   \n",
      "176    176  252.0  316.0  398.0   534.0   665.0   705.0   779.0   930.0   \n",
      "233    233  263.0  333.0  438.0   541.0   707.0   704.0   813.0   947.0   \n",
      "228    228  265.0  331.0  441.0   542.0   714.0   699.0   832.0   947.0   \n",
      "129    129  322.0  447.0  570.0   727.0   919.0   997.0  1306.0  1521.0   \n",
      "572    572  235.0  300.0  362.0   484.0   559.0   592.0   643.0   740.0   \n",
      "472    472  240.0  311.0  405.0   528.0   630.0   702.0   842.0   990.0   \n",
      "47      47  337.0  443.0  524.0   663.0   784.0   949.0   946.0  1292.0   \n",
      "67      67  361.0  489.0  581.0   727.0   965.0  1085.0  1060.0  1353.0   \n",
      "491    491  239.0  290.0  389.0   490.0   610.0   685.0   779.0   918.0   \n",
      "260    260  475.0  626.0  871.0  1023.0  1308.0  1397.0  1791.0  2207.0   \n",
      "421    421  307.0  438.0  546.0   712.0   852.0   822.0  1032.0  1091.0   \n",
      "31      31  289.0  348.0  446.0   596.0   724.0   862.0  1016.0  1186.0   \n",
      "346    346  301.0  402.0  481.0   632.0   735.0   847.0   874.0  1096.0   \n",
      "90      90  301.0  369.0  442.0   582.0   734.0   785.0   809.0   962.0   \n",
      "612    612  248.0  311.0  385.0   510.0   624.0   685.0   741.0   887.0   \n",
      "473    473  240.0  313.0  406.0   536.0   630.0   710.0   845.0   990.0   \n",
      "119    119  344.0  454.0  570.0   710.0   839.0   944.0  1004.0  1224.0   \n",
      "\n",
      "      clear    y  \n",
      "246  5791.0  0.0  \n",
      "229  5264.0  0.0  \n",
      "180  5917.0  0.0  \n",
      "181  7718.0  0.0  \n",
      "158  4418.0  0.0  \n",
      "243  5630.0  0.0  \n",
      "247  5710.0  0.0  \n",
      "160  4237.0  0.0  \n",
      "156  3792.0  0.0  \n",
      "176  4376.0  0.0  \n",
      "233  5031.0  0.0  \n",
      "228  5219.0  0.0  \n",
      "129  7792.0  0.0  \n",
      "572  3901.0  1.0  \n",
      "472  3854.0  1.0  \n",
      "47   6253.0  1.0  \n",
      "67   7678.0  1.0  \n",
      "491  4067.0  1.0  \n",
      "260  8475.0  1.0  \n",
      "421  6841.0  1.0  \n",
      "31   4851.0  1.0  \n",
      "346  6570.0  1.0  \n",
      "90   5397.0  1.0  \n",
      "612  3988.0  1.0  \n",
      "473  3764.0  1.0  \n",
      "119  6707.0  1.0  \n"
     ]
    }
   ],
   "source": [
    "# Selecionar as features necessárias\n",
    "df_preprocessado_conj_vdd = df_preprocessado[['index','f1','f2','f3','f4','f5','f6','f7','f8','clear','y']]\n",
    "\n",
    "# vetor de bases com y = 0 e y = 1\n",
    "vec_conjunto_vdd = []\n",
    "\n",
    "# Dados do Dataframe que a label \"y\" é 0\n",
    "df_process_y0 = df_preprocessado_conj_vdd[df_preprocessado_conj_vdd['y'] == 0.0]\n",
    "\n",
    "df_process_y0 = df_process_y0.sample(n = 13, random_state=1)\n",
    "\n",
    "vec_conjunto_vdd.append(df_process_y0)\n",
    "\n",
    "# Dados do Dataframe que a label \"y\" é 1\n",
    "df_process_y1 = df_preprocessado_conj_vdd[df_preprocessado_conj_vdd['y'] == 1.0]\n",
    "\n",
    "df_process_y1 = df_process_y1.sample(n = 13, random_state=1)\n",
    "\n",
    "# vetor com o conjunto verdade balanceado\n",
    "vec_conjunto_vdd.append(df_process_y1)\n",
    "\n",
    "# Planejamento do conjunto de treinamento\n",
    "# - 10% da base com menor frequência\n",
    "# - Base com menor frequência = 128\n",
    "# - Conjunto verdade = 13*2\n",
    "\n",
    "vec_df_vdd = pd.concat(vec_conjunto_vdd)\n",
    "\n",
    "print(vec_df_vdd)\n",
    "\n",
    "vec_df_vdd.to_csv('data/conj_vdd_teste_identificacao_praga.csv')"
   ]
  },
  {
   "cell_type": "markdown",
   "metadata": {},
   "source": [
    "----------------"
   ]
  },
  {
   "cell_type": "markdown",
   "metadata": {},
   "source": [
    "### 5.1.2 - Criação do conjunto para treinamento"
   ]
  },
  {
   "cell_type": "code",
   "execution_count": 19,
   "metadata": {},
   "outputs": [],
   "source": [
    "# Ids do conjunto de teste\n",
    "ids = vec_df_vdd['index'].values\n",
    "\n",
    "# Conjunto de treino sem a ocorrência dos exemplos usados no teste\n",
    "df_conjunto_treino = df_preprocessado[~df_preprocessado['index'].isin(ids)]\n",
    "\n",
    "df_conjunto_treino = df_conjunto_treino[['index','f1','f2','f3','f4','f5','f6','f7','f8','clear','y']]\n",
    "\n",
    "# vetor de bases com y = 0 e y = 1\n",
    "vec_conjunto_treino = []\n",
    "\n",
    "# Dados do Dataframe que a label \"y\" é 0\n",
    "df_process_y0_treino = df_conjunto_treino[df_conjunto_treino['y'] == 0.0]\n",
    "\n",
    "df_process_y0_treino = df_process_y0_treino.sample(n = 115, random_state=1)\n",
    "\n",
    "vec_conjunto_treino.append(df_process_y0_treino)\n",
    "\n",
    "# Dados do Dataframe que a label \"y\" é 1\n",
    "df_process_y1_treino = df_conjunto_treino[df_conjunto_treino['y'] == 1.0]\n",
    "\n",
    "df_process_y1_treino = df_process_y1_treino.sample(n = 115, random_state=1)\n",
    "\n",
    "vec_conjunto_treino.append(df_process_y1_treino)"
   ]
  },
  {
   "cell_type": "code",
   "execution_count": 20,
   "metadata": {},
   "outputs": [
    {
     "name": "stdout",
     "output_type": "stream",
     "text": [
      "     index     f1     f2     f3     f4      f5      f6      f7      f8  \\\n",
      "226    226  265.0  329.0  438.0  544.0   703.0   706.0   824.0   954.0   \n",
      "173    173  273.0  333.0  417.0  573.0   698.0   752.0   813.0  1005.0   \n",
      "188    188  304.0  416.0  497.0  663.0   781.0   819.0   914.0  1145.0   \n",
      "215    215  272.0  338.0  453.0  568.0   724.0   722.0   859.0   970.0   \n",
      "201    201  282.0  339.0  453.0  557.0   742.0   753.0   844.0   977.0   \n",
      "..     ...    ...    ...    ...    ...     ...     ...     ...     ...   \n",
      "558    558  269.0  345.0  426.0  565.0   682.0   761.0   822.0  1028.0   \n",
      "371    371  426.0  567.0  761.0  823.0  1009.0  1150.0  1179.0  1528.0   \n",
      "429    429  314.0  439.0  550.0  706.0   842.0   873.0  1003.0  1236.0   \n",
      "442    442  347.0  432.0  531.0  702.0   795.0   852.0   884.0  1093.0   \n",
      "528    528  243.0  302.0  393.0  511.0   630.0   678.0   790.0   937.0   \n",
      "\n",
      "      clear    y  \n",
      "226  5122.0  0.0  \n",
      "173  4505.0  0.0  \n",
      "188  5634.0  0.0  \n",
      "215  5265.0  0.0  \n",
      "201  5710.0  0.0  \n",
      "..      ...  ...  \n",
      "558  4810.0  1.0  \n",
      "371  9124.0  1.0  \n",
      "429  6782.0  1.0  \n",
      "442  6103.0  1.0  \n",
      "528  3988.0  1.0  \n",
      "\n",
      "[230 rows x 11 columns]\n"
     ]
    }
   ],
   "source": [
    "# Planejamento do conjunto de treinamento\n",
    "# - 90% da base com menor frequência\n",
    "# - Base com menor frequência = 128\n",
    "# - Conjunto de treino = 115*2\n",
    "\n",
    "vec_conjunto_treino = pd.concat(vec_conjunto_treino)\n",
    "\n",
    "print(vec_conjunto_treino)\n",
    "\n",
    "vec_conjunto_treino.to_csv('data/conj_vdd_treino_identificacao_praga.csv')"
   ]
  },
  {
   "cell_type": "markdown",
   "metadata": {},
   "source": [
    "----------------"
   ]
  },
  {
   "cell_type": "markdown",
   "metadata": {},
   "source": [
    "### 5.2 - Solução para a identificação de qual tipo de praga"
   ]
  },
  {
   "cell_type": "markdown",
   "metadata": {},
   "source": [
    "### 5.2.1 - Criação do conjunto para teste"
   ]
  },
  {
   "cell_type": "code",
   "execution_count": 21,
   "metadata": {},
   "outputs": [
    {
     "name": "stdout",
     "output_type": "stream",
     "text": [
      "     index     f1     f2     f3      f4      f5      f6      f7      f8  \\\n",
      "74      74  378.0  480.0  591.0   736.0   931.0  1014.0  1076.0  1303.0   \n",
      "45      45  349.0  452.0  561.0   718.0   862.0   933.0  1014.0  1339.0   \n",
      "48      48  334.0  535.0  545.0   870.0   843.0  1138.0  1374.0  1363.0   \n",
      "31      31  289.0  348.0  446.0   596.0   724.0   862.0  1016.0  1186.0   \n",
      "65      65  392.0  504.0  652.0   765.0   984.0  1103.0  1105.0  1377.0   \n",
      "66      66  365.0  482.0  573.0   732.0   870.0  1018.0   976.0  1284.0   \n",
      "118    118  350.0  468.0  577.0   709.0   841.0   981.0  1021.0  1262.0   \n",
      "100    100  299.0  425.0  493.0   709.0   788.0   954.0   942.0  1209.0   \n",
      "272    272  452.0  597.0  820.0   936.0  1180.0  1257.0  1628.0  2043.0   \n",
      "308    308  430.0  535.0  691.0   952.0  1095.0  1248.0  1579.0  1795.0   \n",
      "263    263  438.0  580.0  775.0   956.0  1221.0  1266.0  1636.0  2038.0   \n",
      "321    321  437.0  528.0  691.0   885.0  1044.0  1197.0  1491.0  1786.0   \n",
      "306    306  407.0  521.0  687.0   905.0  1079.0  1176.0  1553.0  1736.0   \n",
      "279    279  405.0  575.0  703.0  1016.0  1140.0  1365.0  1751.0  1979.0   \n",
      "292    292  427.0  536.0  689.0   950.0  1067.0  1281.0  1506.0  1843.0   \n",
      "307    307  418.0  528.0  686.0   942.0  1093.0  1246.0  1574.0  1781.0   \n",
      "502    502  238.0  301.0  387.0   503.0   589.0   653.0   744.0   866.0   \n",
      "359    359  342.0  472.0  581.0   699.0   854.0   994.0  1044.0  1365.0   \n",
      "414    414  317.0  428.0  536.0   674.0   794.0   830.0   961.0  1190.0   \n",
      "441    441  343.0  502.0  641.0   798.0   910.0   927.0  1077.0  1178.0   \n",
      "392    392  285.0  370.0  452.0   582.0   676.0   720.0   773.0   969.0   \n",
      "445    445  318.0  444.0  569.0   716.0  1014.0   855.0  1194.0  1081.0   \n",
      "387    387  271.0  340.0  412.0   531.0   612.0   651.0   696.0   848.0   \n",
      "364    364  351.0  482.0  589.0   737.0   842.0   961.0  1072.0  1285.0   \n",
      "605    605  272.0  342.0  430.0   553.0   696.0   722.0   795.0   981.0   \n",
      "625    625  268.0  345.0  440.0   557.0   710.0   759.0   852.0  1065.0   \n",
      "590    590  275.0  356.0  429.0   584.0   709.0   762.0   815.0  1042.0   \n",
      "602    602  242.0  298.0  363.0   472.0   556.0   622.0   678.0   786.0   \n",
      "634    634  326.0  404.0  501.0   665.0   829.0   921.0   933.0  1229.0   \n",
      "621    621  257.0  326.0  402.0   530.0   642.0   712.0   750.0   937.0   \n",
      "607    607  266.0  325.0  415.0   536.0   666.0   732.0   782.0   954.0   \n",
      "599    599  266.0  341.0  420.0   541.0   669.0   703.0   770.0   952.0   \n",
      "\n",
      "      clear  tipo  \n",
      "74   9209.0   0.0  \n",
      "45   6755.0   0.0  \n",
      "48   6783.0   0.0  \n",
      "31   4851.0   0.0  \n",
      "65   7689.0   0.0  \n",
      "66   7114.0   0.0  \n",
      "118  6608.0   0.0  \n",
      "100  6346.0   0.0  \n",
      "272  8756.0   1.0  \n",
      "308  8077.0   1.0  \n",
      "263  8947.0   1.0  \n",
      "321  7817.0   1.0  \n",
      "306  8282.0   1.0  \n",
      "279  8439.0   1.0  \n",
      "292  8301.0   1.0  \n",
      "307  8238.0   1.0  \n",
      "502  3878.0   2.0  \n",
      "359  7430.0   2.0  \n",
      "414  6903.0   2.0  \n",
      "441  6892.0   2.0  \n",
      "392  5122.0   2.0  \n",
      "445  8192.0   2.0  \n",
      "387  4648.0   2.0  \n",
      "364  6879.0   2.0  \n",
      "605  4841.0   3.0  \n",
      "625  4563.0   3.0  \n",
      "590  4861.0   3.0  \n",
      "602  3787.0   3.0  \n",
      "634  5825.0   3.0  \n",
      "621  3984.0   3.0  \n",
      "607  4644.0   3.0  \n",
      "599  4569.0   3.0  \n"
     ]
    }
   ],
   "source": [
    "# Selecionar as features necessárias\n",
    "df_preprocessado_conj_vdd_praga = df_preprocessado[['index','f1','f2','f3','f4','f5','f6','f7','f8','clear','tipo']]\n",
    "\n",
    "# vetor de bases com tipo = 0, tipo = 1, tipo = 2, tipo = 3\n",
    "vec_conjunto_vdd_praga = []\n",
    "\n",
    "# Dados do Dataframe que a label \"tipo\" é 0\n",
    "df_process_tipo0 = df_preprocessado_conj_vdd_praga[df_preprocessado_conj_vdd_praga['tipo'] == 0.0]\n",
    "\n",
    "df_process_tipo0 = df_process_tipo0.sample(n = 8, random_state=1)\n",
    "\n",
    "vec_conjunto_vdd_praga.append(df_process_tipo0)\n",
    "\n",
    "#------------------------------------------\n",
    "\n",
    "# Dados do Dataframe que a label \"tipo\" é 1\n",
    "df_process_tipo1 = df_preprocessado_conj_vdd_praga[df_preprocessado_conj_vdd_praga['tipo'] == 1.0]\n",
    "\n",
    "df_process_tipo1 = df_process_tipo1.sample(n = 8, random_state=1)\n",
    "\n",
    "vec_conjunto_vdd_praga.append(df_process_tipo1)\n",
    "\n",
    "#------------------------------------------\n",
    "\n",
    "# Dados do Dataframe que a label \"tipo\" é 2\n",
    "df_process_tipo2 = df_preprocessado_conj_vdd_praga[df_preprocessado_conj_vdd_praga['tipo'] == 2.0]\n",
    "\n",
    "df_process_tipo2 = df_process_tipo2.sample(n = 8, random_state=1)\n",
    "\n",
    "vec_conjunto_vdd_praga.append(df_process_tipo2)\n",
    "\n",
    "#------------------------------------------\n",
    "\n",
    "# Dados do Dataframe que a label \"tipo\" é 3\n",
    "df_process_tipo3 = df_preprocessado_conj_vdd_praga[df_preprocessado_conj_vdd_praga['tipo'] == 3.0]\n",
    "\n",
    "# Selecionar uma parcela do dataset randomicamente\n",
    "df_process_tipo3 = df_process_tipo3.sample(n = 8, random_state=1)\n",
    "\n",
    "vec_conjunto_vdd_praga.append(df_process_tipo3)\n",
    "\n",
    "# Planejamento do conjunto de teste\n",
    "# - 10% da base com menor frequência\n",
    "# - Base com menor frequência = 72\n",
    "# - Conjunto de teste = 8*4\n",
    "\n",
    "vec_conjunto_teste_praga = pd.concat(vec_conjunto_vdd_praga)\n",
    "\n",
    "print(vec_conjunto_teste_praga)\n",
    "\n",
    "vec_conjunto_teste_praga.to_csv('data/conj_vdd_teste_identificacao_tipo_praga.csv')\n"
   ]
  },
  {
   "cell_type": "markdown",
   "metadata": {},
   "source": [
    "--------------------"
   ]
  },
  {
   "cell_type": "markdown",
   "metadata": {},
   "source": [
    "### 5.2.2 - Criação do conjunto para treinamento"
   ]
  },
  {
   "cell_type": "code",
   "execution_count": 22,
   "metadata": {},
   "outputs": [
    {
     "name": "stdout",
     "output_type": "stream",
     "text": [
      "     index     f1     f2     f3     f4      f5      f6      f7      f8  \\\n",
      "75      75  354.0  473.0  541.0  716.0   878.0   991.0   990.0  1259.0   \n",
      "49      49  305.0  402.0  475.0  618.0   787.0   863.0   995.0  1118.0   \n",
      "61      61  363.0  490.0  586.0  791.0   969.0  1270.0  1261.0  1804.0   \n",
      "122    122  387.0  524.0  658.0  825.0   919.0   877.0  1112.0  1389.0   \n",
      "79      79  385.0  528.0  621.0  832.0  1063.0  1040.0  1304.0  1514.0   \n",
      "..     ...    ...    ...    ...    ...     ...     ...     ...     ...   \n",
      "612    612  248.0  311.0  385.0  510.0   624.0   685.0   741.0   887.0   \n",
      "570    570  238.0  294.0  362.0  463.0   551.0   622.0   654.0   795.0   \n",
      "551    551  252.0  342.0  434.0  550.0   667.0   703.0   835.0   994.0   \n",
      "622    622  227.0  278.0  348.0  436.0   538.0   589.0   648.0   770.0   \n",
      "561    561  268.0  347.0  434.0  568.0   710.0   761.0   825.0  1051.0   \n",
      "\n",
      "      clear  tipo  \n",
      "75   8699.0   0.0  \n",
      "49   6170.0   0.0  \n",
      "61   8317.0   0.0  \n",
      "122  7230.0   0.0  \n",
      "79   9863.0   0.0  \n",
      "..      ...   ...  \n",
      "612  3988.0   3.0  \n",
      "570  3630.0   3.0  \n",
      "551  4236.0   3.0  \n",
      "622  3666.0   3.0  \n",
      "561  4776.0   3.0  \n",
      "\n",
      "[256 rows x 11 columns]\n"
     ]
    }
   ],
   "source": [
    "# Ids do conjunto de teste\n",
    "ids_praga = vec_conjunto_teste_praga['index'].values\n",
    "\n",
    "# Conjunto de treino sem a ocorrência dos exemplos usados no teste\n",
    "df_conjunto_treino_praga = df_preprocessado[~df_preprocessado['index'].isin(ids_praga)]\n",
    "\n",
    "df_conjunto_treino_praga = df_conjunto_treino_praga[['index','f1','f2','f3','f4','f5','f6','f7','f8','clear','tipo']]\n",
    "\n",
    "# vetor de bases com tipo = 0, tipo = 1, tipo = 2, tipo = 3\n",
    "vec_conjunto_treino_praga = []\n",
    "\n",
    "# Dados do Dataframe que a label \"tipo\" é 0\n",
    "df_process_tipo0_treino = df_conjunto_treino_praga[df_conjunto_treino_praga['tipo'] == 0.0]\n",
    "\n",
    "# Selecionar uma parcela do dataset randomicamente\n",
    "df_process_tipo0_treino = df_process_tipo0_treino.sample(n = 64, random_state=1)\n",
    "\n",
    "vec_conjunto_treino_praga.append(df_process_tipo0_treino)\n",
    "\n",
    "#--------------------------\n",
    "\n",
    "# Dados do Dataframe que a label \"tipo\" é 1\n",
    "df_process_tipo1_treino = df_conjunto_treino_praga[df_conjunto_treino_praga['tipo'] == 1.0]\n",
    "\n",
    "# Selecionar uma parcela do dataset randomicamente\n",
    "df_process_tipo1_treino = df_process_tipo1_treino.sample(n = 64, random_state=1)\n",
    "\n",
    "vec_conjunto_treino_praga.append(df_process_tipo1_treino)\n",
    "\n",
    "#--------------------------\n",
    "\n",
    "# Dados do Dataframe que a label \"tipo\" é 2\n",
    "df_process_tipo2_treino = df_conjunto_treino_praga[df_conjunto_treino_praga['tipo'] == 2.0]\n",
    "\n",
    "# Selecionar uma parcela do dataset randomicamente\n",
    "df_process_tipo2_treino = df_process_tipo2_treino.sample(n = 64, random_state=1)\n",
    "\n",
    "vec_conjunto_treino_praga.append(df_process_tipo2_treino)\n",
    "\n",
    "#--------------------------\n",
    "\n",
    "# Dados do Dataframe que a label \"tipo\" é 3\n",
    "df_process_tipo3_treino = df_conjunto_treino_praga[df_conjunto_treino_praga['tipo'] == 3.0]\n",
    "\n",
    "# Selecionar uma parcela do dataset randomicamente\n",
    "df_process_tipo3_treino = df_process_tipo3_treino.sample(n = 64, random_state=1)\n",
    "\n",
    "vec_conjunto_treino_praga.append(df_process_tipo3_treino)\n",
    "\n",
    "# Planejamento do conjunto de teste\n",
    "# - 90% da base com menor frequência\n",
    "# - Base com menor frequência = 72\n",
    "# - Conjunto de teste = 64*4\n",
    "\n",
    "vec_conjunto_treino_praga_ok = pd.concat(vec_conjunto_treino_praga)\n",
    "\n",
    "print(vec_conjunto_treino_praga_ok)\n",
    "\n",
    "vec_conjunto_treino_praga_ok.to_csv('data/conj_vdd_treino_identificacao_tipo_praga.csv')"
   ]
  },
  {
   "cell_type": "markdown",
   "metadata": {},
   "source": [
    "-------------------"
   ]
  },
  {
   "cell_type": "markdown",
   "metadata": {},
   "source": [
    "## 6 - Modelos de Classificação"
   ]
  },
  {
   "cell_type": "markdown",
   "metadata": {},
   "source": [
    "## 6.1 - Funções para auxiliar a otimização de hiperparâmetros"
   ]
  },
  {
   "cell_type": "markdown",
   "metadata": {},
   "source": [
    "#### Cross Validation"
   ]
  },
  {
   "cell_type": "code",
   "execution_count": 23,
   "metadata": {},
   "outputs": [],
   "source": [
    "def validacao_cruzada(model,X,target):\n",
    "        \n",
    "    modelo = model\n",
    "\n",
    "    kf = KFold(10, shuffle=True, random_state=1)\n",
    "\n",
    "    ac_v = []\n",
    "    cm_v = []\n",
    "    p_v = []\n",
    "    r_v = []\n",
    "    f1_v = []\n",
    "    e_v = []\n",
    "    predicts = []\n",
    "    targets = []\n",
    "\n",
    "    for train_index,teste_index in kf.split(X,target):\n",
    "\n",
    "        X_train, X_test = X[train_index],X[teste_index]\n",
    "\n",
    "        y_train, y_test = target[train_index], target[teste_index]\n",
    "\n",
    "        model.fit(X_train,y_train)\n",
    "        pred = model.predict(X_test)\n",
    "        ac = accuracy_score(y_test, pred)\n",
    "        p = precision_score(y_test, pred,average='weighted')\n",
    "        r = recall_score(y_test, pred,average='weighted')\n",
    "        f1 = (2*p*r)/(p+r)\n",
    "        e = mean_squared_error(y_test, pred)\n",
    "        cm = confusion_matrix(y_test,pred)\n",
    "        cm_v.append(cm)\n",
    "        ac_v.append(ac)\n",
    "        p_v.append(p)\n",
    "        r_v.append(r)\n",
    "        f1_v.append(f1)\n",
    "        e_v.append(e)\n",
    "        predicts.append(pred)\n",
    "        targets.append(y_test)\n",
    "\n",
    "    ac = statistics.median(ac_v)\n",
    "    p = statistics.median(p_v)\n",
    "    f1 = statistics.median(f1_v)\n",
    "    r = statistics.median(r_v)\n",
    "    e = statistics.median(e_v)\n",
    "\n",
    "    print('--------------------')\n",
    "    print('acuracia:', ac)\n",
    "    print('precisao:', p)\n",
    "    print('recall:', r)\n",
    "    print('f1-score:', f1)\n",
    "    print('erro:', e)\n",
    "    print('--------------------')\n",
    "    \n",
    "    return predicts,targets,ac,p,r,f1,e,ac_v"
   ]
  },
  {
   "cell_type": "markdown",
   "metadata": {},
   "source": [
    "#### Random Forest"
   ]
  },
  {
   "cell_type": "code",
   "execution_count": 24,
   "metadata": {},
   "outputs": [],
   "source": [
    "def melhores_parametros_RF(X,y):\n",
    "    \n",
    "    param_grid = {\n",
    "        'bootstrap': [True],\n",
    "        'max_depth': [80, 90, 100, 110],\n",
    "        'max_features': [2, 3, 5],\n",
    "        'min_samples_leaf': [3, 4, 5, 8],\n",
    "        'min_samples_split': [5, 8, 10, 12],\n",
    "        'n_estimators': [100, 200, 300, 500, 1000]\n",
    "    }\n",
    "\n",
    "    rf = RandomForestRegressor()\n",
    "    \n",
    "    grid_search = GridSearchCV(estimator = rf, param_grid = param_grid, cv = 10, n_jobs = -1, verbose = 2)\n",
    "    grid_search.fit(X, y.values.ravel())\n",
    "\n",
    "    print(grid_search.best_params_)"
   ]
  },
  {
   "cell_type": "code",
   "execution_count": 25,
   "metadata": {},
   "outputs": [],
   "source": [
    "def comparacao_RF(X, y, n_estimators, min_samples_split, min_samples_leaf, max_features, max_depth, bootstrap):\n",
    "        \n",
    "    print('-----RF SEM OTIMIZAÇÃO------')\n",
    "\n",
    "    base_model = RandomForestClassifier()\n",
    "\n",
    "    base_rf = validacao_cruzada(base_model, X, y.values.ravel())\n",
    "\n",
    "    print('-----RF COM OTIMIZAÇÃO-----')\n",
    "\n",
    "    best_random = RandomForestClassifier(n_estimators = n_estimators, min_samples_split = min_samples_split, min_samples_leaf = min_samples_leaf, max_features = max_features, max_depth = max_depth, bootstrap=bootstrap)\n",
    "\n",
    "    best_rf = validacao_cruzada(best_random, X, y.values.ravel())\n",
    "\n",
    "    return 1\n",
    "    "
   ]
  },
  {
   "cell_type": "markdown",
   "metadata": {},
   "source": [
    "#### SVM"
   ]
  },
  {
   "cell_type": "code",
   "execution_count": 26,
   "metadata": {},
   "outputs": [],
   "source": [
    "def melhores_parametros_SVM(X,y):\n",
    "    Cs = [0.001, 0.01, 0.1, 1, 10, 100]\n",
    "    gammas = [0.001, 0.01, 0.1, 1, 10, 100, 'auto']\n",
    "    kernel = ['linear', 'rbf']\n",
    "    decision_function_shape = ['ovo','ovr']\n",
    "    shrinking = [True,False]\n",
    "    \n",
    "    param_grid = {'C': Cs, \n",
    "                  'gamma' : gammas, \n",
    "                  'kernel': kernel, \n",
    "                  'decision_function_shape': decision_function_shape, \n",
    "                  'shrinking': shrinking}\n",
    "    \n",
    "    grid_search = GridSearchCV(SVC(), param_grid, cv=10, n_jobs = -1, verbose = 2)\n",
    "    grid_search.fit(X, y.values.ravel())\n",
    "        \n",
    "    print(grid_search.best_params_)"
   ]
  },
  {
   "cell_type": "code",
   "execution_count": 27,
   "metadata": {},
   "outputs": [],
   "source": [
    "def comparacao_SVM(X, y, C, gamma, kernel, decision_function_shape, shrinking):\n",
    "    \n",
    "    print('-----SVM SEM OTIMIZAÇÂO-----')\n",
    "    clf = SVC()\n",
    "\n",
    "    base_svc = validacao_cruzada(clf, X, y.values.ravel())\n",
    "    \n",
    "    print('-----SVM COM OTIMIZAÇÂO-----')\n",
    "    \n",
    "    clf = SVC(C=C, gamma=gamma, kernel= kernel, decision_function_shape = decision_function_shape, shrinking = shrinking)\n",
    "\n",
    "    best_svc = validacao_cruzada(clf, X, y.values.ravel())\n",
    "    \n",
    "    return 1"
   ]
  },
  {
   "cell_type": "markdown",
   "metadata": {},
   "source": [
    "#### NB"
   ]
  },
  {
   "cell_type": "code",
   "execution_count": 28,
   "metadata": {},
   "outputs": [],
   "source": [
    "def melhores_parametros_NB(X,y):\n",
    "    \n",
    "    gaussian_nb = GaussianNB() \n",
    "    \n",
    "    params_NB = {\n",
    "        'var_smoothing': np.logspace(0,-100, num=100)\n",
    "    }\n",
    "    \n",
    "    grid_search = GridSearchCV(gaussian_nb, params_NB, cv=10, n_jobs = -1, verbose = 2)\n",
    "    grid_search.fit(X, y.values.ravel())\n",
    "\n",
    "    print(grid_search.best_params_)"
   ]
  },
  {
   "cell_type": "code",
   "execution_count": 29,
   "metadata": {},
   "outputs": [],
   "source": [
    "def comparacao_NB(X,y,var_smoothing):\n",
    "        \n",
    "    print('-----NB SEM OTIMIZAÇÂO-----')\n",
    "\n",
    "    clf = GaussianNB()\n",
    "\n",
    "    base_nb = validacao_cruzada(clf, X, y.values.ravel())\n",
    "    \n",
    "    print('-----NB COM OTIMIZAÇÂO-----')\n",
    "    \n",
    "    eclf = GaussianNB(var_smoothing = var_smoothing)\n",
    "\n",
    "    best_nb = validacao_cruzada(eclf, X, y.values.ravel())\n",
    "    \n",
    "    return 1"
   ]
  },
  {
   "cell_type": "markdown",
   "metadata": {},
   "source": [
    "#### DT"
   ]
  },
  {
   "cell_type": "code",
   "execution_count": 30,
   "metadata": {},
   "outputs": [],
   "source": [
    "def melhores_parametros_DT(X,y):\n",
    "\n",
    "    dt_classifier = DecisionTreeClassifier() \n",
    "\n",
    "    max_depth = range(1,1000)\n",
    "    criterion = ['gini', 'entropy']\n",
    "    param_grid = {'max_depth': max_depth, \n",
    "                  'criterion' : criterion}\n",
    "    \n",
    "    grid_search = GridSearchCV(dt_classifier, param_grid, cv=10, n_jobs = -1, verbose = 2)\n",
    "    grid_search.fit(X, y.values.ravel())\n",
    "\n",
    "    print(grid_search.best_params_)"
   ]
  },
  {
   "cell_type": "code",
   "execution_count": 31,
   "metadata": {},
   "outputs": [],
   "source": [
    "def comparacao_DT(X,y,criterion,max_depth):\n",
    "    \n",
    "    print('-----DT SEM OTIMIZAÇÂO-----')\n",
    "\n",
    "    clf = DecisionTreeClassifier()\n",
    "\n",
    "    base_dt = validacao_cruzada(clf, X, y.values.ravel())\n",
    "    \n",
    "    print('-----DT COM OTIMIZAÇÂO-----')\n",
    "    \n",
    "    eclf = DecisionTreeClassifier(criterion = criterion, max_depth = max_depth)\n",
    "\n",
    "    best_dt = validacao_cruzada(eclf, X, y.values.ravel())\n",
    "    \n",
    "    return 1"
   ]
  },
  {
   "cell_type": "markdown",
   "metadata": {},
   "source": [
    "#### RL"
   ]
  },
  {
   "cell_type": "code",
   "execution_count": 32,
   "metadata": {},
   "outputs": [],
   "source": [
    "def melhores_parametros_RL(X,y):\n",
    "    \n",
    "    lr_classifier = LogisticRegression() \n",
    "     \n",
    "    param_grid = {'penalty': ['l1', 'l2'],\n",
    "                  'C':[0.001,0.009,0.01,0.09,1,5,10,25,50,100], \n",
    "                  'solver' : ['liblinear','saga'], \n",
    "                  'multi_class' : ['ovr','auto']}\n",
    "   \n",
    "    grid_search = GridSearchCV(lr_classifier, param_grid, cv=10, n_jobs = -1, verbose = 2)\n",
    "    grid_search.fit(X, y.values.ravel())\n",
    "\n",
    "    print(grid_search.best_params_)"
   ]
  },
  {
   "cell_type": "code",
   "execution_count": 33,
   "metadata": {},
   "outputs": [],
   "source": [
    "def comparacao_RL(X,y,C,penalty,multi_class,solver):\n",
    "    \n",
    "    print('-----RL SEM OTIMIZAÇÂO-----')\n",
    "    clf = LogisticRegression()\n",
    "\n",
    "    base_rl = validacao_cruzada(clf, X, y.values.ravel())\n",
    "    \n",
    "    print('-----RL COM OTIMIZAÇÂO-----')\n",
    "    eclf = LogisticRegression(C = C, penalty = penalty, multi_class=multi_class, solver=solver)\n",
    "\n",
    "    best_rl = validacao_cruzada(eclf, X, y.values.ravel())\n",
    "        "
   ]
  },
  {
   "cell_type": "markdown",
   "metadata": {},
   "source": [
    "----------------"
   ]
  },
  {
   "cell_type": "markdown",
   "metadata": {},
   "source": [
    "## 6.2 - Identificação de pragas"
   ]
  },
  {
   "cell_type": "code",
   "execution_count": 34,
   "metadata": {},
   "outputs": [
    {
     "name": "stdout",
     "output_type": "stream",
     "text": [
      "        f1     f2     f3     f4      f5      f6      f7      f8   clear    y\n",
      "78   260.0  378.0  496.0  636.0   782.0   757.0   994.0  1207.0  5787.0  0.0\n",
      "159  435.0  521.0  658.0  816.0  1014.0  1135.0  1154.0  1450.0  8361.0  1.0\n",
      "53   295.0  375.0  503.0  620.0   747.0   794.0   929.0  1157.0  5534.0  0.0\n",
      "97   302.0  420.0  495.0  729.0   791.0   938.0   958.0  1318.0  5683.0  0.0\n",
      "221  412.0  553.0  666.0  836.0   973.0  1075.0  1177.0  1464.0  8054.0  1.0\n",
      "..     ...    ...    ...    ...     ...     ...     ...     ...     ...  ...\n",
      "38   337.0  399.0  552.0  673.0   820.0   749.0   992.0  1123.0  5960.0  0.0\n",
      "35   265.0  337.0  453.0  540.0   718.0   694.0   815.0   946.0  5496.0  0.0\n",
      "47   324.0  464.0  548.0  785.0   870.0   939.0  1097.0  1224.0  7272.0  0.0\n",
      "99   382.0  497.0  666.0  864.0  1116.0  1221.0  1412.0  1706.0  8676.0  0.0\n",
      "190  262.0  335.0  413.0  552.0   664.0   712.0   780.0   953.0  4525.0  1.0\n",
      "\n",
      "[230 rows x 10 columns]\n"
     ]
    }
   ],
   "source": [
    "# Carregar os dados\n",
    "dados = pd.read_csv('data/conj_vdd_treino_identificacao_praga.csv')\n",
    "\n",
    "# Embaralhar os dados\n",
    "dados = dados.sample(n = 230) \n",
    "\n",
    "# Excluir e resetar as colunas que não são importantes\n",
    "dados = dados.drop('Unnamed: 0', 1)\n",
    "dados = dados.drop('index', 1)\n",
    "\n",
    "print(dados)\n",
    "\n",
    "#------Features------\n",
    "X_id_praga = dados.iloc[:, 0: len(dados.columns)-1]\n",
    "y_id_praga = dados.iloc[:, len(dados.columns)-1:len(dados.columns)]\n",
    "\n",
    "#------Normalização das Features------\n",
    "scaler = Normalizer()\n",
    "X_id_praga = scaler.fit_transform(X_id_praga)"
   ]
  },
  {
   "cell_type": "markdown",
   "metadata": {},
   "source": [
    "--------------"
   ]
  },
  {
   "cell_type": "markdown",
   "metadata": {},
   "source": [
    "### 6.2.1 - Otimização de Hiperparâmetros do Random Forest"
   ]
  },
  {
   "cell_type": "code",
   "execution_count": 35,
   "metadata": {},
   "outputs": [],
   "source": [
    "# Busca pelos melhores parâmetros para se usar no Random Forest\n",
    "#melhores_parametros_RF(X_id_praga,y_id_praga)"
   ]
  },
  {
   "cell_type": "markdown",
   "metadata": {},
   "source": [
    "Melhores parâmetros para RF:\n",
    "- n_estimators: 500\n",
    "- min_samples_split: 5\n",
    "- min_samples_leaf: 3\n",
    "- max_features: 5\n",
    "- max_depth: 90\n",
    "- bootstrap: True\n",
    "\n",
    "Tempo de Execução: 57.3min finished"
   ]
  },
  {
   "cell_type": "code",
   "execution_count": 36,
   "metadata": {},
   "outputs": [
    {
     "name": "stdout",
     "output_type": "stream",
     "text": [
      "-----RF SEM OTIMIZAÇÃO------\n",
      "--------------------\n",
      "acuracia: 0.8260869565217391\n",
      "precisao: 0.859666149068323\n",
      "recall: 0.8260869565217391\n",
      "f1-score: 0.8421699895801886\n",
      "erro: 0.17391304347826086\n",
      "--------------------\n",
      "-----RF COM OTIMIZAÇÃO-----\n",
      "--------------------\n",
      "acuracia: 0.8478260869565217\n",
      "precisao: 0.859666149068323\n",
      "recall: 0.8478260869565217\n",
      "f1-score: 0.853248066846478\n",
      "erro: 0.15217391304347827\n",
      "--------------------\n"
     ]
    },
    {
     "data": {
      "text/plain": [
       "1"
      ]
     },
     "execution_count": 36,
     "metadata": {},
     "output_type": "execute_result"
    }
   ],
   "source": [
    "# Comparação entre os melhores parâmetros encontrados do RF com o default\n",
    "comparacao_RF(X_id_praga,\n",
    "              y_id_praga,\n",
    "              n_estimators = 500, \n",
    "              min_samples_split = 5, \n",
    "              min_samples_leaf = 3, \n",
    "              max_features = 5, \n",
    "              max_depth = 90, \n",
    "              bootstrap=True) "
   ]
  },
  {
   "cell_type": "markdown",
   "metadata": {},
   "source": [
    "### 6.2.2 - Otimização de Hiperparâmetros do SVM"
   ]
  },
  {
   "cell_type": "code",
   "execution_count": 37,
   "metadata": {},
   "outputs": [],
   "source": [
    "# Busca pelos melhores parâmetros para se usar no SVM\n",
    "#melhores_parametros_SVM(X_id_praga, y_id_praga)"
   ]
  },
  {
   "cell_type": "markdown",
   "metadata": {},
   "source": [
    "Melhores parâmetros para o SVM:\n",
    "- C: 100\n",
    "- Gamma: 100\n",
    "- Kernel: rbf\n",
    "- decision_function_shape: ovo\n",
    "- shrinking: True\n",
    "\n",
    "Tempo de Execução: 100"
   ]
  },
  {
   "cell_type": "code",
   "execution_count": 38,
   "metadata": {},
   "outputs": [
    {
     "name": "stdout",
     "output_type": "stream",
     "text": [
      "-----SVM SEM OTIMIZAÇÂO-----\n",
      "--------------------\n",
      "acuracia: 0.41304347826086957\n",
      "precisao: 0.17107750472589792\n",
      "recall: 0.41304347826086957\n",
      "f1-score: 0.2418066534914361\n",
      "erro: 0.5869565217391304\n",
      "--------------------\n",
      "-----SVM COM OTIMIZAÇÂO-----\n",
      "--------------------\n",
      "acuracia: 0.9130434782608695\n",
      "precisao: 0.9276375798114929\n",
      "recall: 0.9130434782608695\n",
      "f1-score: 0.9202822779012365\n",
      "erro: 0.08695652173913043\n",
      "--------------------\n"
     ]
    },
    {
     "data": {
      "text/plain": [
       "1"
      ]
     },
     "execution_count": 38,
     "metadata": {},
     "output_type": "execute_result"
    }
   ],
   "source": [
    "comparacao_SVM(X_id_praga, \n",
    "               y_id_praga, \n",
    "               100, \n",
    "               100, \n",
    "               'rbf', \n",
    "               'ovo', \n",
    "               True)"
   ]
  },
  {
   "cell_type": "markdown",
   "metadata": {},
   "source": [
    "### 6.2.3 - Otimização de Hiperparâmetros da Regressão Logística"
   ]
  },
  {
   "cell_type": "code",
   "execution_count": 39,
   "metadata": {},
   "outputs": [],
   "source": [
    "# Busca pelos melhores parâmetros para se usar no RL\n",
    "#melhores_parametros_RL(X_id_praga,y_id_praga)"
   ]
  },
  {
   "cell_type": "markdown",
   "metadata": {},
   "source": [
    "Melhores parâmetros para a RL:\n",
    "- C: 100\n",
    "- penalty: l1\n",
    "- multi_class: ovr\n",
    "- solver: liblinear\n",
    "\n",
    "Tempo de execução: 4.9s finished"
   ]
  },
  {
   "cell_type": "code",
   "execution_count": 40,
   "metadata": {},
   "outputs": [
    {
     "name": "stdout",
     "output_type": "stream",
     "text": [
      "-----RL SEM OTIMIZAÇÂO-----\n",
      "--------------------\n",
      "acuracia: 0.5217391304347826\n",
      "precisao: 0.5912190963341859\n",
      "recall: 0.5217391304347826\n",
      "f1-score: 0.5579778819604896\n",
      "erro: 0.4782608695652174\n",
      "--------------------\n",
      "-----RL COM OTIMIZAÇÂO-----\n",
      "--------------------\n",
      "acuracia: 0.9130434782608695\n",
      "precisao: 0.9130434782608695\n",
      "recall: 0.9130434782608695\n",
      "f1-score: 0.9130434782608695\n",
      "erro: 0.08695652173913043\n",
      "--------------------\n"
     ]
    }
   ],
   "source": [
    "comparacao_RL(X_id_praga, \n",
    "              y_id_praga,\n",
    "              100,\n",
    "              'l1', \n",
    "              'ovr', \n",
    "              'liblinear')"
   ]
  },
  {
   "cell_type": "markdown",
   "metadata": {},
   "source": [
    "### 6.2.4 - Otimização de Hiperparâmetros do Naive Bayes"
   ]
  },
  {
   "cell_type": "code",
   "execution_count": 41,
   "metadata": {
    "scrolled": true
   },
   "outputs": [],
   "source": [
    "# Busca pelos melhores parâmetros para se usar no NB\n",
    "#melhores_parametros_NB(X_id_praga,y_id_praga)"
   ]
  },
  {
   "cell_type": "markdown",
   "metadata": {},
   "source": [
    "Melhores parâmetros para o NB:\n",
    "- var_smoothing: 0.0009326033468832199\n",
    "\n",
    "Tempo de execução: 1.6s finished"
   ]
  },
  {
   "cell_type": "code",
   "execution_count": 42,
   "metadata": {},
   "outputs": [
    {
     "name": "stdout",
     "output_type": "stream",
     "text": [
      "-----NB SEM OTIMIZAÇÂO-----\n",
      "--------------------\n",
      "acuracia: 0.6521739130434783\n",
      "precisao: 0.6539855072463767\n",
      "recall: 0.6521739130434783\n",
      "f1-score: 0.6512655928303257\n",
      "erro: 0.34782608695652173\n",
      "--------------------\n",
      "-----NB COM OTIMIZAÇÂO-----\n",
      "--------------------\n",
      "acuracia: 0.6521739130434783\n",
      "precisao: 0.6539855072463767\n",
      "recall: 0.6521739130434783\n",
      "f1-score: 0.6512655928303257\n",
      "erro: 0.34782608695652173\n",
      "--------------------\n"
     ]
    },
    {
     "data": {
      "text/plain": [
       "1"
      ]
     },
     "execution_count": 42,
     "metadata": {},
     "output_type": "execute_result"
    }
   ],
   "source": [
    "comparacao_NB(X_id_praga, \n",
    "              y_id_praga,\n",
    "              0.0009326033468832199)"
   ]
  },
  {
   "cell_type": "markdown",
   "metadata": {},
   "source": [
    "### 6.2.5 - Otimização de Hiperparâmetros do Decision Tree"
   ]
  },
  {
   "cell_type": "code",
   "execution_count": 43,
   "metadata": {},
   "outputs": [],
   "source": [
    "# Busca pelos melhores parâmetros para se usar no DT\n",
    "#melhores_parametros_DT(X_id_praga,y_id_praga)"
   ]
  },
  {
   "cell_type": "markdown",
   "metadata": {},
   "source": [
    "Melhores parâmetros para o DT:\n",
    "- criterion: entropy\n",
    "- max_depth: 617\n",
    "\n",
    "Tempo de Execução: 33.9s finished"
   ]
  },
  {
   "cell_type": "code",
   "execution_count": 44,
   "metadata": {},
   "outputs": [
    {
     "name": "stdout",
     "output_type": "stream",
     "text": [
      "-----DT SEM OTIMIZAÇÂO-----\n",
      "--------------------\n",
      "acuracia: 0.782608695652174\n",
      "precisao: 0.8148880105401844\n",
      "recall: 0.782608695652174\n",
      "f1-score: 0.8034515797852355\n",
      "erro: 0.21739130434782608\n",
      "--------------------\n",
      "-----DT COM OTIMIZAÇÂO-----\n",
      "--------------------\n",
      "acuracia: 0.8043478260869565\n",
      "precisao: 0.8391210239036326\n",
      "recall: 0.8043478260869565\n",
      "f1-score: 0.8251871621852842\n",
      "erro: 0.19565217391304346\n",
      "--------------------\n"
     ]
    },
    {
     "data": {
      "text/plain": [
       "1"
      ]
     },
     "execution_count": 44,
     "metadata": {},
     "output_type": "execute_result"
    }
   ],
   "source": [
    "comparacao_DT(X_id_praga,\n",
    "              y_id_praga,\n",
    "              'entropy',\n",
    "              617)"
   ]
  },
  {
   "cell_type": "markdown",
   "metadata": {},
   "source": [
    "------------"
   ]
  },
  {
   "cell_type": "markdown",
   "metadata": {},
   "source": [
    "## 6.2.6 - Avaliação na base de teste e validação estatística quanto aos outros classificadores"
   ]
  },
  {
   "cell_type": "code",
   "execution_count": 45,
   "metadata": {},
   "outputs": [
    {
     "name": "stdout",
     "output_type": "stream",
     "text": [
      "       f1     f2     f3      f4      f5      f6      f7      f8   clear    y\n",
      "14  240.0  311.0  405.0   528.0   630.0   702.0   842.0   990.0  3854.0  1.0\n",
      "4   244.0  300.0  373.0   511.0   615.0   692.0   734.0   884.0  4418.0  0.0\n",
      "19  307.0  438.0  546.0   712.0   852.0   822.0  1032.0  1091.0  6841.0  1.0\n",
      "7   262.0  315.0  399.0   547.0   659.0   757.0   837.0   997.0  4237.0  0.0\n",
      "9   252.0  316.0  398.0   534.0   665.0   705.0   779.0   930.0  4376.0  0.0\n",
      "17  239.0  290.0  389.0   490.0   610.0   685.0   779.0   918.0  4067.0  1.0\n",
      "23  248.0  311.0  385.0   510.0   624.0   685.0   741.0   887.0  3988.0  1.0\n",
      "15  337.0  443.0  524.0   663.0   784.0   949.0   946.0  1292.0  6253.0  1.0\n",
      "21  301.0  402.0  481.0   632.0   735.0   847.0   874.0  1096.0  6570.0  1.0\n",
      "6   279.0  357.0  476.0   568.0   751.0   707.0   877.0   986.0  5710.0  0.0\n",
      "5   272.0  347.0  471.0   559.0   744.0   701.0   851.0   957.0  5630.0  0.0\n",
      "0   279.0  354.0  480.0   567.0   764.0   706.0   876.0   974.0  5791.0  0.0\n",
      "13  235.0  300.0  362.0   484.0   559.0   592.0   643.0   740.0  3901.0  1.0\n",
      "11  265.0  331.0  441.0   542.0   714.0   699.0   832.0   947.0  5219.0  0.0\n",
      "8   232.0  279.0  355.0   484.0   572.0   631.0   696.0   795.0  3792.0  0.0\n",
      "10  263.0  333.0  438.0   541.0   707.0   704.0   813.0   947.0  5031.0  0.0\n",
      "1   268.0  336.0  446.0   549.0   715.0   700.0   842.0   954.0  5264.0  0.0\n",
      "25  344.0  454.0  570.0   710.0   839.0   944.0  1004.0  1224.0  6707.0  1.0\n",
      "12  322.0  447.0  570.0   727.0   919.0   997.0  1306.0  1521.0  7792.0  0.0\n",
      "2   269.0  382.0  483.0   664.0   774.0   850.0  1083.0  1308.0  5917.0  0.0\n",
      "20  289.0  348.0  446.0   596.0   724.0   862.0  1016.0  1186.0  4851.0  1.0\n",
      "22  301.0  369.0  442.0   582.0   734.0   785.0   809.0   962.0  5397.0  1.0\n",
      "16  361.0  489.0  581.0   727.0   965.0  1085.0  1060.0  1353.0  7678.0  1.0\n",
      "3   326.0  423.0  583.0   737.0   929.0  1029.0  1248.0  1512.0  7718.0  0.0\n",
      "24  240.0  313.0  406.0   536.0   630.0   710.0   845.0   990.0  3764.0  1.0\n",
      "18  475.0  626.0  871.0  1023.0  1308.0  1397.0  1791.0  2207.0  8475.0  1.0\n"
     ]
    }
   ],
   "source": [
    "# Carregar os dados\n",
    "dados_praga_teste = pd.read_csv('data/conj_vdd_teste_identificacao_praga.csv')\n",
    "\n",
    "# Embaralhar os dados\n",
    "dados_praga_teste = dados_praga_teste.sample(n = 26) \n",
    "\n",
    "# Excluir e resetar as colunas que não são importantes\n",
    "dados_praga_teste = dados_praga_teste.drop('Unnamed: 0', 1)\n",
    "dados_praga_teste = dados_praga_teste.drop('index', 1)\n",
    "\n",
    "print(dados_praga_teste)\n",
    "\n",
    "#------Features------\n",
    "X_id_praga_teste = dados_praga_teste.iloc[:, 0: len(dados_praga_teste.columns)-1]\n",
    "y_id_praga_teste = dados_praga_teste.iloc[:, len(dados_praga_teste.columns)-1:len(dados_praga_teste.columns)]\n",
    "\n",
    "#------Normalização das Features------\n",
    "scaler = Normalizer()\n",
    "X_id_praga_teste = scaler.fit_transform(X_id_praga_teste)"
   ]
  },
  {
   "cell_type": "code",
   "execution_count": 46,
   "metadata": {},
   "outputs": [],
   "source": [
    "#  Criação do Dataframe com resultados dos classificadores\n",
    "colunas = ['tipo', 'acurácia','precisão', 'recall', 'f1score']\n",
    "df_resultado_praga = pd.DataFrame(columns = colunas)\n",
    "\n",
    "# Criação do Dataframe com os valores de saída preditos\n",
    "colunas = ['y_rf', 'y_dt', 'y_svm', 'y_rl', 'y_nb']\n",
    "df_valores_preditos_praga = pd.DataFrame(columns = colunas)"
   ]
  },
  {
   "cell_type": "markdown",
   "metadata": {},
   "source": [
    "### RF"
   ]
  },
  {
   "cell_type": "code",
   "execution_count": 47,
   "metadata": {},
   "outputs": [],
   "source": [
    "# Criação do modelo\n",
    "modelo_rf_praga = RandomForestClassifier(n_estimators = 500, min_samples_split = 5, \n",
    "                                         min_samples_leaf = 3, max_features = 5, \n",
    "                                         max_depth = 90, bootstrap=True)\n",
    "\n",
    "# Treinamento do modelo\n",
    "modelo_rf_praga = modelo_rf_praga.fit(X_id_praga, y_id_praga.values)\n",
    "\n",
    "# Prevendo os valores de y\n",
    "result_rf_praga = modelo_rf_praga.predict(X_id_praga_teste)\n",
    "\n",
    "# Métricas de avaliação\n",
    "metricas = precision_recall_fscore_support(y_id_praga_teste.values, result_rf_praga, average='macro')\n",
    "\n",
    "# Acurácia do Modelo\n",
    "acuracia = modelo_rf_praga.score(X_id_praga_teste, y_id_praga_teste.values)\n",
    "\n",
    "# Inclusão das métricas de avaliação\n",
    "df_resultado_praga.loc[0, 'tipo'] = 'RF'\n",
    "df_resultado_praga.loc[0, 'acurácia'] = acuracia\n",
    "df_resultado_praga.loc[0, 'precisão'] = metricas[0]\n",
    "df_resultado_praga.loc[0, 'recall'] = metricas[1]\n",
    "df_resultado_praga.loc[0,'f1score'] = metricas[2]\n",
    "\n",
    "# Incluir os valores preditos pelo RF\n",
    "df_valores_preditos_praga['y_rf'] = result_rf_praga"
   ]
  },
  {
   "cell_type": "markdown",
   "metadata": {},
   "source": [
    "### DT"
   ]
  },
  {
   "cell_type": "code",
   "execution_count": 48,
   "metadata": {},
   "outputs": [],
   "source": [
    "# Criação do modelo\n",
    "modelo_dt_praga = DecisionTreeClassifier(criterion = 'entropy', max_depth = 617)\n",
    "\n",
    "# Treinamento do modelo\n",
    "modelo_dt_praga = modelo_dt_praga.fit(X_id_praga, y_id_praga.values)\n",
    "\n",
    "# Prevendo os valores de y\n",
    "result_dt_praga = modelo_dt_praga.predict(X_id_praga_teste)\n",
    "\n",
    "# Métricas de avaliação\n",
    "metricas = precision_recall_fscore_support(y_id_praga_teste.values, result_dt_praga, average='macro')\n",
    "\n",
    "# Acurácia do Modelo\n",
    "acuracia = modelo_dt_praga.score(X_id_praga_teste, y_id_praga_teste.values)\n",
    "\n",
    "# Inclusão das métricas de avaliação\n",
    "df_resultado_praga.loc[1, 'tipo'] = 'DT'\n",
    "df_resultado_praga.loc[1, 'acurácia'] = acuracia\n",
    "df_resultado_praga.loc[1, 'precisão'] = metricas[0]\n",
    "df_resultado_praga.loc[1, 'recall'] = metricas[1]\n",
    "df_resultado_praga.loc[1,'f1score'] = metricas[2]\n",
    "\n",
    "# Incluir os valores preditos pelo DT\n",
    "df_valores_preditos_praga['y_dt'] = result_dt_praga"
   ]
  },
  {
   "cell_type": "markdown",
   "metadata": {},
   "source": [
    "### SVM"
   ]
  },
  {
   "cell_type": "code",
   "execution_count": 49,
   "metadata": {},
   "outputs": [],
   "source": [
    "# Criação do modelo\n",
    "modelo_svm_praga = SVC(C= 100, gamma= 100, kernel= 'rbf', decision_function_shape = 'ovo', shrinking = True)\n",
    "         \n",
    "# Treinamento do modelo\n",
    "modelo_svm_praga = modelo_svm_praga.fit(X_id_praga, y_id_praga.values)\n",
    "\n",
    "# Prevendo os valores de y\n",
    "result_svm_praga = modelo_svm_praga.predict(X_id_praga_teste)\n",
    "\n",
    "# Métricas de avaliação\n",
    "metricas = precision_recall_fscore_support(y_id_praga_teste.values, result_svm_praga, average='macro')\n",
    "\n",
    "# Acurácia do Modelo\n",
    "acuracia = modelo_svm_praga.score(X_id_praga_teste, y_id_praga_teste.values)\n",
    "\n",
    "# Inclusão das métricas de avaliação\n",
    "df_resultado_praga.loc[2, 'tipo'] = 'SVM'\n",
    "df_resultado_praga.loc[2, 'acurácia'] = acuracia\n",
    "df_resultado_praga.loc[2, 'precisão'] = metricas[0]\n",
    "df_resultado_praga.loc[2, 'recall'] = metricas[1]\n",
    "df_resultado_praga.loc[2,'f1score'] = metricas[2]\n",
    "\n",
    "# Incluir os valores preditos pelo SVM\n",
    "df_valores_preditos_praga['y_svm'] = result_svm_praga"
   ]
  },
  {
   "cell_type": "markdown",
   "metadata": {},
   "source": [
    "### RL"
   ]
  },
  {
   "cell_type": "code",
   "execution_count": 50,
   "metadata": {},
   "outputs": [],
   "source": [
    "# Criação do modelo\n",
    "modelo_rl_praga = LogisticRegression(C = 100, penalty = 'l1', multi_class= 'ovr', solver= 'liblinear')\n",
    "\n",
    "# Treinamento do modelo\n",
    "modelo_rl_praga = modelo_rl_praga.fit(X_id_praga, y_id_praga.values)\n",
    "\n",
    "# Prevendo os valores de y\n",
    "result_rl_praga = modelo_rl_praga.predict(X_id_praga_teste)\n",
    "\n",
    "# Métricas de avaliação\n",
    "metricas = precision_recall_fscore_support(y_id_praga_teste.values, result_rl_praga, average='macro')\n",
    "\n",
    "# Acurácia do Modelo\n",
    "acuracia = modelo_rl_praga.score(X_id_praga_teste, y_id_praga_teste.values)\n",
    "\n",
    "# Inclusão das métricas de avaliação\n",
    "df_resultado_praga.loc[3, 'tipo'] = 'RL'\n",
    "df_resultado_praga.loc[3, 'acurácia'] = acuracia\n",
    "df_resultado_praga.loc[3, 'precisão'] = metricas[0]\n",
    "df_resultado_praga.loc[3, 'recall'] = metricas[1]\n",
    "df_resultado_praga.loc[3,'f1score'] = metricas[2]\n",
    "\n",
    "# Incluir os valores preditos pelo RL\n",
    "df_valores_preditos_praga['y_rl'] = result_rl_praga"
   ]
  },
  {
   "cell_type": "markdown",
   "metadata": {},
   "source": [
    "### NB"
   ]
  },
  {
   "cell_type": "code",
   "execution_count": 51,
   "metadata": {},
   "outputs": [],
   "source": [
    "# Criação do modelo\n",
    "modelo_nb_praga = GaussianNB(var_smoothing = 0.0009326033468832199)\n",
    "\n",
    "# Treinamento do modelo\n",
    "modelo_nb_praga = modelo_nb_praga.fit(X_id_praga, y_id_praga.values)\n",
    "\n",
    "# Prevendo os valores de y\n",
    "result_nb_praga = modelo_nb_praga.predict(X_id_praga_teste)\n",
    "\n",
    "# Métricas de avaliação\n",
    "metricas = precision_recall_fscore_support(y_id_praga_teste.values, result_nb_praga, average='macro')\n",
    "\n",
    "# Acurácia do Modelo\n",
    "acuracia = modelo_nb_praga.score(X_id_praga_teste, y_id_praga_teste.values)\n",
    "\n",
    "# Inclusão das métricas de avaliação\n",
    "df_resultado_praga.loc[4, 'tipo'] = 'NB'\n",
    "df_resultado_praga.loc[4, 'acurácia'] = acuracia\n",
    "df_resultado_praga.loc[4, 'precisão'] = metricas[0]\n",
    "df_resultado_praga.loc[4, 'recall'] = metricas[1]\n",
    "df_resultado_praga.loc[4,'f1score'] = metricas[2]\n",
    "\n",
    "\n",
    "# Incluir os valores preditos pelo NB\n",
    "df_valores_preditos_praga['y_nb'] = result_nb_praga"
   ]
  },
  {
   "cell_type": "markdown",
   "metadata": {},
   "source": [
    "### Dataframe com os resultados dos classificadores"
   ]
  },
  {
   "cell_type": "code",
   "execution_count": 52,
   "metadata": {},
   "outputs": [
    {
     "data": {
      "text/html": [
       "<div>\n",
       "<style scoped>\n",
       "    .dataframe tbody tr th:only-of-type {\n",
       "        vertical-align: middle;\n",
       "    }\n",
       "\n",
       "    .dataframe tbody tr th {\n",
       "        vertical-align: top;\n",
       "    }\n",
       "\n",
       "    .dataframe thead th {\n",
       "        text-align: right;\n",
       "    }\n",
       "</style>\n",
       "<table border=\"1\" class=\"dataframe\">\n",
       "  <thead>\n",
       "    <tr style=\"text-align: right;\">\n",
       "      <th></th>\n",
       "      <th>tipo</th>\n",
       "      <th>acurácia</th>\n",
       "      <th>precisão</th>\n",
       "      <th>recall</th>\n",
       "      <th>f1score</th>\n",
       "    </tr>\n",
       "  </thead>\n",
       "  <tbody>\n",
       "    <tr>\n",
       "      <th>0</th>\n",
       "      <td>RF</td>\n",
       "      <td>0.884615</td>\n",
       "      <td>0.886905</td>\n",
       "      <td>0.884615</td>\n",
       "      <td>0.884444</td>\n",
       "    </tr>\n",
       "    <tr>\n",
       "      <th>1</th>\n",
       "      <td>DT</td>\n",
       "      <td>0.807692</td>\n",
       "      <td>0.809524</td>\n",
       "      <td>0.807692</td>\n",
       "      <td>0.807407</td>\n",
       "    </tr>\n",
       "    <tr>\n",
       "      <th>2</th>\n",
       "      <td>SVM</td>\n",
       "      <td>0.884615</td>\n",
       "      <td>0.886905</td>\n",
       "      <td>0.884615</td>\n",
       "      <td>0.884444</td>\n",
       "    </tr>\n",
       "    <tr>\n",
       "      <th>3</th>\n",
       "      <td>RL</td>\n",
       "      <td>0.846154</td>\n",
       "      <td>0.846154</td>\n",
       "      <td>0.846154</td>\n",
       "      <td>0.846154</td>\n",
       "    </tr>\n",
       "    <tr>\n",
       "      <th>4</th>\n",
       "      <td>NB</td>\n",
       "      <td>0.653846</td>\n",
       "      <td>0.662500</td>\n",
       "      <td>0.653846</td>\n",
       "      <td>0.649175</td>\n",
       "    </tr>\n",
       "  </tbody>\n",
       "</table>\n",
       "</div>"
      ],
      "text/plain": [
       "  tipo  acurácia  precisão    recall   f1score\n",
       "0   RF  0.884615  0.886905  0.884615  0.884444\n",
       "1   DT  0.807692  0.809524  0.807692  0.807407\n",
       "2  SVM  0.884615  0.886905  0.884615  0.884444\n",
       "3   RL  0.846154  0.846154  0.846154  0.846154\n",
       "4   NB  0.653846  0.662500  0.653846  0.649175"
      ]
     },
     "execution_count": 52,
     "metadata": {},
     "output_type": "execute_result"
    }
   ],
   "source": [
    "# Salvar em um arquivo CSV\n",
    "df_resultado_praga.to_csv('data/df_resultado_praga.csv')\n",
    "\n",
    "df_resultado_praga.head()"
   ]
  },
  {
   "cell_type": "markdown",
   "metadata": {},
   "source": [
    "### Dataframe com os valores preditos"
   ]
  },
  {
   "cell_type": "code",
   "execution_count": 53,
   "metadata": {},
   "outputs": [
    {
     "name": "stdout",
     "output_type": "stream",
     "text": [
      "    y_rf  y_dt  y_svm  y_rl  y_nb\n",
      "0    1.0   1.0    1.0   1.0   1.0\n",
      "1    0.0   0.0    0.0   0.0   0.0\n",
      "2    0.0   0.0    0.0   0.0   0.0\n",
      "3    0.0   0.0    0.0   0.0   1.0\n",
      "4    1.0   1.0    0.0   0.0   1.0\n",
      "5    1.0   1.0    1.0   1.0   1.0\n",
      "6    1.0   1.0    1.0   1.0   1.0\n",
      "7    1.0   0.0    1.0   1.0   0.0\n",
      "8    1.0   1.0    1.0   1.0   0.0\n",
      "9    0.0   0.0    0.0   0.0   0.0\n",
      "10   0.0   0.0    0.0   0.0   0.0\n",
      "11   0.0   0.0    0.0   0.0   0.0\n",
      "12   1.0   0.0    1.0   1.0   1.0\n",
      "13   0.0   0.0    0.0   0.0   0.0\n",
      "14   0.0   0.0    0.0   0.0   1.0\n",
      "15   0.0   0.0    0.0   0.0   0.0\n",
      "16   0.0   0.0    0.0   0.0   0.0\n",
      "17   1.0   1.0    1.0   1.0   0.0\n",
      "18   0.0   0.0    1.0   1.0   0.0\n",
      "19   1.0   1.0    1.0   1.0   0.0\n",
      "20   1.0   1.0    1.0   1.0   1.0\n",
      "21   1.0   1.0    1.0   0.0   0.0\n",
      "22   1.0   1.0    1.0   1.0   0.0\n",
      "23   0.0   0.0    0.0   0.0   0.0\n",
      "24   1.0   1.0    1.0   1.0   1.0\n",
      "25   1.0   1.0    1.0   1.0   1.0\n"
     ]
    }
   ],
   "source": [
    "print(df_valores_preditos_praga)\n",
    "\n",
    "# Salvar em um arquivo CSV\n",
    "df_valores_preditos_praga.to_csv('data/df_valores_preditos_praga.csv')"
   ]
  },
  {
   "cell_type": "markdown",
   "metadata": {},
   "source": [
    "--------------------"
   ]
  },
  {
   "cell_type": "markdown",
   "metadata": {},
   "source": [
    "## Validação Estatística"
   ]
  },
  {
   "cell_type": "markdown",
   "metadata": {},
   "source": [
    "Objetivo: Identificar quais modelos que ao serem otimizados os hiperparâmetros podem alcançar o resultado de outros modelos. Inclusive, esta etapa é importante pois algoritmos baseados em árvores (Random Forest e Decision Tree) e repartição de hiperplanos (SVM) tendem a ter um custo computacional maior. Desse modo, em problemas computacionais complexos (processamento de imagens), caso uma abordagem com custo coputacional menor não tiver diferença estatística, logo recomenda-se otimizar os hiperparâmetros dela até encontrar a solução ideal, ou seja com maior precisão."
   ]
  },
  {
   "cell_type": "markdown",
   "metadata": {},
   "source": [
    "### Análise de Distribuição"
   ]
  },
  {
   "cell_type": "markdown",
   "metadata": {},
   "source": [
    "#### -> Teste utilizado: Shapiro Wilk"
   ]
  },
  {
   "cell_type": "markdown",
   "metadata": {},
   "source": [
    "#### -> H0(Hipótese nula): A amostra segue a distribuição normal, se o p-valor >= 0.05\n",
    "    \n",
    "#### -> H1: A amostra não segue a distribuição normal, se o p-valor < 0.05.\n"
   ]
  },
  {
   "cell_type": "code",
   "execution_count": 54,
   "metadata": {},
   "outputs": [
    {
     "data": {
      "text/html": [
       "<div>\n",
       "<style scoped>\n",
       "    .dataframe tbody tr th:only-of-type {\n",
       "        vertical-align: middle;\n",
       "    }\n",
       "\n",
       "    .dataframe tbody tr th {\n",
       "        vertical-align: top;\n",
       "    }\n",
       "\n",
       "    .dataframe thead th {\n",
       "        text-align: right;\n",
       "    }\n",
       "</style>\n",
       "<table border=\"1\" class=\"dataframe\">\n",
       "  <thead>\n",
       "    <tr style=\"text-align: right;\">\n",
       "      <th></th>\n",
       "      <th>Unnamed: 0</th>\n",
       "      <th>svm</th>\n",
       "      <th>rl</th>\n",
       "      <th>rf</th>\n",
       "      <th>dt</th>\n",
       "      <th>nv</th>\n",
       "    </tr>\n",
       "  </thead>\n",
       "  <tbody>\n",
       "    <tr>\n",
       "      <th>0</th>\n",
       "      <td>1</td>\n",
       "      <td>8.095442e-07</td>\n",
       "      <td>8.601624e-07</td>\n",
       "      <td>4.986669e-07</td>\n",
       "      <td>6.749543e-07</td>\n",
       "      <td>0.661188</td>\n",
       "    </tr>\n",
       "  </tbody>\n",
       "</table>\n",
       "</div>"
      ],
      "text/plain": [
       "   Unnamed: 0           svm            rl            rf            dt  \\\n",
       "0           1  8.095442e-07  8.601624e-07  4.986669e-07  6.749543e-07   \n",
       "\n",
       "         nv  \n",
       "0  0.661188  "
      ]
     },
     "execution_count": 54,
     "metadata": {},
     "output_type": "execute_result"
    }
   ],
   "source": [
    "# Carregar os resultados da análise de distribuição feita no R\n",
    "analise_distribuicao_praga = pd.read_csv('data/shapiro-wilk-test-praga.csv')\n",
    "\n",
    "analise_distribuicao_praga.head()"
   ]
  },
  {
   "cell_type": "markdown",
   "metadata": {},
   "source": [
    "Como a maioria das correlações de Pearson foram inderiores a 0.05, logo a amostra é não paramétrica!"
   ]
  },
  {
   "cell_type": "markdown",
   "metadata": {},
   "source": [
    "### Análise de Variável Independente"
   ]
  },
  {
   "cell_type": "markdown",
   "metadata": {},
   "source": [
    "#### -> H0(Hipótese nula): Todos os algoritmos são equivalentes, se o p-valor >= 0.05;\n",
    "#### -> H1: Os algoritmos têm diferença, se o p-valor < 0.05."
   ]
  },
  {
   "cell_type": "code",
   "execution_count": 55,
   "metadata": {},
   "outputs": [
    {
     "data": {
      "text/html": [
       "<div>\n",
       "<style scoped>\n",
       "    .dataframe tbody tr th:only-of-type {\n",
       "        vertical-align: middle;\n",
       "    }\n",
       "\n",
       "    .dataframe tbody tr th {\n",
       "        vertical-align: top;\n",
       "    }\n",
       "\n",
       "    .dataframe thead th {\n",
       "        text-align: right;\n",
       "    }\n",
       "</style>\n",
       "<table border=\"1\" class=\"dataframe\">\n",
       "  <thead>\n",
       "    <tr style=\"text-align: right;\">\n",
       "      <th></th>\n",
       "      <th>Unnamed: 0</th>\n",
       "      <th>svm</th>\n",
       "      <th>dt</th>\n",
       "      <th>rf</th>\n",
       "      <th>rl</th>\n",
       "    </tr>\n",
       "  </thead>\n",
       "  <tbody>\n",
       "    <tr>\n",
       "      <th>0</th>\n",
       "      <td>dt</td>\n",
       "      <td>1</td>\n",
       "      <td>NaN</td>\n",
       "      <td>NaN</td>\n",
       "      <td>NaN</td>\n",
       "    </tr>\n",
       "    <tr>\n",
       "      <th>1</th>\n",
       "      <td>rf</td>\n",
       "      <td>1</td>\n",
       "      <td>1.0</td>\n",
       "      <td>NaN</td>\n",
       "      <td>NaN</td>\n",
       "    </tr>\n",
       "    <tr>\n",
       "      <th>2</th>\n",
       "      <td>rl</td>\n",
       "      <td>1</td>\n",
       "      <td>1.0</td>\n",
       "      <td>1.0</td>\n",
       "      <td>NaN</td>\n",
       "    </tr>\n",
       "    <tr>\n",
       "      <th>3</th>\n",
       "      <td>nv</td>\n",
       "      <td>1</td>\n",
       "      <td>1.0</td>\n",
       "      <td>1.0</td>\n",
       "      <td>1.0</td>\n",
       "    </tr>\n",
       "  </tbody>\n",
       "</table>\n",
       "</div>"
      ],
      "text/plain": [
       "  Unnamed: 0  svm   dt   rf   rl\n",
       "0         dt    1  NaN  NaN  NaN\n",
       "1         rf    1  1.0  NaN  NaN\n",
       "2         rl    1  1.0  1.0  NaN\n",
       "3         nv    1  1.0  1.0  1.0"
      ]
     },
     "execution_count": 55,
     "metadata": {},
     "output_type": "execute_result"
    }
   ],
   "source": [
    "# Carregar os resultados da análise de variável independente feita no R\n",
    "var_independente_praga = pd.read_csv('data/t-test-praga.csv')\n",
    "\n",
    "var_independente_praga.head()"
   ]
  },
  {
   "cell_type": "markdown",
   "metadata": {},
   "source": [
    "Não há diferença estatística entre os modelos"
   ]
  },
  {
   "cell_type": "markdown",
   "metadata": {},
   "source": [
    "------------------------------------------------------"
   ]
  },
  {
   "cell_type": "markdown",
   "metadata": {},
   "source": [
    "## 6.2.7 - Criação do Modelo de identificação de pragas"
   ]
  },
  {
   "cell_type": "markdown",
   "metadata": {},
   "source": [
    "### O RF foi escolhido, pois nos experimentos de validação quanto a base de testes demontrou-se o mais promissor"
   ]
  },
  {
   "cell_type": "markdown",
   "metadata": {},
   "source": [
    "### Matriz de Confusão do RF"
   ]
  },
  {
   "cell_type": "code",
   "execution_count": 56,
   "metadata": {},
   "outputs": [
    {
     "data": {
      "image/png": "[encoded data removed]",
      "text/plain": [
       "<Figure size 720x360 with 2 Axes>"
      ]
     },
     "metadata": {
      "needs_background": "light"
     },
     "output_type": "display_data"
    }
   ],
   "source": [
    "# Matriz de Confusao\n",
    "matriz_confusao = confusion_matrix(y_id_praga_teste.values, result_rf_praga)\n",
    "\n",
    "# Mapa com Seaborn\n",
    "plt.figure(figsize=(10,5))\n",
    "ax= plt.subplot()\n",
    "sns.heatmap(matriz_confusao, annot=True, ax = ax);\n",
    "\n",
    "ax.set_xlabel('Predito');\n",
    "ax.set_ylabel('Verdadeiro'); \n",
    "ax.set_title('Matriz de Confusão'); \n",
    "ax.xaxis.set_ticklabels(['Com Praga', 'Sem Praga']); \n",
    "ax.yaxis.set_ticklabels(['Com praga', 'Sem Praga']);\n",
    "plt.savefig(\"matriz_confusao_praga.png\", dpi=150) \n"
   ]
  },
  {
   "cell_type": "markdown",
   "metadata": {},
   "source": [
    "### Salvar o modelo via Pickle"
   ]
  },
  {
   "cell_type": "code",
   "execution_count": 57,
   "metadata": {},
   "outputs": [],
   "source": [
    "# Nome do arquivo que será salvo o modelo\n",
    "nome_arquivo_praga = 'modelos/rf_train_modelo_identificacao_praga.sav'\n",
    "\n",
    "# Dump do modelo\n",
    "pickle.dump(modelo_svm_praga, open(nome_arquivo_praga, 'wb'))"
   ]
  },
  {
   "cell_type": "markdown",
   "metadata": {},
   "source": [
    "---------------------"
   ]
  },
  {
   "cell_type": "markdown",
   "metadata": {},
   "source": [
    "## 6.3 - Identificação de tipos de pragas"
   ]
  },
  {
   "cell_type": "code",
   "execution_count": 58,
   "metadata": {},
   "outputs": [
    {
     "name": "stdout",
     "output_type": "stream",
     "text": [
      "        f1     f2     f3     f4      f5      f6      f7      f8   clear  tipo\n",
      "160  393.0  531.0  663.0  798.0   964.0  1089.0  1148.0  1485.0  7933.0   2.0\n",
      "5    347.0  532.0  579.0  811.0   932.0  1215.0  1290.0  1696.0  7310.0   0.0\n",
      "213  257.0  330.0  410.0  536.0   647.0   708.0   764.0   933.0  4112.0   3.0\n",
      "36   290.0  350.0  447.0  600.0   726.0   865.0  1021.0  1193.0  4775.0   0.0\n",
      "147  336.0  480.0  563.0  720.0   832.0   941.0  1062.0  1426.0  7013.0   2.0\n",
      "..     ...    ...    ...    ...     ...     ...     ...     ...     ...   ...\n",
      "72   397.0  500.0  650.0  912.0  1051.0  1237.0  1560.0  1733.0  7431.0   1.0\n",
      "255  268.0  347.0  434.0  568.0   710.0   761.0   825.0  1051.0  4776.0   3.0\n",
      "30   287.0  350.0  445.0  598.0   722.0   862.0  1020.0  1195.0  4764.0   0.0\n",
      "17   336.0  471.0  565.0  748.0   851.0  1018.0  1141.0  1525.0  7386.0   0.0\n",
      "16   364.0  516.0  598.0  808.0   903.0  1241.0  1158.0  1643.0  7577.0   0.0\n",
      "\n",
      "[256 rows x 10 columns]\n"
     ]
    }
   ],
   "source": [
    "# Carregar os dados\n",
    "dados_tipo_praga = pd.read_csv('data/conj_vdd_treino_identificacao_tipo_praga.csv')\n",
    "\n",
    "# Embaralhar os dados\n",
    "dados_tipo_praga = dados_tipo_praga.sample(n = 256) \n",
    "\n",
    "# Excluir e resetar as colunas que não são importantes\n",
    "dados_tipo_praga = dados_tipo_praga.drop('Unnamed: 0', 1)\n",
    "dados_tipo_praga = dados_tipo_praga.drop('index', 1)\n",
    "\n",
    "print(dados_tipo_praga)\n",
    "\n",
    "#------Features------\n",
    "X_id_tipo_praga = dados_tipo_praga.iloc[:, 0: len(dados_tipo_praga.columns)-1]\n",
    "y_id_tipo_praga = dados_tipo_praga.iloc[:, len(dados_tipo_praga.columns)-1:len(dados_tipo_praga.columns)]\n",
    "\n",
    "#------Normalização das Features------\n",
    "scaler = Normalizer()\n",
    "X_id_tipo_praga = scaler.fit_transform(X_id_tipo_praga)"
   ]
  },
  {
   "cell_type": "markdown",
   "metadata": {},
   "source": [
    "-------------"
   ]
  },
  {
   "cell_type": "markdown",
   "metadata": {},
   "source": [
    "### 6.3.1 - Otimização de Hiperparâmetros do Random Forest"
   ]
  },
  {
   "cell_type": "code",
   "execution_count": 59,
   "metadata": {},
   "outputs": [],
   "source": [
    "# Busca pelos melhores parâmetros para se usar no RF\n",
    "#melhores_parametros_RF(X_id_tipo_praga,y_id_tipo_praga)"
   ]
  },
  {
   "cell_type": "markdown",
   "metadata": {},
   "source": [
    "Melhores parâmetros para RF:\n",
    "- n_estimators: 200\n",
    "- min_samples_split: 5\n",
    "- min_samples_leaf: 3\n",
    "- max_features: 3\n",
    "- max_depth: 90\n",
    "- bootstrap: True\n",
    "\n",
    "Tempo de Execução: 59.1min finished"
   ]
  },
  {
   "cell_type": "code",
   "execution_count": 60,
   "metadata": {},
   "outputs": [
    {
     "name": "stdout",
     "output_type": "stream",
     "text": [
      "-----RF SEM OTIMIZAÇÃO------\n",
      "--------------------\n",
      "acuracia: 0.8478260869565217\n",
      "precisao: 0.8621953227931488\n",
      "recall: 0.8478260869565217\n",
      "f1-score: 0.8529705685978443\n",
      "erro: 0.15217391304347827\n",
      "--------------------\n",
      "-----RF COM OTIMIZAÇÃO-----\n",
      "--------------------\n",
      "acuracia: 0.8478260869565217\n",
      "precisao: 0.8640657349896481\n",
      "recall: 0.8478260869565217\n",
      "f1-score: 0.8558550309882423\n",
      "erro: 0.15217391304347827\n",
      "--------------------\n"
     ]
    },
    {
     "data": {
      "text/plain": [
       "1"
      ]
     },
     "execution_count": 60,
     "metadata": {},
     "output_type": "execute_result"
    }
   ],
   "source": [
    "# Comparação entre os melhores parâmetros encontrados do RF com o default\n",
    "comparacao_RF(X_id_praga,\n",
    "              y_id_praga,\n",
    "              n_estimators = 200, \n",
    "              min_samples_split = 5, \n",
    "              min_samples_leaf = 3, \n",
    "              max_features = 3, \n",
    "              max_depth = 90, \n",
    "              bootstrap=True) "
   ]
  },
  {
   "cell_type": "markdown",
   "metadata": {},
   "source": [
    "### 6.3.2 - Otimização de Hiperparâmetros do SVM"
   ]
  },
  {
   "cell_type": "code",
   "execution_count": 61,
   "metadata": {},
   "outputs": [],
   "source": [
    "# Busca pelos melhores parâmetros para se usar no SVM\n",
    "#melhores_parametros_SVM(X_id_tipo_praga,y_id_tipo_praga)"
   ]
  },
  {
   "cell_type": "markdown",
   "metadata": {},
   "source": [
    "Melhores parâmetros para o SVM:\n",
    "- C: 100\n",
    "- Gamma: 100 \n",
    "- Kernel: rbf\n",
    "- decision_function_shape: ovo\n",
    "- shrinking: True\n",
    "\n",
    "Tempo de Execução: 11.4s finished"
   ]
  },
  {
   "cell_type": "code",
   "execution_count": 62,
   "metadata": {},
   "outputs": [
    {
     "name": "stdout",
     "output_type": "stream",
     "text": [
      "-----SVM SEM OTIMIZAÇÂO-----\n",
      "--------------------\n",
      "acuracia: 0.41304347826086957\n",
      "precisao: 0.17107750472589792\n",
      "recall: 0.41304347826086957\n",
      "f1-score: 0.2418066534914361\n",
      "erro: 0.5869565217391304\n",
      "--------------------\n",
      "-----SVM COM OTIMIZAÇÂO-----\n",
      "--------------------\n",
      "acuracia: 0.9130434782608695\n",
      "precisao: 0.9276375798114929\n",
      "recall: 0.9130434782608695\n",
      "f1-score: 0.9202822779012365\n",
      "erro: 0.08695652173913043\n",
      "--------------------\n"
     ]
    },
    {
     "data": {
      "text/plain": [
       "1"
      ]
     },
     "execution_count": 62,
     "metadata": {},
     "output_type": "execute_result"
    }
   ],
   "source": [
    "comparacao_SVM(X_id_praga, \n",
    "               y_id_praga, \n",
    "               100, \n",
    "               100, \n",
    "               'rbf', \n",
    "               'ovo', \n",
    "               True)"
   ]
  },
  {
   "cell_type": "markdown",
   "metadata": {},
   "source": [
    "### 6.3.3 - Otimização de Hiperparâmetros do DT"
   ]
  },
  {
   "cell_type": "code",
   "execution_count": 63,
   "metadata": {},
   "outputs": [],
   "source": [
    "# Busca pelos melhores parâmetros para se usar no DT\n",
    "#melhores_parametros_DT(X_id_tipo_praga,y_id_tipo_praga)"
   ]
  },
  {
   "cell_type": "markdown",
   "metadata": {},
   "source": [
    "Melhores parâmetros para o DT:\n",
    "- criterion: gini\n",
    "- max_depth: 728\n",
    "\n",
    "Tempo de Execução: 42.2s finished"
   ]
  },
  {
   "cell_type": "code",
   "execution_count": 64,
   "metadata": {},
   "outputs": [
    {
     "name": "stdout",
     "output_type": "stream",
     "text": [
      "-----DT SEM OTIMIZAÇÂO-----\n",
      "--------------------\n",
      "acuracia: 0.7307692307692307\n",
      "precisao: 0.7513840326340326\n",
      "recall: 0.7307692307692307\n",
      "f1-score: 0.740918855197318\n",
      "erro: 0.8461538461538461\n",
      "--------------------\n",
      "-----DT COM OTIMIZAÇÂO-----\n",
      "--------------------\n",
      "acuracia: 0.7307692307692307\n",
      "precisao: 0.7558379120879122\n",
      "recall: 0.7307692307692307\n",
      "f1-score: 0.7376334267914887\n",
      "erro: 0.8076923076923077\n",
      "--------------------\n"
     ]
    },
    {
     "data": {
      "text/plain": [
       "1"
      ]
     },
     "execution_count": 64,
     "metadata": {},
     "output_type": "execute_result"
    }
   ],
   "source": [
    "comparacao_DT(X_id_tipo_praga, \n",
    "              y_id_tipo_praga,\n",
    "             'gini',\n",
    "              728)"
   ]
  },
  {
   "cell_type": "markdown",
   "metadata": {},
   "source": [
    "### 6.3.4 - Otimização de Hiperparâmetros do NB"
   ]
  },
  {
   "cell_type": "code",
   "execution_count": 65,
   "metadata": {},
   "outputs": [],
   "source": [
    "# Busca pelos melhores parâmetros para se usar no NB\n",
    "#melhores_parametros_NB(X_id_tipo_praga,y_id_tipo_praga)"
   ]
  },
  {
   "cell_type": "markdown",
   "metadata": {},
   "source": [
    "Melhores parâmetros para o NB:\n",
    " - var_smoothing: 0.00009111627561154887\n",
    " \n",
    "Tempo de Execução: 2.2s finished\n",
    "\n",
    "\n"
   ]
  },
  {
   "cell_type": "code",
   "execution_count": 66,
   "metadata": {},
   "outputs": [
    {
     "name": "stdout",
     "output_type": "stream",
     "text": [
      "-----NB SEM OTIMIZAÇÂO-----\n",
      "--------------------\n",
      "acuracia: 0.7253846153846153\n",
      "precisao: 0.7374725274725275\n",
      "recall: 0.7253846153846153\n",
      "f1-score: 0.7384645498042627\n",
      "erro: 0.9607692307692308\n",
      "--------------------\n",
      "-----NB COM OTIMIZAÇÂO-----\n",
      "--------------------\n",
      "acuracia: 0.7253846153846153\n",
      "precisao: 0.7374725274725275\n",
      "recall: 0.7253846153846153\n",
      "f1-score: 0.7384645498042627\n",
      "erro: 0.9607692307692308\n",
      "--------------------\n"
     ]
    },
    {
     "data": {
      "text/plain": [
       "1"
      ]
     },
     "execution_count": 66,
     "metadata": {},
     "output_type": "execute_result"
    }
   ],
   "source": [
    "comparacao_NB(X_id_tipo_praga, \n",
    "              y_id_tipo_praga,\n",
    "             0.00009111627561154887)"
   ]
  },
  {
   "cell_type": "markdown",
   "metadata": {},
   "source": [
    "### 6.3.5 - Otimização de Hiperparâmetros do RL"
   ]
  },
  {
   "cell_type": "code",
   "execution_count": 67,
   "metadata": {},
   "outputs": [],
   "source": [
    "# Busca pelos melhores parâmetros para se usar no RL\n",
    "#melhores_parametros_RL(X_id_tipo_praga,y_id_tipo_praga)"
   ]
  },
  {
   "cell_type": "markdown",
   "metadata": {},
   "source": [
    "Melhores parâmetros para a RL:\n",
    "- C: 50\n",
    "- penalty: l1\n",
    "- multi_class: ovr\n",
    "- solver: liblinear\n",
    "\n",
    "Tempo de execução: 19.6s finished"
   ]
  },
  {
   "cell_type": "code",
   "execution_count": 68,
   "metadata": {},
   "outputs": [
    {
     "name": "stdout",
     "output_type": "stream",
     "text": [
      "-----RL SEM OTIMIZAÇÂO-----\n",
      "--------------------\n",
      "acuracia: 0.3076923076923077\n",
      "precisao: 0.17772893772893772\n",
      "recall: 0.3076923076923077\n",
      "f1-score: 0.22340924416785302\n",
      "erro: 2.6084615384615386\n",
      "--------------------\n",
      "-----RL COM OTIMIZAÇÂO-----\n",
      "--------------------\n",
      "acuracia: 0.7061538461538461\n",
      "precisao: 0.7461385836385837\n",
      "recall: 0.7061538461538461\n",
      "f1-score: 0.7329330749163658\n",
      "erro: 0.7853846153846153\n",
      "--------------------\n"
     ]
    }
   ],
   "source": [
    "comparacao_RL(X_id_tipo_praga, \n",
    "              y_id_tipo_praga,\n",
    "              50,\n",
    "              'l1', \n",
    "              'ovr', \n",
    "              'liblinear')"
   ]
  },
  {
   "cell_type": "markdown",
   "metadata": {},
   "source": [
    "--------------------"
   ]
  },
  {
   "cell_type": "markdown",
   "metadata": {},
   "source": [
    "### 6.3.6 - Avaliação na base de teste e validação estatística quanto aos outros classificadores"
   ]
  },
  {
   "cell_type": "code",
   "execution_count": 69,
   "metadata": {},
   "outputs": [
    {
     "name": "stdout",
     "output_type": "stream",
     "text": [
      "       f1     f2     f3      f4      f5      f6      f7      f8   clear  tipo\n",
      "8   452.0  597.0  820.0   936.0  1180.0  1257.0  1628.0  2043.0  8756.0   1.0\n",
      "6   350.0  468.0  577.0   709.0   841.0   981.0  1021.0  1262.0  6608.0   0.0\n",
      "30  266.0  325.0  415.0   536.0   666.0   732.0   782.0   954.0  4644.0   3.0\n",
      "26  275.0  356.0  429.0   584.0   709.0   762.0   815.0  1042.0  4861.0   3.0\n",
      "9   430.0  535.0  691.0   952.0  1095.0  1248.0  1579.0  1795.0  8077.0   1.0\n",
      "5   365.0  482.0  573.0   732.0   870.0  1018.0   976.0  1284.0  7114.0   0.0\n",
      "2   334.0  535.0  545.0   870.0   843.0  1138.0  1374.0  1363.0  6783.0   0.0\n",
      "18  317.0  428.0  536.0   674.0   794.0   830.0   961.0  1190.0  6903.0   2.0\n",
      "31  266.0  341.0  420.0   541.0   669.0   703.0   770.0   952.0  4569.0   3.0\n",
      "27  242.0  298.0  363.0   472.0   556.0   622.0   678.0   786.0  3787.0   3.0\n",
      "1   349.0  452.0  561.0   718.0   862.0   933.0  1014.0  1339.0  6755.0   0.0\n",
      "16  238.0  301.0  387.0   503.0   589.0   653.0   744.0   866.0  3878.0   2.0\n",
      "22  271.0  340.0  412.0   531.0   612.0   651.0   696.0   848.0  4648.0   2.0\n",
      "12  407.0  521.0  687.0   905.0  1079.0  1176.0  1553.0  1736.0  8282.0   1.0\n",
      "19  343.0  502.0  641.0   798.0   910.0   927.0  1077.0  1178.0  6892.0   2.0\n",
      "13  405.0  575.0  703.0  1016.0  1140.0  1365.0  1751.0  1979.0  8439.0   1.0\n",
      "11  437.0  528.0  691.0   885.0  1044.0  1197.0  1491.0  1786.0  7817.0   1.0\n",
      "17  342.0  472.0  581.0   699.0   854.0   994.0  1044.0  1365.0  7430.0   2.0\n",
      "23  351.0  482.0  589.0   737.0   842.0   961.0  1072.0  1285.0  6879.0   2.0\n",
      "20  285.0  370.0  452.0   582.0   676.0   720.0   773.0   969.0  5122.0   2.0\n",
      "3   289.0  348.0  446.0   596.0   724.0   862.0  1016.0  1186.0  4851.0   0.0\n",
      "14  427.0  536.0  689.0   950.0  1067.0  1281.0  1506.0  1843.0  8301.0   1.0\n",
      "10  438.0  580.0  775.0   956.0  1221.0  1266.0  1636.0  2038.0  8947.0   1.0\n",
      "28  326.0  404.0  501.0   665.0   829.0   921.0   933.0  1229.0  5825.0   3.0\n",
      "4   392.0  504.0  652.0   765.0   984.0  1103.0  1105.0  1377.0  7689.0   0.0\n",
      "24  272.0  342.0  430.0   553.0   696.0   722.0   795.0   981.0  4841.0   3.0\n",
      "25  268.0  345.0  440.0   557.0   710.0   759.0   852.0  1065.0  4563.0   3.0\n",
      "0   378.0  480.0  591.0   736.0   931.0  1014.0  1076.0  1303.0  9209.0   0.0\n",
      "21  318.0  444.0  569.0   716.0  1014.0   855.0  1194.0  1081.0  8192.0   2.0\n",
      "15  418.0  528.0  686.0   942.0  1093.0  1246.0  1574.0  1781.0  8238.0   1.0\n",
      "29  257.0  326.0  402.0   530.0   642.0   712.0   750.0   937.0  3984.0   3.0\n",
      "7   299.0  425.0  493.0   709.0   788.0   954.0   942.0  1209.0  6346.0   0.0\n"
     ]
    }
   ],
   "source": [
    "# Carregar os dados\n",
    "dados_tipo_praga_teste = pd.read_csv('data/conj_vdd_teste_identificacao_tipo_praga.csv')\n",
    "\n",
    "# Embaralhar os dados\n",
    "dados_tipo_praga_teste = dados_tipo_praga_teste.sample(n = 32) \n",
    "\n",
    "# Excluir e resetar as colunas que não são importantes\n",
    "dados_tipo_praga_teste = dados_tipo_praga_teste.drop('Unnamed: 0', 1)\n",
    "dados_tipo_praga_teste = dados_tipo_praga_teste.drop('index', 1)\n",
    "\n",
    "print(dados_tipo_praga_teste)\n",
    "\n",
    "#------Features------\n",
    "X_id_tipo_praga_teste = dados_tipo_praga_teste.iloc[:, 0: len(dados_tipo_praga_teste.columns)-1]\n",
    "y_id_tipo_praga_teste = dados_tipo_praga_teste.iloc[:, len(dados_tipo_praga_teste.columns)-1:len(dados_tipo_praga_teste.columns)]\n",
    "\n",
    "#------Normalização das Features------\n",
    "scaler = Normalizer()\n",
    "X_id_tipo_praga_teste = scaler.fit_transform(X_id_tipo_praga_teste)"
   ]
  },
  {
   "cell_type": "code",
   "execution_count": 70,
   "metadata": {},
   "outputs": [],
   "source": [
    "#  Criação do Dataframe com resultados dos classificadores\n",
    "colunas = ['tipo', 'acurácia', 'precisão', 'recall', 'f1score']\n",
    "df_resultado_tipo_praga = pd.DataFrame(columns = colunas)\n",
    "\n",
    "# Criação do Dataframe com os valores de saída preditos\n",
    "colunas = ['y_rf', 'y_dt', 'y_svm', 'y_rl', 'y_nb']\n",
    "df_valores_preditos_tipo_praga = pd.DataFrame(columns = colunas)"
   ]
  },
  {
   "cell_type": "markdown",
   "metadata": {},
   "source": [
    "### RF"
   ]
  },
  {
   "cell_type": "code",
   "execution_count": 71,
   "metadata": {},
   "outputs": [],
   "source": [
    "# Criação do modelo\n",
    "modelo_rf_tipo_praga = RandomForestClassifier(n_estimators = 200, min_samples_split = 5, \n",
    "                                              min_samples_leaf = 3, max_features = 3, \n",
    "                                              max_depth = 90, bootstrap=True)\n",
    "            \n",
    "# Treinamento do modelo\n",
    "modelo_rf_tipo_praga = modelo_rf_tipo_praga.fit(X_id_tipo_praga, y_id_tipo_praga.values)\n",
    "\n",
    "# Prevendo os valores de y\n",
    "result_rf_tipo_praga = modelo_rf_tipo_praga.predict(X_id_tipo_praga_teste)\n",
    "\n",
    "# Métricas de avaliação\n",
    "metricas = precision_recall_fscore_support(y_id_tipo_praga_teste.values, result_rf_tipo_praga, average='macro')\n",
    "\n",
    "# Acurácia do Modelo\n",
    "acuracia = modelo_rf_tipo_praga.score(X_id_tipo_praga_teste, y_id_tipo_praga_teste.values)\n",
    "\n",
    "# Inclusão das métricas de avaliação\n",
    "df_resultado_tipo_praga.loc[0, 'tipo'] = 'RF'\n",
    "df_resultado_tipo_praga.loc[0, 'acurácia'] = acuracia\n",
    "df_resultado_tipo_praga.loc[0, 'precisão'] = metricas[0]\n",
    "df_resultado_tipo_praga.loc[0, 'recall'] = metricas[1]\n",
    "df_resultado_tipo_praga.loc[0,'f1score'] = metricas[2]\n",
    "\n",
    "\n",
    "# Incluir os valores preditos pelo RF\n",
    "df_valores_preditos_tipo_praga['y_rf'] = result_rf_tipo_praga"
   ]
  },
  {
   "cell_type": "markdown",
   "metadata": {},
   "source": [
    "### DT"
   ]
  },
  {
   "cell_type": "code",
   "execution_count": 72,
   "metadata": {},
   "outputs": [],
   "source": [
    "# Criação do modelo\n",
    "modelo_dt_tipo_praga = DecisionTreeClassifier(criterion = 'gini', max_depth = 728)\n",
    "\n",
    "# Treinamento do modelo\n",
    "modelo_dt_tipo_praga = modelo_dt_tipo_praga.fit(X_id_tipo_praga, y_id_tipo_praga.values)\n",
    "\n",
    "# Prevendo os valores de y\n",
    "result_dt_tipo_praga = modelo_dt_tipo_praga.predict(X_id_tipo_praga_teste)\n",
    "\n",
    "# Métricas de avaliação\n",
    "metricas = precision_recall_fscore_support(y_id_tipo_praga_teste.values, result_dt_tipo_praga, average='macro')\n",
    "\n",
    "# Acurácia do Modelo\n",
    "acuracia = modelo_dt_tipo_praga.score(X_id_tipo_praga_teste, y_id_tipo_praga_teste.values)\n",
    "\n",
    "# Inclusão das métricas de avaliação\n",
    "df_resultado_tipo_praga.loc[1, 'tipo'] = 'DT'\n",
    "df_resultado_tipo_praga.loc[1, 'acurácia'] = acuracia\n",
    "df_resultado_tipo_praga.loc[1, 'precisão'] = metricas[0]\n",
    "df_resultado_tipo_praga.loc[1, 'recall'] = metricas[1]\n",
    "df_resultado_tipo_praga.loc[1,'f1score'] = metricas[2]\n",
    "\n",
    "\n",
    "# Incluir os valores preditos pelo DT\n",
    "df_valores_preditos_tipo_praga['y_dt'] = result_rf_tipo_praga"
   ]
  },
  {
   "cell_type": "markdown",
   "metadata": {},
   "source": [
    "### SVM"
   ]
  },
  {
   "cell_type": "code",
   "execution_count": 73,
   "metadata": {},
   "outputs": [],
   "source": [
    "# Criação do modelo\n",
    "modelo_svm_tipo_praga = SVC(C= 100, gamma= 100, kernel= 'rbf', decision_function_shape = 'ovo', shrinking = True)\n",
    "\n",
    "# Treinamento do modelo\n",
    "modelo_svm_tipo_praga = modelo_svm_tipo_praga.fit(X_id_tipo_praga, y_id_tipo_praga.values)\n",
    "\n",
    "# Prevendo os valores de y\n",
    "result_svm_tipo_praga = modelo_svm_tipo_praga.predict(X_id_tipo_praga_teste)\n",
    "\n",
    "# Métricas de avaliação\n",
    "metricas = precision_recall_fscore_support(y_id_tipo_praga_teste.values, result_svm_tipo_praga, average='macro')\n",
    "\n",
    "# Acurácia do Modelo\n",
    "acuracia = modelo_svm_tipo_praga.score(X_id_tipo_praga_teste, y_id_tipo_praga_teste.values)\n",
    "\n",
    "# Inclusão das métricas de avaliação\n",
    "df_resultado_tipo_praga.loc[2, 'tipo'] = 'SVM'\n",
    "df_resultado_tipo_praga.loc[2, 'acurácia'] = acuracia\n",
    "df_resultado_tipo_praga.loc[2, 'precisão'] = metricas[0]\n",
    "df_resultado_tipo_praga.loc[2, 'recall'] = metricas[1]\n",
    "df_resultado_tipo_praga.loc[2,'f1score'] = metricas[2]\n",
    "\n",
    "\n",
    "# Incluir os valores preditos pelo SVM\n",
    "df_valores_preditos_tipo_praga['y_svm'] = result_svm_tipo_praga"
   ]
  },
  {
   "cell_type": "markdown",
   "metadata": {},
   "source": [
    "### RL"
   ]
  },
  {
   "cell_type": "code",
   "execution_count": 74,
   "metadata": {},
   "outputs": [],
   "source": [
    "# Criação do modelo\n",
    "modelo_rl_tipo_praga = LogisticRegression(C = 50, penalty = 'l1', multi_class= 'ovr', solver= 'liblinear')\n",
    "\n",
    "# Treinamento do modelo\n",
    "modelo_rl_tipo_praga = modelo_rl_tipo_praga.fit(X_id_tipo_praga, y_id_tipo_praga.values)\n",
    "\n",
    "# Prevendo os valores de y\n",
    "result_rl_tipo_praga = modelo_rl_tipo_praga.predict(X_id_tipo_praga_teste)\n",
    "\n",
    "# Métricas de avaliação\n",
    "metricas = precision_recall_fscore_support(y_id_tipo_praga_teste.values, result_rl_tipo_praga, average='macro')\n",
    "\n",
    "# Acurácia do Modelo\n",
    "acuracia = modelo_rl_tipo_praga.score(X_id_tipo_praga_teste, y_id_tipo_praga_teste.values)\n",
    "\n",
    "# Inclusão das métricas de avaliação\n",
    "df_resultado_tipo_praga.loc[3, 'tipo'] = 'RL'\n",
    "df_resultado_tipo_praga.loc[3, 'acurácia'] = acuracia\n",
    "df_resultado_tipo_praga.loc[3, 'precisão'] = metricas[0]\n",
    "df_resultado_tipo_praga.loc[3, 'recall'] = metricas[1]\n",
    "df_resultado_tipo_praga.loc[3,'f1score'] = metricas[2]\n",
    "\n",
    "\n",
    "# Incluir os valores preditos pelo RL\n",
    "df_valores_preditos_tipo_praga['y_rl'] = result_rl_tipo_praga"
   ]
  },
  {
   "cell_type": "markdown",
   "metadata": {},
   "source": [
    "### NB"
   ]
  },
  {
   "cell_type": "code",
   "execution_count": 75,
   "metadata": {},
   "outputs": [],
   "source": [
    "# Criação do modelo\n",
    "modelo_nb_tipo_praga = GaussianNB(var_smoothing = 0.00009111627561154887)\n",
    "\n",
    "# Treinamento do modelo\n",
    "modelo_nb_tipo_praga = modelo_nb_tipo_praga.fit(X_id_tipo_praga, y_id_tipo_praga.values)\n",
    "\n",
    "# Prevendo os valores de y\n",
    "result_nb_tipo_praga = modelo_nb_tipo_praga.predict(X_id_tipo_praga_teste)\n",
    "\n",
    "# Métricas de avaliação\n",
    "metricas = precision_recall_fscore_support(y_id_tipo_praga_teste.values, result_nb_tipo_praga, average='macro')\n",
    "\n",
    "# Acurácia do Modelo\n",
    "acuracia = modelo_nb_tipo_praga.score(X_id_tipo_praga_teste, y_id_tipo_praga_teste.values)\n",
    "\n",
    "# Inclusão das métricas de avaliação\n",
    "df_resultado_tipo_praga.loc[4, 'tipo'] = 'NB'\n",
    "df_resultado_tipo_praga.loc[4, 'acurácia'] = acuracia\n",
    "df_resultado_tipo_praga.loc[4, 'precisão'] = metricas[0]\n",
    "df_resultado_tipo_praga.loc[4, 'recall'] = metricas[1]\n",
    "df_resultado_tipo_praga.loc[4,'f1score'] = metricas[2]\n",
    "\n",
    "\n",
    "# Incluir os valores preditos pelo NB\n",
    "df_valores_preditos_tipo_praga['y_nb'] = result_nb_tipo_praga"
   ]
  },
  {
   "cell_type": "markdown",
   "metadata": {},
   "source": [
    "### Dataframe com os resultados dos classificadores"
   ]
  },
  {
   "cell_type": "code",
   "execution_count": 76,
   "metadata": {},
   "outputs": [
    {
     "data": {
      "text/html": [
       "<div>\n",
       "<style scoped>\n",
       "    .dataframe tbody tr th:only-of-type {\n",
       "        vertical-align: middle;\n",
       "    }\n",
       "\n",
       "    .dataframe tbody tr th {\n",
       "        vertical-align: top;\n",
       "    }\n",
       "\n",
       "    .dataframe thead th {\n",
       "        text-align: right;\n",
       "    }\n",
       "</style>\n",
       "<table border=\"1\" class=\"dataframe\">\n",
       "  <thead>\n",
       "    <tr style=\"text-align: right;\">\n",
       "      <th></th>\n",
       "      <th>tipo</th>\n",
       "      <th>acurácia</th>\n",
       "      <th>precisão</th>\n",
       "      <th>recall</th>\n",
       "      <th>f1score</th>\n",
       "    </tr>\n",
       "  </thead>\n",
       "  <tbody>\n",
       "    <tr>\n",
       "      <th>0</th>\n",
       "      <td>RF</td>\n",
       "      <td>0.84375</td>\n",
       "      <td>0.847222</td>\n",
       "      <td>0.84375</td>\n",
       "      <td>0.840336</td>\n",
       "    </tr>\n",
       "    <tr>\n",
       "      <th>1</th>\n",
       "      <td>DT</td>\n",
       "      <td>0.81250</td>\n",
       "      <td>0.816667</td>\n",
       "      <td>0.81250</td>\n",
       "      <td>0.809524</td>\n",
       "    </tr>\n",
       "    <tr>\n",
       "      <th>2</th>\n",
       "      <td>SVM</td>\n",
       "      <td>0.87500</td>\n",
       "      <td>0.874008</td>\n",
       "      <td>0.87500</td>\n",
       "      <td>0.872794</td>\n",
       "    </tr>\n",
       "    <tr>\n",
       "      <th>3</th>\n",
       "      <td>RL</td>\n",
       "      <td>0.78125</td>\n",
       "      <td>0.767460</td>\n",
       "      <td>0.78125</td>\n",
       "      <td>0.767040</td>\n",
       "    </tr>\n",
       "    <tr>\n",
       "      <th>4</th>\n",
       "      <td>NB</td>\n",
       "      <td>0.68750</td>\n",
       "      <td>0.694399</td>\n",
       "      <td>0.68750</td>\n",
       "      <td>0.683788</td>\n",
       "    </tr>\n",
       "  </tbody>\n",
       "</table>\n",
       "</div>"
      ],
      "text/plain": [
       "  tipo acurácia  precisão   recall   f1score\n",
       "0   RF  0.84375  0.847222  0.84375  0.840336\n",
       "1   DT  0.81250  0.816667  0.81250  0.809524\n",
       "2  SVM  0.87500  0.874008  0.87500  0.872794\n",
       "3   RL  0.78125  0.767460  0.78125  0.767040\n",
       "4   NB  0.68750  0.694399  0.68750  0.683788"
      ]
     },
     "execution_count": 76,
     "metadata": {},
     "output_type": "execute_result"
    }
   ],
   "source": [
    "# Salvar em um arquivo CSV\n",
    "df_resultado_tipo_praga.to_csv('data/df_resultado_tipo_praga.csv')\n",
    "\n",
    "df_resultado_tipo_praga.head()"
   ]
  },
  {
   "cell_type": "markdown",
   "metadata": {},
   "source": [
    "### Dataframe com os valores preditos"
   ]
  },
  {
   "cell_type": "code",
   "execution_count": 77,
   "metadata": {},
   "outputs": [
    {
     "name": "stdout",
     "output_type": "stream",
     "text": [
      "    y_rf  y_dt  y_svm  y_rl  y_nb\n",
      "0    1.0   1.0    1.0   1.0   1.0\n",
      "1    0.0   0.0    2.0   2.0   0.0\n",
      "2    3.0   3.0    3.0   3.0   3.0\n",
      "3    3.0   3.0    3.0   3.0   3.0\n",
      "4    1.0   1.0    1.0   1.0   1.0\n",
      "5    2.0   2.0    2.0   0.0   0.0\n",
      "6    1.0   1.0    0.0   1.0   2.0\n",
      "7    0.0   0.0    2.0   2.0   0.0\n",
      "8    3.0   3.0    3.0   3.0   3.0\n",
      "9    3.0   3.0    3.0   3.0   3.0\n",
      "10   0.0   0.0    0.0   0.0   0.0\n",
      "11   2.0   2.0    3.0   3.0   3.0\n",
      "12   2.0   2.0    2.0   2.0   2.0\n",
      "13   1.0   1.0    1.0   1.0   0.0\n",
      "14   2.0   2.0    2.0   2.0   2.0\n",
      "15   1.0   1.0    1.0   1.0   1.0\n",
      "16   1.0   1.0    1.0   1.0   1.0\n",
      "17   0.0   0.0    2.0   0.0   0.0\n",
      "18   2.0   2.0    2.0   2.0   0.0\n",
      "19   2.0   2.0    2.0   2.0   2.0\n",
      "20   0.0   0.0    0.0   1.0   1.0\n",
      "21   1.0   1.0    1.0   1.0   1.0\n",
      "22   1.0   1.0    1.0   1.0   1.0\n",
      "23   3.0   3.0    3.0   3.0   2.0\n",
      "24   0.0   0.0    0.0   2.0   0.0\n",
      "25   3.0   3.0    3.0   3.0   2.0\n",
      "26   3.0   3.0    3.0   3.0   3.0\n",
      "27   0.0   0.0    0.0   0.0   0.0\n",
      "28   0.0   0.0    0.0   0.0   0.0\n",
      "29   1.0   1.0    1.0   1.0   1.0\n",
      "30   3.0   3.0    3.0   3.0   3.0\n",
      "31   0.0   0.0    0.0   0.0   0.0\n"
     ]
    }
   ],
   "source": [
    "print(df_valores_preditos_tipo_praga)\n",
    "\n",
    "# Salvar em um arquivo CSV\n",
    "df_valores_preditos_tipo_praga.to_csv('data/df_valores_preditos_tipo_praga.csv')"
   ]
  },
  {
   "cell_type": "markdown",
   "metadata": {},
   "source": [
    "-------------------------"
   ]
  },
  {
   "cell_type": "markdown",
   "metadata": {},
   "source": [
    "### Validação Estatística"
   ]
  },
  {
   "cell_type": "markdown",
   "metadata": {},
   "source": [
    "### Análise de Distribuição"
   ]
  },
  {
   "cell_type": "markdown",
   "metadata": {},
   "source": [
    "#### -> Teste utilizado: Shapiro Wilk"
   ]
  },
  {
   "cell_type": "markdown",
   "metadata": {},
   "source": [
    "#### -> H0(Hipótese nula): A amostra segue a distribuição normal, se o p-valor >= 0.05\n",
    "    \n",
    "#### -> H1: A amostra não segue a distribuição normal, se o p-valor < 0.05."
   ]
  },
  {
   "cell_type": "code",
   "execution_count": 78,
   "metadata": {},
   "outputs": [
    {
     "data": {
      "text/html": [
       "<div>\n",
       "<style scoped>\n",
       "    .dataframe tbody tr th:only-of-type {\n",
       "        vertical-align: middle;\n",
       "    }\n",
       "\n",
       "    .dataframe tbody tr th {\n",
       "        vertical-align: top;\n",
       "    }\n",
       "\n",
       "    .dataframe thead th {\n",
       "        text-align: right;\n",
       "    }\n",
       "</style>\n",
       "<table border=\"1\" class=\"dataframe\">\n",
       "  <thead>\n",
       "    <tr style=\"text-align: right;\">\n",
       "      <th></th>\n",
       "      <th>Unnamed: 0</th>\n",
       "      <th>svm</th>\n",
       "      <th>rl</th>\n",
       "      <th>rf</th>\n",
       "      <th>dt</th>\n",
       "      <th>nv</th>\n",
       "    </tr>\n",
       "  </thead>\n",
       "  <tbody>\n",
       "    <tr>\n",
       "      <th>0</th>\n",
       "      <td>1</td>\n",
       "      <td>0.000602</td>\n",
       "      <td>0.000694</td>\n",
       "      <td>0.000194</td>\n",
       "      <td>0.000186</td>\n",
       "      <td>0.661188</td>\n",
       "    </tr>\n",
       "  </tbody>\n",
       "</table>\n",
       "</div>"
      ],
      "text/plain": [
       "   Unnamed: 0       svm        rl        rf        dt        nv\n",
       "0           1  0.000602  0.000694  0.000194  0.000186  0.661188"
      ]
     },
     "execution_count": 78,
     "metadata": {},
     "output_type": "execute_result"
    }
   ],
   "source": [
    "# Carregar os resultados da análise de distribuição feita no R\n",
    "analise_distribuicao_praga = pd.read_csv('data/shapiro-wilk-test-tipo-praga.csv')\n",
    "\n",
    "analise_distribuicao_praga.head()"
   ]
  },
  {
   "cell_type": "markdown",
   "metadata": {},
   "source": [
    "Como a maioria das correlações de Pearson foram inferiores a 0.05, logo a amostra é não paramétrica!"
   ]
  },
  {
   "cell_type": "markdown",
   "metadata": {},
   "source": [
    "### Análise de Variável Independente"
   ]
  },
  {
   "cell_type": "markdown",
   "metadata": {},
   "source": [
    "#### -> H0(Hipótese nula): Todos os algoritmos são equivalentes, se o p-valor >= 0.05;\n",
    "#### -> H1: Os algoritmos têm diferença, se o p-valor < 0.05."
   ]
  },
  {
   "cell_type": "code",
   "execution_count": 79,
   "metadata": {},
   "outputs": [
    {
     "data": {
      "text/html": [
       "<div>\n",
       "<style scoped>\n",
       "    .dataframe tbody tr th:only-of-type {\n",
       "        vertical-align: middle;\n",
       "    }\n",
       "\n",
       "    .dataframe tbody tr th {\n",
       "        vertical-align: top;\n",
       "    }\n",
       "\n",
       "    .dataframe thead th {\n",
       "        text-align: right;\n",
       "    }\n",
       "</style>\n",
       "<table border=\"1\" class=\"dataframe\">\n",
       "  <thead>\n",
       "    <tr style=\"text-align: right;\">\n",
       "      <th></th>\n",
       "      <th>Unnamed: 0</th>\n",
       "      <th>svm</th>\n",
       "      <th>dt</th>\n",
       "      <th>rf</th>\n",
       "      <th>rl</th>\n",
       "    </tr>\n",
       "  </thead>\n",
       "  <tbody>\n",
       "    <tr>\n",
       "      <th>0</th>\n",
       "      <td>dt</td>\n",
       "      <td>1</td>\n",
       "      <td>NaN</td>\n",
       "      <td>NaN</td>\n",
       "      <td>NaN</td>\n",
       "    </tr>\n",
       "    <tr>\n",
       "      <th>1</th>\n",
       "      <td>rf</td>\n",
       "      <td>1</td>\n",
       "      <td>1.0</td>\n",
       "      <td>NaN</td>\n",
       "      <td>NaN</td>\n",
       "    </tr>\n",
       "    <tr>\n",
       "      <th>2</th>\n",
       "      <td>rl</td>\n",
       "      <td>1</td>\n",
       "      <td>1.0</td>\n",
       "      <td>1.0</td>\n",
       "      <td>NaN</td>\n",
       "    </tr>\n",
       "    <tr>\n",
       "      <th>3</th>\n",
       "      <td>nv</td>\n",
       "      <td>1</td>\n",
       "      <td>1.0</td>\n",
       "      <td>1.0</td>\n",
       "      <td>1.0</td>\n",
       "    </tr>\n",
       "  </tbody>\n",
       "</table>\n",
       "</div>"
      ],
      "text/plain": [
       "  Unnamed: 0  svm   dt   rf   rl\n",
       "0         dt    1  NaN  NaN  NaN\n",
       "1         rf    1  1.0  NaN  NaN\n",
       "2         rl    1  1.0  1.0  NaN\n",
       "3         nv    1  1.0  1.0  1.0"
      ]
     },
     "execution_count": 79,
     "metadata": {},
     "output_type": "execute_result"
    }
   ],
   "source": [
    "# Carregar os resultados da análise de variável independente feita no R\n",
    "var_independente_praga = pd.read_csv('data/t-test-tipo-praga.csv')\n",
    "\n",
    "var_independente_praga.head()"
   ]
  },
  {
   "cell_type": "markdown",
   "metadata": {},
   "source": [
    "Não há diferença estatística entre os modelos"
   ]
  },
  {
   "cell_type": "markdown",
   "metadata": {},
   "source": [
    "-------------------"
   ]
  },
  {
   "cell_type": "markdown",
   "metadata": {},
   "source": [
    "### 6.3.7 - Criação do Modelo de identificação de pragas"
   ]
  },
  {
   "cell_type": "markdown",
   "metadata": {},
   "source": [
    "### O SVM foi escolhido, pois nos experimentos de validação quanto a base de testes demontrou-se o mais promissor"
   ]
  },
  {
   "cell_type": "markdown",
   "metadata": {},
   "source": [
    "### Matriz de Confusão do SVM"
   ]
  },
  {
   "cell_type": "code",
   "execution_count": 80,
   "metadata": {},
   "outputs": [
    {
     "data": {
      "image/png": "[encoded data removed]",
      "text/plain": [
       "<Figure size 720x360 with 2 Axes>"
      ]
     },
     "metadata": {
      "needs_background": "light"
     },
     "output_type": "display_data"
    }
   ],
   "source": [
    "# Matriz de Confusao\n",
    "matriz_confusao = confusion_matrix(y_id_tipo_praga_teste.values, result_svm_tipo_praga)\n",
    "\n",
    "# Mapa com Seaborn\n",
    "plt.figure(figsize=(10,5))\n",
    "ax= plt.subplot()\n",
    "sns.heatmap(matriz_confusao, annot=True, ax = ax);\n",
    "\n",
    "ax.set_xlabel('Predito');\n",
    "ax.set_ylabel('Verdadeiro'); \n",
    "ax.set_title('Matriz de Confusão'); \n",
    "ax.xaxis.set_ticklabels(['Amargoso', 'Caruru', 'Juazeiro', 'Leiteiro']); \n",
    "ax.yaxis.set_ticklabels(['Amargoso', 'Caruru', 'Juazeiro', 'Leiteiro']);\n",
    "plt.savefig(\"matriz_confusao_tipo_praga.png\", dpi=150) \n"
   ]
  },
  {
   "cell_type": "markdown",
   "metadata": {},
   "source": [
    "### Salvar o modelo via Pickle"
   ]
  },
  {
   "cell_type": "code",
   "execution_count": 81,
   "metadata": {},
   "outputs": [],
   "source": [
    "# Nome do arquivo que será salvo o modelo\n",
    "nome_arquivo_praga = 'modelos/svm_train_modelo_identificacao_tipo_praga.sav'\n",
    "\n",
    "# Dump do modelo\n",
    "pickle.dump(modelo_svm_tipo_praga, open(nome_arquivo_praga, 'wb'))"
   ]
  },
  {
   "cell_type": "markdown",
   "metadata": {},
   "source": [
    "------------------------"
   ]
  },
  {
   "cell_type": "markdown",
   "metadata": {},
   "source": [
    "## 7 - Aplicação da Solução para Identificação de Pragas em Colheitas nas bases de teste "
   ]
  },
  {
   "cell_type": "code",
   "execution_count": 82,
   "metadata": {},
   "outputs": [],
   "source": [
    "# Carregar os dados\n",
    "# - SUBSTITUIR O ARQUIVO CSV DE TESTE PELO O QUE DESEJA SER AVALIADO\n",
    "dados_praga_teste = pd.read_csv('data/conj_vdd_teste_identificacao_praga.csv')\n",
    "\n",
    "# Embaralhar os dados\n",
    "dados_praga_teste = dados_praga_teste.sample(n = 26) \n",
    "\n",
    "# Excluir e resetar as colunas que não são importantes\n",
    "dados_praga_teste = dados_praga_teste.drop('Unnamed: 0', 1)\n",
    "dados_praga_teste = dados_praga_teste.drop('index', 1)\n",
    "\n",
    "#print(dados_praga_teste)\n",
    "\n",
    "#------Features------\n",
    "X_id_praga_teste = dados_praga_teste.iloc[:, 0: len(dados_praga_teste.columns)-1]\n",
    "y_id_praga_teste = dados_praga_teste.iloc[:, len(dados_praga_teste.columns)-1:len(dados_praga_teste.columns)]\n",
    "\n",
    "#------Normalização das Features------\n",
    "scaler = Normalizer()\n",
    "X_id_praga_teste = scaler.fit_transform(X_id_praga_teste)\n",
    "\n",
    "#------Carregar o modelo de identificação de pragas------\n",
    "model_identificacao_praga = joblib.load('modelos/rf_train_modelo_identificacao_praga.sav')\n",
    "\n",
    "#------Carreegar o modelo de identificação de tipo de pragas------\n",
    "model_identificacao_tipo_praga = joblib.load('modelos/svm_train_modelo_identificacao_tipo_praga.sav')"
   ]
  },
  {
   "cell_type": "markdown",
   "metadata": {},
   "source": [
    "-----------------------------"
   ]
  },
  {
   "cell_type": "markdown",
   "metadata": {},
   "source": [
    "### Dataframe com os resultados"
   ]
  },
  {
   "cell_type": "code",
   "execution_count": 83,
   "metadata": {},
   "outputs": [
    {
     "name": "stdout",
     "output_type": "stream",
     "text": [
      "Plantação:  0\n",
      "Dados dos Sensores: f1 = 239.0 | f2 = 290.0 | f3 = 389.0 | f4 = 490.0 | f5 = 610.0 | f6 = 685.0 | f7 = 779.0 | f8 = 918.0 | clear = 4067.0\n",
      "**Plantação com invasores do cultivo principal**\n",
      "A plantação selecionada tem praga do tipo Juazeiro!\n",
      "\n",
      "\n",
      "Plantação:  1\n",
      "Dados dos Sensores: f1 = 279.0 | f2 = 357.0 | f3 = 476.0 | f4 = 568.0 | f5 = 751.0 | f6 = 707.0 | f7 = 877.0 | f8 = 986.0 | clear = 5710.0\n",
      "**Plantação do cultivo principal**\n",
      "A Plantação selecionada não tem praga!\n",
      "\n",
      "\n",
      "Plantação:  2\n",
      "Dados dos Sensores: f1 = 269.0 | f2 = 382.0 | f3 = 483.0 | f4 = 664.0 | f5 = 774.0 | f6 = 850.0 | f7 = 1083.0 | f8 = 1308.0 | clear = 5917.0\n",
      "**Plantação com invasores do cultivo principal**\n",
      "A plantação selecionada tem praga do tipo Caruru!\n",
      "\n",
      "\n",
      "Plantação:  3\n",
      "Dados dos Sensores: f1 = 262.0 | f2 = 315.0 | f3 = 399.0 | f4 = 547.0 | f5 = 659.0 | f6 = 757.0 | f7 = 837.0 | f8 = 997.0 | clear = 4237.0\n",
      "**Plantação do cultivo principal**\n",
      "A Plantação selecionada não tem praga!\n",
      "\n",
      "\n",
      "Plantação:  4\n",
      "Dados dos Sensores: f1 = 301.0 | f2 = 402.0 | f3 = 481.0 | f4 = 632.0 | f5 = 735.0 | f6 = 847.0 | f7 = 874.0 | f8 = 1096.0 | clear = 6570.0\n",
      "**Plantação com invasores do cultivo principal**\n",
      "A plantação selecionada tem praga do tipo Amargoso!\n",
      "\n",
      "\n",
      "Plantação:  5\n",
      "Dados dos Sensores: f1 = 240.0 | f2 = 311.0 | f3 = 405.0 | f4 = 528.0 | f5 = 630.0 | f6 = 702.0 | f7 = 842.0 | f8 = 990.0 | clear = 3854.0\n",
      "**Plantação com invasores do cultivo principal**\n",
      "A plantação selecionada tem praga do tipo Juazeiro!\n",
      "\n",
      "\n",
      "Plantação:  6\n",
      "Dados dos Sensores: f1 = 322.0 | f2 = 447.0 | f3 = 570.0 | f4 = 727.0 | f5 = 919.0 | f6 = 997.0 | f7 = 1306.0 | f8 = 1521.0 | clear = 7792.0\n",
      "**Plantação com invasores do cultivo principal**\n",
      "A plantação selecionada tem praga do tipo Amargoso!\n",
      "\n",
      "\n",
      "Plantação:  7\n",
      "Dados dos Sensores: f1 = 252.0 | f2 = 316.0 | f3 = 398.0 | f4 = 534.0 | f5 = 665.0 | f6 = 705.0 | f7 = 779.0 | f8 = 930.0 | clear = 4376.0\n",
      "**Plantação do cultivo principal**\n",
      "A Plantação selecionada não tem praga!\n",
      "\n",
      "\n",
      "Plantação:  8\n",
      "Dados dos Sensores: f1 = 361.0 | f2 = 489.0 | f3 = 581.0 | f4 = 727.0 | f5 = 965.0 | f6 = 1085.0 | f7 = 1060.0 | f8 = 1353.0 | clear = 7678.0\n",
      "**Plantação com invasores do cultivo principal**\n",
      "A plantação selecionada tem praga do tipo Amargoso!\n",
      "\n",
      "\n",
      "Plantação:  9\n",
      "Dados dos Sensores: f1 = 307.0 | f2 = 438.0 | f3 = 546.0 | f4 = 712.0 | f5 = 852.0 | f6 = 822.0 | f7 = 1032.0 | f8 = 1091.0 | clear = 6841.0\n",
      "**Plantação do cultivo principal**\n",
      "A Plantação selecionada não tem praga!\n",
      "\n",
      "\n",
      "Plantação:  10\n",
      "Dados dos Sensores: f1 = 475.0 | f2 = 626.0 | f3 = 871.0 | f4 = 1023.0 | f5 = 1308.0 | f6 = 1397.0 | f7 = 1791.0 | f8 = 2207.0 | clear = 8475.0\n",
      "**Plantação com invasores do cultivo principal**\n",
      "A plantação selecionada tem praga do tipo Caruru!\n",
      "\n",
      "\n",
      "Plantação:  11\n",
      "Dados dos Sensores: f1 = 301.0 | f2 = 369.0 | f3 = 442.0 | f4 = 582.0 | f5 = 734.0 | f6 = 785.0 | f7 = 809.0 | f8 = 962.0 | clear = 5397.0\n",
      "**Plantação com invasores do cultivo principal**\n",
      "A plantação selecionada tem praga do tipo Amargoso!\n",
      "\n",
      "\n",
      "Plantação:  12\n",
      "Dados dos Sensores: f1 = 244.0 | f2 = 300.0 | f3 = 373.0 | f4 = 511.0 | f5 = 615.0 | f6 = 692.0 | f7 = 734.0 | f8 = 884.0 | clear = 4418.0\n",
      "**Plantação do cultivo principal**\n",
      "A Plantação selecionada não tem praga!\n",
      "\n",
      "\n",
      "Plantação:  13\n",
      "Dados dos Sensores: f1 = 263.0 | f2 = 333.0 | f3 = 438.0 | f4 = 541.0 | f5 = 707.0 | f6 = 704.0 | f7 = 813.0 | f8 = 947.0 | clear = 5031.0\n",
      "**Plantação do cultivo principal**\n",
      "A Plantação selecionada não tem praga!\n",
      "\n",
      "\n",
      "Plantação:  14\n",
      "Dados dos Sensores: f1 = 248.0 | f2 = 311.0 | f3 = 385.0 | f4 = 510.0 | f5 = 624.0 | f6 = 685.0 | f7 = 741.0 | f8 = 887.0 | clear = 3988.0\n",
      "**Plantação com invasores do cultivo principal**\n",
      "A plantação selecionada tem praga do tipo Leiteiro!\n",
      "\n",
      "\n",
      "Plantação:  15\n",
      "Dados dos Sensores: f1 = 344.0 | f2 = 454.0 | f3 = 570.0 | f4 = 710.0 | f5 = 839.0 | f6 = 944.0 | f7 = 1004.0 | f8 = 1224.0 | clear = 6707.0\n",
      "**Plantação com invasores do cultivo principal**\n",
      "A plantação selecionada tem praga do tipo Juazeiro!\n",
      "\n",
      "\n",
      "Plantação:  16\n",
      "Dados dos Sensores: f1 = 279.0 | f2 = 354.0 | f3 = 480.0 | f4 = 567.0 | f5 = 764.0 | f6 = 706.0 | f7 = 876.0 | f8 = 974.0 | clear = 5791.0\n",
      "**Plantação do cultivo principal**\n",
      "A Plantação selecionada não tem praga!\n",
      "\n",
      "\n",
      "Plantação:  17\n",
      "Dados dos Sensores: f1 = 268.0 | f2 = 336.0 | f3 = 446.0 | f4 = 549.0 | f5 = 715.0 | f6 = 700.0 | f7 = 842.0 | f8 = 954.0 | clear = 5264.0\n",
      "**Plantação do cultivo principal**\n",
      "A Plantação selecionada não tem praga!\n",
      "\n",
      "\n",
      "Plantação:  18\n",
      "Dados dos Sensores: f1 = 232.0 | f2 = 279.0 | f3 = 355.0 | f4 = 484.0 | f5 = 572.0 | f6 = 631.0 | f7 = 696.0 | f8 = 795.0 | clear = 3792.0\n",
      "**Plantação do cultivo principal**\n",
      "A Plantação selecionada não tem praga!\n",
      "\n",
      "\n",
      "Plantação:  19\n",
      "Dados dos Sensores: f1 = 272.0 | f2 = 347.0 | f3 = 471.0 | f4 = 559.0 | f5 = 744.0 | f6 = 701.0 | f7 = 851.0 | f8 = 957.0 | clear = 5630.0\n",
      "**Plantação do cultivo principal**\n",
      "A Plantação selecionada não tem praga!\n",
      "\n",
      "\n",
      "Plantação:  20\n",
      "Dados dos Sensores: f1 = 265.0 | f2 = 331.0 | f3 = 441.0 | f4 = 542.0 | f5 = 714.0 | f6 = 699.0 | f7 = 832.0 | f8 = 947.0 | clear = 5219.0\n",
      "**Plantação do cultivo principal**\n",
      "A Plantação selecionada não tem praga!\n",
      "\n",
      "\n",
      "Plantação:  21\n",
      "Dados dos Sensores: f1 = 337.0 | f2 = 443.0 | f3 = 524.0 | f4 = 663.0 | f5 = 784.0 | f6 = 949.0 | f7 = 946.0 | f8 = 1292.0 | clear = 6253.0\n",
      "**Plantação com invasores do cultivo principal**\n",
      "A plantação selecionada tem praga do tipo Amargoso!\n",
      "\n",
      "\n",
      "Plantação:  22\n",
      "Dados dos Sensores: f1 = 240.0 | f2 = 313.0 | f3 = 406.0 | f4 = 536.0 | f5 = 630.0 | f6 = 710.0 | f7 = 845.0 | f8 = 990.0 | clear = 3764.0\n",
      "**Plantação com invasores do cultivo principal**\n",
      "A plantação selecionada tem praga do tipo Juazeiro!\n",
      "\n",
      "\n",
      "Plantação:  23\n",
      "Dados dos Sensores: f1 = 235.0 | f2 = 300.0 | f3 = 362.0 | f4 = 484.0 | f5 = 559.0 | f6 = 592.0 | f7 = 643.0 | f8 = 740.0 | clear = 3901.0\n",
      "**Plantação com invasores do cultivo principal**\n",
      "A plantação selecionada tem praga do tipo Leiteiro!\n",
      "\n",
      "\n",
      "Plantação:  24\n",
      "Dados dos Sensores: f1 = 326.0 | f2 = 423.0 | f3 = 583.0 | f4 = 737.0 | f5 = 929.0 | f6 = 1029.0 | f7 = 1248.0 | f8 = 1512.0 | clear = 7718.0\n",
      "**Plantação do cultivo principal**\n",
      "A Plantação selecionada não tem praga!\n",
      "\n",
      "\n",
      "Plantação:  25\n",
      "Dados dos Sensores: f1 = 289.0 | f2 = 348.0 | f3 = 446.0 | f4 = 596.0 | f5 = 724.0 | f6 = 862.0 | f7 = 1016.0 | f8 = 1186.0 | clear = 4851.0\n",
      "**Plantação com invasores do cultivo principal**\n",
      "A plantação selecionada tem praga do tipo Amargoso!\n",
      "\n",
      "\n"
     ]
    }
   ],
   "source": [
    "#  Criação do Dataframe com resultados sintetizados\n",
    "colunas = ['f1', 'f2', 'f3', 'f4', 'f5', 'f6', 'f7', 'f8', 'clear', 'saída', 'tipo']\n",
    "df_resultado_predicao = pd.DataFrame(columns = colunas)\n",
    "\n",
    "#------Experimentos com os dados da base de teste------\n",
    "cont = 0\n",
    "for index, row in dados_praga_teste.iterrows():\n",
    "    print('Plantação: ', cont)\n",
    "    print('Dados dos Sensores: f1 = {} | f2 = {} | f3 = {} | f4 = {} | f5 = {} | f6 = {} | f7 = {} | f8 = {} | clear = {}'.format(row.f1, row.f2, row.f3, row.f4, row.f5, row.f6, row.f7, row.f8, row.clear))\n",
    "    \n",
    "    # Inserindo informações no Dataframe dos resultados\n",
    "    df_resultado_predicao.loc[cont, 'f1'] = row.f1\n",
    "    df_resultado_predicao.loc[cont, 'f2'] = row.f2\n",
    "    df_resultado_predicao.loc[cont, 'f3'] = row.f3\n",
    "    df_resultado_predicao.loc[cont, 'f4'] = row.f4\n",
    "    df_resultado_predicao.loc[cont, 'f5'] = row.f5\n",
    "    df_resultado_predicao.loc[cont, 'f6'] = row.f6\n",
    "    df_resultado_predicao.loc[cont, 'f7'] = row.f7\n",
    "    df_resultado_predicao.loc[cont, 'f8'] = row.f8\n",
    "    df_resultado_predicao.loc[cont, 'clear'] = row.clear\n",
    "    \n",
    "    # Prevendo se a plantação tem praga ou não\n",
    "    resultado_id_praga = model_identificacao_praga.predict([X_id_praga_teste[cont]])\n",
    "    \n",
    "    df_resultado_predicao.loc[cont, 'saída'] = resultado_id_praga[0]\n",
    "    \n",
    "    # Caso a plantação tenha praga, logo identificar qual tipo de praga\n",
    "    if resultado_id_praga[0] == 1.0:\n",
    "        \n",
    "        # Prevendo qual tipo de praga está presente na plantação\n",
    "        resultado_id_tipo_praga = model_identificacao_tipo_praga.predict([X_id_praga_teste[cont]])\n",
    "        \n",
    "        # Praga do tipo Amargoso\n",
    "        if resultado_id_tipo_praga[0] == 0.0:\n",
    "            print('**Plantação com invasores do cultivo principal**')\n",
    "            print('A plantação selecionada tem praga do tipo Amargoso!')\n",
    "            \n",
    "            df_resultado_predicao.loc[cont, 'tipo'] = \"A\"\n",
    "            \n",
    "        # Praga do tipo Caruru\n",
    "        elif resultado_id_tipo_praga[0] == 1.0:\n",
    "            print('**Plantação com invasores do cultivo principal**')\n",
    "            print('A plantação selecionada tem praga do tipo Caruru!')\n",
    "            \n",
    "            df_resultado_predicao.loc[cont, 'tipo'] = \"C\"\n",
    "            \n",
    "        # Praga do tipo Juazeiro\n",
    "        elif resultado_id_tipo_praga[0] == 2.0:\n",
    "            print('**Plantação com invasores do cultivo principal**')\n",
    "            print('A plantação selecionada tem praga do tipo Juazeiro!')\n",
    "            \n",
    "            df_resultado_predicao.loc[cont, 'tipo'] = \"J\"\n",
    "            \n",
    "        # Praga do tipo Leiteiro\n",
    "        else:\n",
    "            print('**Plantação com invasores do cultivo principal**')\n",
    "            print('A plantação selecionada tem praga do tipo Leiteiro!')\n",
    "            \n",
    "            df_resultado_predicao.loc[cont, 'tipo'] = \"L\"\n",
    "    else:\n",
    "        print('**Plantação do cultivo principal**')\n",
    "        print('A Plantação selecionada não tem praga!')\n",
    "        \n",
    "        df_resultado_predicao.loc[cont, 'tipo'] = \"SEM PRAGA\"\n",
    "        \n",
    "    print('\\n')\n",
    "    cont+=1"
   ]
  },
  {
   "cell_type": "code",
   "execution_count": 84,
   "metadata": {},
   "outputs": [
    {
     "name": "stdout",
     "output_type": "stream",
     "text": [
      "       f1     f2     f3      f4      f5      f6      f7      f8   clear saída  \\\n",
      "0   239.0  290.0  389.0   490.0   610.0   685.0   779.0   918.0  4067.0   1.0   \n",
      "1   279.0  357.0  476.0   568.0   751.0   707.0   877.0   986.0  5710.0   0.0   \n",
      "2   269.0  382.0  483.0   664.0   774.0   850.0  1083.0  1308.0  5917.0   1.0   \n",
      "3   262.0  315.0  399.0   547.0   659.0   757.0   837.0   997.0  4237.0   0.0   \n",
      "4   301.0  402.0  481.0   632.0   735.0   847.0   874.0  1096.0  6570.0   1.0   \n",
      "5   240.0  311.0  405.0   528.0   630.0   702.0   842.0   990.0  3854.0   1.0   \n",
      "6   322.0  447.0  570.0   727.0   919.0   997.0  1306.0  1521.0  7792.0   1.0   \n",
      "7   252.0  316.0  398.0   534.0   665.0   705.0   779.0   930.0  4376.0   0.0   \n",
      "8   361.0  489.0  581.0   727.0   965.0  1085.0  1060.0  1353.0  7678.0   1.0   \n",
      "9   307.0  438.0  546.0   712.0   852.0   822.0  1032.0  1091.0  6841.0   0.0   \n",
      "10  475.0  626.0  871.0  1023.0  1308.0  1397.0  1791.0  2207.0  8475.0   1.0   \n",
      "11  301.0  369.0  442.0   582.0   734.0   785.0   809.0   962.0  5397.0   1.0   \n",
      "12  244.0  300.0  373.0   511.0   615.0   692.0   734.0   884.0  4418.0   0.0   \n",
      "13  263.0  333.0  438.0   541.0   707.0   704.0   813.0   947.0  5031.0   0.0   \n",
      "14  248.0  311.0  385.0   510.0   624.0   685.0   741.0   887.0  3988.0   1.0   \n",
      "15  344.0  454.0  570.0   710.0   839.0   944.0  1004.0  1224.0  6707.0   1.0   \n",
      "16  279.0  354.0  480.0   567.0   764.0   706.0   876.0   974.0  5791.0   0.0   \n",
      "17  268.0  336.0  446.0   549.0   715.0   700.0   842.0   954.0  5264.0   0.0   \n",
      "18  232.0  279.0  355.0   484.0   572.0   631.0   696.0   795.0  3792.0   0.0   \n",
      "19  272.0  347.0  471.0   559.0   744.0   701.0   851.0   957.0  5630.0   0.0   \n",
      "20  265.0  331.0  441.0   542.0   714.0   699.0   832.0   947.0  5219.0   0.0   \n",
      "21  337.0  443.0  524.0   663.0   784.0   949.0   946.0  1292.0  6253.0   1.0   \n",
      "22  240.0  313.0  406.0   536.0   630.0   710.0   845.0   990.0  3764.0   1.0   \n",
      "23  235.0  300.0  362.0   484.0   559.0   592.0   643.0   740.0  3901.0   1.0   \n",
      "24  326.0  423.0  583.0   737.0   929.0  1029.0  1248.0  1512.0  7718.0   0.0   \n",
      "25  289.0  348.0  446.0   596.0   724.0   862.0  1016.0  1186.0  4851.0   1.0   \n",
      "\n",
      "         tipo  \n",
      "0           J  \n",
      "1   SEM PRAGA  \n",
      "2           C  \n",
      "3   SEM PRAGA  \n",
      "4           A  \n",
      "5           J  \n",
      "6           A  \n",
      "7   SEM PRAGA  \n",
      "8           A  \n",
      "9   SEM PRAGA  \n",
      "10          C  \n",
      "11          A  \n",
      "12  SEM PRAGA  \n",
      "13  SEM PRAGA  \n",
      "14          L  \n",
      "15          J  \n",
      "16  SEM PRAGA  \n",
      "17  SEM PRAGA  \n",
      "18  SEM PRAGA  \n",
      "19  SEM PRAGA  \n",
      "20  SEM PRAGA  \n",
      "21          A  \n",
      "22          J  \n",
      "23          L  \n",
      "24  SEM PRAGA  \n",
      "25          A  \n"
     ]
    }
   ],
   "source": [
    "# Dataframe com os resultados sintetizados\n",
    "print(df_resultado_predicao)"
   ]
  },
  {
   "cell_type": "markdown",
   "metadata": {},
   "source": [
    "-----------------"
   ]
  },
  {
   "cell_type": "markdown",
   "metadata": {},
   "source": [
    "## 8 - Relatório de Desenvolvimento"
   ]
  },
  {
   "cell_type": "markdown",
   "metadata": {},
   "source": [
    "### 1 - Seleção de Algoritmo/Técnica de IA"
   ]
  },
  {
   "cell_type": "markdown",
   "metadata": {},
   "source": [
    "- Para o modelo de detecção de pragas o algoritmo escolhido foi o Random Forest (88.46% de acurácia), já para modelo de detecção de tipos de pragas o algoritmo escolhido foi o Support Vector Machine (88.69% de acurácia). Desse modo, a escolha foi baseada coforme o resultado obtido nos testes de avaliação em comparação com outros algoritmos e testes estatísticos.\n"
   ]
  },
  {
   "cell_type": "markdown",
   "metadata": {},
   "source": [
    "### 2 - Critérios de Seleção de Dados Treinamento"
   ]
  },
  {
   "cell_type": "markdown",
   "metadata": {},
   "source": [
    "- Balanceamento da Base de Dados de Treinamento para o modelo de detecção de pragas, sendo que a base tem 90% da quantidade de dados da menor proporção de dados dentre os rótulos dispostos.\n",
    "\n",
    "- Base de Treinamento do modelo de identificação de pragas: 230 exemplos, sendo 115 do tipo 0 e sendo 115 do tipo 1.\n",
    "\n",
    "- Base de Treinamento do modelo de identificação de tipo de pragas: 256 exemplos, sendo 64 do tipo A, sendo 64 do tipo C, sendo 64 do tipo J, sendo 64 do tipo L.\n",
    "\n"
   ]
  },
  {
   "cell_type": "markdown",
   "metadata": {},
   "source": [
    "### 3 - Critérios de Seleção de Dados Validação"
   ]
  },
  {
   "cell_type": "markdown",
   "metadata": {},
   "source": [
    "- Balanceamento da Base de Dados de Treinamento para o modelo de detecção de pragas, sendo que a base tem 10% da quantidade de dados da menor proporção de dados dentre os rótulos dispostos.\n",
    "\n",
    "- Base de Treinamento do modelo de identificação de pragas: 26 exemplos, sendo 13 do tipo 0 e sendo 13 do tipo 1.\n",
    "\n",
    "- Base de Treinamento do modelo de identificação de tipo de pragas: 32 exemplos, sendo 8 do tipo A, sendo 8 do tipo C, sendo 8 do tipo J, sendo 8 do tipo L."
   ]
  },
  {
   "cell_type": "markdown",
   "metadata": {},
   "source": [
    "### 4 - Critérios de Análise Prática dos Resultados"
   ]
  },
  {
   "cell_type": "markdown",
   "metadata": {},
   "source": [
    "- Métricas de Avaliação:\n",
    "    - Acurácia;\n",
    "    - Precisão; \n",
    "    - Recall; \n",
    "    - F1-Score.\n",
    "- Matriz de Confusão;\n",
    "- Teste Estatístico:\n",
    "    - Análise de Distribuição;\n",
    "    - Análise de Variável Independente."
   ]
  },
  {
   "cell_type": "markdown",
   "metadata": {},
   "source": [
    "### 5 - Desenvolvimento"
   ]
  },
  {
   "cell_type": "markdown",
   "metadata": {},
   "source": [
    "- Pré-processamento;\n",
    "- Análise de Dados;\n",
    "- Balanceamento e criação do conjunto de treinamento e teste para o modelo de identificação de pragas;\n",
    "- Balanceamento e criação do conjunto de treinamento e teste para o modelo de identificação de tipos de pragas;\n",
    "- Otimização de Hiperparâmetros;\n",
    "- Criação do modelo de identificação de pragas;\n",
    "- Validação do modelode de identificação de pragas;\n",
    "- Testes Estatísticos para o modelo de identificação de pragas;\n",
    "- Criação do modelo de identificação de tipos de pragas;\n",
    "- Validação do modelode de identificação de tipo de pragas;\n",
    "- Testes Estatísticos para o modelo de identificação de tipos de pragas;\n",
    "- Aplicação dos modelos desenvolvidos em conjunto na base de teste."
   ]
  },
  {
   "cell_type": "markdown",
   "metadata": {},
   "source": [
    "### 6 - Problemas enfrentados"
   ]
  },
  {
   "cell_type": "markdown",
   "metadata": {},
   "source": [
    "Quantidade de dados é pouca e meu computador não possui uma placa de vídeo, logo não consegui usufruir do processamento dos dados via GPU (CUDA)."
   ]
  },
  {
   "cell_type": "markdown",
   "metadata": {},
   "source": [
    "### 7 - Técnicas utilizadas para enfrentar e resolver os problemas enfrentados"
   ]
  },
  {
   "cell_type": "markdown",
   "metadata": {},
   "source": [
    "- Pré-processamento;\n",
    "- Análise de Dados;\n",
    "- Balanceamento da base de dados;\n",
    "- Criação de conjunto verdade;\n",
    "- Otimização de Hiperparâmetros;\n",
    "- Desenvolvimento dos modelos de classificação;\n",
    "- Validação dos modelos de classificação;\n",
    "- Testes Estatísticos."
   ]
  }
 ],
 "metadata": {
  "kernelspec": {
   "display_name": "Python 3",
   "language": "python",
   "name": "python3"
  },
  "language_info": {
   "codemirror_mode": {
    "name": "ipython",
    "version": 3
   },
   "file_extension": ".py",
   "mimetype": "text/x-python",
   "name": "python",
   "nbconvert_exporter": "python",
   "pygments_lexer": "ipython3",
   "version": "3.8.5"
  }
 },
 "nbformat": 4,
 "nbformat_minor": 4
}
