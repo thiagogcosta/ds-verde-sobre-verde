{
 "cells": [
  {
   "cell_type": "markdown",
   "metadata": {},
   "source": [
    "# Identificação de pragas em colheitas"
   ]
  },
  {
   "cell_type": "markdown",
   "metadata": {},
   "source": [
    "1 - Importação das bibliotecas:"
   ]
  },
  {
   "cell_type": "code",
   "execution_count": 140,
   "metadata": {},
   "outputs": [],
   "source": [
    "import pandas as pd\n",
    "import numpy as np\n",
    "import matplotlib.pyplot as plt\n",
    "import seaborn as sns\n",
    "from sklearn.preprocessing import StandardScaler"
   ]
  },
  {
   "cell_type": "markdown",
   "metadata": {},
   "source": [
    "2 - Definição dos parâmetros dos Datasets e leitura dos arquivos:"
   ]
  },
  {
   "cell_type": "code",
   "execution_count": 141,
   "metadata": {},
   "outputs": [],
   "source": [
    "# Nome dos arquivos que serão lidos\n",
    "amargoso = 'data/_amargoso.csv'\n",
    "braquiaria = 'data/_braquiaria.csv'\n",
    "caruru = 'data/_caruru.csv'\n",
    "juazeiro = 'data/_juazeiro.csv'\n",
    "leiteiro = 'data/_leiteiro.csv'\n",
    "\n",
    "# Criação dos Dataframes\n",
    "df_amargoso = pd.read_csv(amargoso, sep=',')\n",
    "df_braquiaria = pd.read_csv(braquiaria, sep=',')\n",
    "df_caruru = pd.read_csv(caruru, sep=',')\n",
    "df_juazeiro = pd.read_csv(juazeiro, sep=',')\n",
    "df_leiteiro = pd.read_csv(leiteiro, sep=',')\n",
    "\n",
    "# Renomear as colunas dos Dataframes:\n",
    "vec_dfs = [df_amargoso, df_braquiaria, df_caruru, df_juazeiro, df_leiteiro]\n",
    "\n",
    "for df in vec_dfs:\n",
    "    df.rename(columns={'Sample num' : 'id', 'F1 (410nm)' : 'f1', 'F2 (440nm)' : 'f2', \n",
    "                       'F3 (470nm)' : 'f3', 'F4 (510nm)' : 'f4', 'F5 (550nm)' : 'f5', \n",
    "                       'F6 (583nm)' : 'f6', 'F7 (620nm)' : 'f7', 'F8 (670nm)' : 'f8', \n",
    "                       'CLEAR' : 'clear', 'SAIDA' : 'y'}, inplace = True)\n",
    "    df.drop('Function', axis=1, inplace=True)"
   ]
  },
  {
   "cell_type": "code",
   "execution_count": 142,
   "metadata": {},
   "outputs": [],
   "source": [
    "# Tipos de pragas\n",
    "# - 0 = Amargoso\n",
    "# - 1 = Caruru\n",
    "# - 2 = Juazeiro\n",
    "# - 3 = Leiteiro\n",
    "# - 4 = Sem praga\n",
    "\n",
    "df_amargoso['tipo'] = '0'\n",
    "df_caruru['tipo'] = '1'\n",
    "df_juazeiro['tipo'] = '2'\n",
    "df_leiteiro['tipo'] = '3'\n",
    "df_braquiaria['tipo'] = '4'"
   ]
  },
  {
   "cell_type": "markdown",
   "metadata": {},
   "source": [
    "3 - Pré-processamento dos dados"
   ]
  },
  {
   "cell_type": "code",
   "execution_count": 143,
   "metadata": {},
   "outputs": [],
   "source": [
    "# Converter dados de Inteiro e Object para Float\n",
    "def converter_colunas_float(df):\n",
    "    df['f1'] = df.f1.astype(np.float64)\n",
    "    df['f2'] = df.f2.astype(np.float64)\n",
    "    df['f3'] = df.f3.astype(np.float64)\n",
    "    df['f4'] = df.f4.astype(np.float64)\n",
    "    df['f5'] = df.f5.astype(np.float64)\n",
    "    df['f6'] = df.f6.astype(np.float64)\n",
    "    df['f7'] = df.f7.astype(np.float64)\n",
    "    df['f8'] = df.f8.astype(np.float64)\n",
    "    df['clear'] = pd.to_numeric(df['clear'],errors='coerce')\n",
    "    df['y'] = df.y.astype(np.float64)\n",
    "    df['tipo'] = df.tipo.astype(np.float64)\n",
    "    \n",
    "    return df\n",
    "\n",
    "# Dados Faltantes\n",
    "# - Verificação da existência de dados faltantes\n",
    "# - - Substituição de dados faltantes pelo o valor obtido com interpolação linear\n",
    "\n",
    "def inserir_dados_faltantes(df):\n",
    "    if df['f1'].isna().any():\n",
    "        df['f1'] = df.f1.interpolate(method='linear')\n",
    "    if df['f2'].isna().any():\n",
    "        df['f2'] = df.f2.interpolate(method='linear')\n",
    "    if df['f3'].isna().any():\n",
    "        df['f3'] = df.f3.interpolate(method='linear')\n",
    "    if df['f4'].isna().any():\n",
    "        df['f4'] = df.f4.interpolate(method='linear')\n",
    "    if df['f5'].isna().any():\n",
    "        df['f5'] = df.f5.interpolate(method='linear')\n",
    "    if df['f6'].isna().any():\n",
    "        df['f6'] = df.f6.interpolate(method='linear')\n",
    "    if df['f7'].isna().any():\n",
    "        df['f7'] = df.f7.interpolate(method='linear')\n",
    "    if df['f8'].isna().any():\n",
    "        df['f8'] = df.f8.interpolate(method='linear')\n",
    "    if df['clear'].isna().any():\n",
    "        df['clear'] = df.clear.interpolate(method='linear')\n",
    "    \n",
    "    return df\n",
    "\n",
    "#-------------------------------------------------------------------------\n",
    "\n",
    "# Vetor de Dataframes\n",
    "vec_dfs = [df_amargoso, df_braquiaria, df_caruru, df_juazeiro, df_leiteiro]\n",
    "\n",
    "vec_df_preprocessados = []\n",
    "\n",
    "for df in vec_dfs:\n",
    "    \n",
    "    # Converter os dados para float\n",
    "    df = converter_colunas_float(df)\n",
    "\n",
    "    # Inserir os dados faltantes via interpolação linear\n",
    "    df = inserir_dados_faltantes(df)\n",
    "    \n",
    "    # Inserir os Dataframes Pré-processados em um vetor\n",
    "    vec_df_preprocessados.append(df)\n",
    "\n",
    "# Concatenar todos os Dataframes\n",
    "df_preprocessado = pd.concat(vec_df_preprocessados)\n",
    "\n",
    "# Resetar o index do Dataframe\n",
    "df_preprocessado = df_preprocessado.reset_index()\n",
    "\n",
    "# Seleção dos parâmetros mais interessantes\n",
    "df_preprocessado = df_preprocessado[['f1','f2','f3','f4','f5','f6','f7','f8','clear','y','tipo']]\n",
    "\n",
    "# Salvar o DataFrame Pré-processado\n",
    "df_preprocessado.to_csv('df_preprocessado.csv')"
   ]
  },
  {
   "cell_type": "code",
   "execution_count": 144,
   "metadata": {
    "scrolled": true
   },
   "outputs": [
    {
     "name": "stdout",
     "output_type": "stream",
     "text": [
      "-------Total de Linhas do Dataframe Pré-processado-------\n",
      "637\n",
      "-------Pré-visualização dos dados do Dataframe-------\n",
      "      f1     f2     f3     f4     f5     f6      f7      f8   clear    y  tipo\n",
      "0  366.0  471.0  632.0  796.0  999.0  967.0  1326.0  1532.0  7318.0  1.0   0.0\n",
      "1  336.0  459.0  595.0  811.0  987.0  953.0  1356.0  1478.0  7284.0  1.0   0.0\n",
      "2  333.0  470.0  610.0  849.0  992.0  958.0  1472.0  1487.0  7427.0  1.0   0.0\n",
      "3  337.0  453.0  589.0  774.0  933.0  949.0  1316.0  1406.0  6916.0  1.0   0.0\n",
      "4  329.0  454.0  585.0  783.0  948.0  951.0  1311.0  1490.0  6953.0  1.0   0.0\n",
      "-------Descrição dos tipos das variáveis contidas no Dataframe-------\n",
      "f1       float64\n",
      "f2       float64\n",
      "f3       float64\n",
      "f4       float64\n",
      "f5       float64\n",
      "f6       float64\n",
      "f7       float64\n",
      "f8       float64\n",
      "clear    float64\n",
      "y        float64\n",
      "tipo     float64\n",
      "dtype: object\n",
      "-------Descrição do Dataframe-------\n",
      "               f1          f2          f3           f4           f5  \\\n",
      "count  637.000000  637.000000  637.000000   637.000000   637.000000   \n",
      "mean   308.949765  402.277865  507.406593   654.952904   787.064364   \n",
      "std     64.419937   90.669174  116.620654   146.701257   169.712291   \n",
      "min    210.000000  262.000000  340.000000   433.000000   521.000000   \n",
      "25%    262.000000  333.000000  420.000000   543.000000   661.000000   \n",
      "50%    290.000000  374.000000  471.000000   611.000000   743.000000   \n",
      "75%    346.000000  471.000000  577.000000   748.000000   892.000000   \n",
      "max    510.000000  683.000000  953.000000  1083.000000  1384.000000   \n",
      "\n",
      "                f6           f7           f8        clear           y  \\\n",
      "count   637.000000   637.000000   637.000000   637.000000  637.000000   \n",
      "mean    862.354788   987.450549  1194.594976  5847.492936    0.799058   \n",
      "std     206.829738   264.722085   337.501967  1619.477917    0.401020   \n",
      "min     574.000000   635.000000   740.000000  3360.000000    0.000000   \n",
      "25%     707.000000   795.000000   946.000000  4527.000000    1.000000   \n",
      "50%     794.000000   894.000000  1093.000000  5476.000000    1.000000   \n",
      "75%     971.000000  1087.000000  1347.000000  7284.000000    1.000000   \n",
      "max    1488.000000  1881.000000  2439.000000  9894.000000    1.000000   \n",
      "\n",
      "             tipo  \n",
      "count  637.000000  \n",
      "mean     2.037677  \n",
      "std      1.358120  \n",
      "min      0.000000  \n",
      "25%      1.000000  \n",
      "50%      2.000000  \n",
      "75%      3.000000  \n",
      "max      4.000000  \n"
     ]
    }
   ],
   "source": [
    "# - Informações relevantes sobre os dados pré-processados\n",
    "print('-------Total de Linhas do Dataframe Pré-processado-------')\n",
    "print(len(df_preprocessado))\n",
    "print('-------Pré-visualização dos dados do Dataframe-------')\n",
    "print(df_preprocessado.head())\n",
    "print('-------Descrição dos tipos das variáveis contidas no Dataframe-------')\n",
    "print(df_preprocessado.dtypes)\n",
    "print('-------Descrição do Dataframe-------')\n",
    "print(df_preprocessado.describe())"
   ]
  },
  {
   "cell_type": "markdown",
   "metadata": {},
   "source": [
    "4 - Análise de dados"
   ]
  },
  {
   "cell_type": "code",
   "execution_count": 145,
   "metadata": {},
   "outputs": [],
   "source": [
    "# Correlação entre os dados\n",
    "# - Fazer a correlação de Pearson para verificar a se há correlação entre os dados.\n",
    "# - - - - - - - - - - Níveis de Correlação - - - - - - - - -\n",
    "# - - 0.9 para mais ou para menos indica uma correlação muito forte.\n",
    "# - - 0.7 a 0.9 positivo ou negativo indica uma correlação forte.\n",
    "# - - 0.5 a 0.7 positivo ou negativo indica uma correlação moderada.\n",
    "# - - 0.3 a 0.5 positivo ou negativo indica uma correlação fraca.\n",
    "# - - 0 a 0.3 positivo ou negativo indica uma correlação desprezível.\n",
    "\n",
    "# Realizar a correlação entre as colunas\n",
    "df_correlacao  = df_preprocessado.corr()"
   ]
  },
  {
   "cell_type": "markdown",
   "metadata": {},
   "source": [
    "HeatMap"
   ]
  },
  {
   "cell_type": "code",
   "execution_count": 146,
   "metadata": {
    "scrolled": false
   },
   "outputs": [
    {
     "data": {
      "image/png": "[encoded data removed]",
      "text/plain": [
       "<Figure size 1080x1080 with 2 Axes>"
      ]
     },
     "metadata": {
      "needs_background": "light"
     },
     "output_type": "display_data"
    }
   ],
   "source": [
    "# Visualização das correlações entre das labels do Dataframe através de um heatmap:\n",
    "%matplotlib inline\n",
    "plt.figure(figsize=(15,15))\n",
    "sns.heatmap(df_correlacao, annot=True, linewidths=0.5, linecolor='black', cmap='RdGy_r')\n",
    "plt.xticks(rotation=90)\n",
    "plt.savefig(\"heatmap_correlation.png\", dpi=150) \n",
    "plt.show()"
   ]
  },
  {
   "cell_type": "markdown",
   "metadata": {},
   "source": [
    "Conclusão: As features de \"f1\" até \"clear\" possuem uma correlação forte, logo isso é um bom indício que essas features são representativas, no entanto, como na base de dados possui poucos exemplos balanceados, ou seja há aproximadamente 120 casos do tipo braquiaria e mais de 500 casos de exemplos de dados com praga, logo isso impacta na correlação das features com as saídas."
   ]
  },
  {
   "cell_type": "markdown",
   "metadata": {},
   "source": [
    "PCA (Primary Component Analysis)"
   ]
  },
  {
   "cell_type": "code",
   "execution_count": 147,
   "metadata": {},
   "outputs": [],
   "source": [
    "# Análise dos componentes principais e descoberta das 3 features que mais impactam o modelo"
   ]
  },
  {
   "cell_type": "markdown",
   "metadata": {},
   "source": [
    "4 - Criação do conjunto verdade "
   ]
  },
  {
   "cell_type": "markdown",
   "metadata": {},
   "source": [
    "4.1 - Solução para a identificação de pragas"
   ]
  },
  {
   "cell_type": "code",
   "execution_count": 148,
   "metadata": {},
   "outputs": [],
   "source": [
    "# Resetar o index do Dataframe\n",
    "df_preprocessado = df_preprocessado.reset_index()"
   ]
  },
  {
   "cell_type": "markdown",
   "metadata": {},
   "source": [
    "4.1.1 Criação do conjunto de teste"
   ]
  },
  {
   "cell_type": "code",
   "execution_count": 149,
   "metadata": {},
   "outputs": [
    {
     "name": "stdout",
     "output_type": "stream",
     "text": [
      "     index     f1     f2     f3      f4      f5      f6      f7      f8  \\\n",
      "246    246  279.0  354.0  480.0   567.0   764.0   706.0   876.0   974.0   \n",
      "229    229  268.0  336.0  446.0   549.0   715.0   700.0   842.0   954.0   \n",
      "180    180  269.0  382.0  483.0   664.0   774.0   850.0  1083.0  1308.0   \n",
      "181    181  326.0  423.0  583.0   737.0   929.0  1029.0  1248.0  1512.0   \n",
      "158    158  244.0  300.0  373.0   511.0   615.0   692.0   734.0   884.0   \n",
      "243    243  272.0  347.0  471.0   559.0   744.0   701.0   851.0   957.0   \n",
      "247    247  279.0  357.0  476.0   568.0   751.0   707.0   877.0   986.0   \n",
      "160    160  262.0  315.0  399.0   547.0   659.0   757.0   837.0   997.0   \n",
      "156    156  232.0  279.0  355.0   484.0   572.0   631.0   696.0   795.0   \n",
      "176    176  252.0  316.0  398.0   534.0   665.0   705.0   779.0   930.0   \n",
      "233    233  263.0  333.0  438.0   541.0   707.0   704.0   813.0   947.0   \n",
      "228    228  265.0  331.0  441.0   542.0   714.0   699.0   832.0   947.0   \n",
      "129    129  322.0  447.0  570.0   727.0   919.0   997.0  1306.0  1521.0   \n",
      "572    572  235.0  300.0  362.0   484.0   559.0   592.0   643.0   740.0   \n",
      "472    472  240.0  311.0  405.0   528.0   630.0   702.0   842.0   990.0   \n",
      "47      47  337.0  443.0  524.0   663.0   784.0   949.0   946.0  1292.0   \n",
      "67      67  361.0  489.0  581.0   727.0   965.0  1085.0  1060.0  1353.0   \n",
      "491    491  239.0  290.0  389.0   490.0   610.0   685.0   779.0   918.0   \n",
      "260    260  475.0  626.0  871.0  1023.0  1308.0  1397.0  1791.0  2207.0   \n",
      "421    421  307.0  438.0  546.0   712.0   852.0   822.0  1032.0  1091.0   \n",
      "31      31  289.0  348.0  446.0   596.0   724.0   862.0  1016.0  1186.0   \n",
      "346    346  301.0  402.0  481.0   632.0   735.0   847.0   874.0  1096.0   \n",
      "90      90  301.0  369.0  442.0   582.0   734.0   785.0   809.0   962.0   \n",
      "612    612  248.0  311.0  385.0   510.0   624.0   685.0   741.0   887.0   \n",
      "473    473  240.0  313.0  406.0   536.0   630.0   710.0   845.0   990.0   \n",
      "119    119  344.0  454.0  570.0   710.0   839.0   944.0  1004.0  1224.0   \n",
      "\n",
      "      clear    y  \n",
      "246  5791.0  0.0  \n",
      "229  5264.0  0.0  \n",
      "180  5917.0  0.0  \n",
      "181  7718.0  0.0  \n",
      "158  4418.0  0.0  \n",
      "243  5630.0  0.0  \n",
      "247  5710.0  0.0  \n",
      "160  4237.0  0.0  \n",
      "156  3792.0  0.0  \n",
      "176  4376.0  0.0  \n",
      "233  5031.0  0.0  \n",
      "228  5219.0  0.0  \n",
      "129  7792.0  0.0  \n",
      "572  3901.0  1.0  \n",
      "472  3854.0  1.0  \n",
      "47   6253.0  1.0  \n",
      "67   7678.0  1.0  \n",
      "491  4067.0  1.0  \n",
      "260  8475.0  1.0  \n",
      "421  6841.0  1.0  \n",
      "31   4851.0  1.0  \n",
      "346  6570.0  1.0  \n",
      "90   5397.0  1.0  \n",
      "612  3988.0  1.0  \n",
      "473  3764.0  1.0  \n",
      "119  6707.0  1.0  \n"
     ]
    }
   ],
   "source": [
    "# Selecionar as features necessárias\n",
    "df_preprocessado_conj_vdd = df_preprocessado[['index','f1','f2','f3','f4','f5','f6','f7','f8','clear','y']]\n",
    "\n",
    "# vetor de bases com y = 0 e y = 1\n",
    "vec_conjunto_vdd = []\n",
    "\n",
    "# Dados do Dataframe que a label \"y\" é 0\n",
    "df_process_y0 = df_preprocessado_conj_vdd[df_preprocessado_conj_vdd['y'] == 0.0]\n",
    "\n",
    "df_process_y0 = df_process_y0.sample(n = 13, random_state=1)\n",
    "\n",
    "vec_conjunto_vdd.append(df_process_y0)\n",
    "\n",
    "# Dados do Dataframe que a label \"y\" é 1\n",
    "df_process_y1 = df_preprocessado_conj_vdd[df_preprocessado_conj_vdd['y'] == 1.0]\n",
    "\n",
    "df_process_y1 = df_process_y1.sample(n = 13, random_state=1)\n",
    "\n",
    "# vetor com o conjunto verdade balanceado\n",
    "vec_conjunto_vdd.append(df_process_y1)\n",
    "\n",
    "# Planejamento do conjunto de treinamento\n",
    "# - 10% da base com menor frequência\n",
    "# - Base com menor frequência = 128\n",
    "# - Conjunto verdade = 13*2\n",
    "\n",
    "vec_df_vdd = pd.concat(vec_conjunto_vdd)\n",
    "\n",
    "print(vec_df_vdd)\n",
    "\n",
    "vec_df_vdd.to_csv('conj_vdd_teste_identificacao_praga.csv')"
   ]
  },
  {
   "cell_type": "markdown",
   "metadata": {},
   "source": [
    "4.1.2 - Criação do conjunto para treinamento"
   ]
  },
  {
   "cell_type": "code",
   "execution_count": 150,
   "metadata": {},
   "outputs": [
    {
     "name": "stdout",
     "output_type": "stream",
     "text": [
      "     index     f1     f2     f3     f4      f5      f6      f7      f8  \\\n",
      "226    226  265.0  329.0  438.0  544.0   703.0   706.0   824.0   954.0   \n",
      "173    173  273.0  333.0  417.0  573.0   698.0   752.0   813.0  1005.0   \n",
      "188    188  304.0  416.0  497.0  663.0   781.0   819.0   914.0  1145.0   \n",
      "215    215  272.0  338.0  453.0  568.0   724.0   722.0   859.0   970.0   \n",
      "201    201  282.0  339.0  453.0  557.0   742.0   753.0   844.0   977.0   \n",
      "..     ...    ...    ...    ...    ...     ...     ...     ...     ...   \n",
      "558    558  269.0  345.0  426.0  565.0   682.0   761.0   822.0  1028.0   \n",
      "371    371  426.0  567.0  761.0  823.0  1009.0  1150.0  1179.0  1528.0   \n",
      "429    429  314.0  439.0  550.0  706.0   842.0   873.0  1003.0  1236.0   \n",
      "442    442  347.0  432.0  531.0  702.0   795.0   852.0   884.0  1093.0   \n",
      "528    528  243.0  302.0  393.0  511.0   630.0   678.0   790.0   937.0   \n",
      "\n",
      "      clear    y  tipo  \n",
      "226  5122.0  0.0   4.0  \n",
      "173  4505.0  0.0   4.0  \n",
      "188  5634.0  0.0   4.0  \n",
      "215  5265.0  0.0   4.0  \n",
      "201  5710.0  0.0   4.0  \n",
      "..      ...  ...   ...  \n",
      "558  4810.0  1.0   3.0  \n",
      "371  9124.0  1.0   2.0  \n",
      "429  6782.0  1.0   2.0  \n",
      "442  6103.0  1.0   2.0  \n",
      "528  3988.0  1.0   2.0  \n",
      "\n",
      "[230 rows x 12 columns]\n"
     ]
    }
   ],
   "source": [
    "# Ids do conjunto de teste\n",
    "ids = vec_df_vdd['index'].values\n",
    "\n",
    "# Conjunto de treino sem a ocorrência dos exemplos usados no teste\n",
    "df_conjunto_treino = df_preprocessado[~df_preprocessado['index'].isin(ids)]\n",
    "\n",
    "# vetor de bases com y = 0 e y = 1\n",
    "vec_conjunto_treino = []\n",
    "\n",
    "# Dados do Dataframe que a label \"y\" é 0\n",
    "df_process_y0_treino = df_conjunto_treino[df_conjunto_treino['y'] == 0.0]\n",
    "\n",
    "df_process_y0_treino = df_process_y0_treino.sample(n = 115, random_state=1)\n",
    "\n",
    "vec_conjunto_treino.append(df_process_y0_treino)\n",
    "\n",
    "# Dados do Dataframe que a label \"y\" é 1\n",
    "df_process_y1_treino = df_conjunto_treino[df_conjunto_treino['y'] == 1.0]\n",
    "\n",
    "df_process_y1_treino = df_process_y1_treino.sample(n = 115, random_state=1)\n",
    "\n",
    "vec_conjunto_treino.append(df_process_y1_treino)\n",
    "\n",
    "# Planejamento do conjunto de treinamento\n",
    "# - 90% da base com menor frequência\n",
    "# - Base com menor frequência = 115\n",
    "# - Conjunto de treino = 115*2\n",
    "\n",
    "vec_conjunto_treino = pd.concat(vec_conjunto_treino)\n",
    "\n",
    "print(vec_conjunto_treino)\n",
    "\n",
    "vec_conjunto_treino.to_csv('conj_vdd_treino_identificacao_praga.csv')"
   ]
  },
  {
   "cell_type": "markdown",
   "metadata": {},
   "source": [
    "4.2 - Solução para a identificação de qual tipo de praga"
   ]
  },
  {
   "cell_type": "markdown",
   "metadata": {},
   "source": [
    "4.2.1 - Criação do conjunto para teste"
   ]
  },
  {
   "cell_type": "code",
   "execution_count": 151,
   "metadata": {},
   "outputs": [
    {
     "name": "stdout",
     "output_type": "stream",
     "text": [
      "     index     f1     f2     f3      f4      f5      f6      f7      f8  \\\n",
      "74      74  378.0  480.0  591.0   736.0   931.0  1014.0  1076.0  1303.0   \n",
      "45      45  349.0  452.0  561.0   718.0   862.0   933.0  1014.0  1339.0   \n",
      "48      48  334.0  535.0  545.0   870.0   843.0  1138.0  1374.0  1363.0   \n",
      "31      31  289.0  348.0  446.0   596.0   724.0   862.0  1016.0  1186.0   \n",
      "65      65  392.0  504.0  652.0   765.0   984.0  1103.0  1105.0  1377.0   \n",
      "66      66  365.0  482.0  573.0   732.0   870.0  1018.0   976.0  1284.0   \n",
      "118    118  350.0  468.0  577.0   709.0   841.0   981.0  1021.0  1262.0   \n",
      "100    100  299.0  425.0  493.0   709.0   788.0   954.0   942.0  1209.0   \n",
      "272    272  452.0  597.0  820.0   936.0  1180.0  1257.0  1628.0  2043.0   \n",
      "308    308  430.0  535.0  691.0   952.0  1095.0  1248.0  1579.0  1795.0   \n",
      "263    263  438.0  580.0  775.0   956.0  1221.0  1266.0  1636.0  2038.0   \n",
      "321    321  437.0  528.0  691.0   885.0  1044.0  1197.0  1491.0  1786.0   \n",
      "306    306  407.0  521.0  687.0   905.0  1079.0  1176.0  1553.0  1736.0   \n",
      "279    279  405.0  575.0  703.0  1016.0  1140.0  1365.0  1751.0  1979.0   \n",
      "292    292  427.0  536.0  689.0   950.0  1067.0  1281.0  1506.0  1843.0   \n",
      "307    307  418.0  528.0  686.0   942.0  1093.0  1246.0  1574.0  1781.0   \n",
      "502    502  238.0  301.0  387.0   503.0   589.0   653.0   744.0   866.0   \n",
      "359    359  342.0  472.0  581.0   699.0   854.0   994.0  1044.0  1365.0   \n",
      "414    414  317.0  428.0  536.0   674.0   794.0   830.0   961.0  1190.0   \n",
      "441    441  343.0  502.0  641.0   798.0   910.0   927.0  1077.0  1178.0   \n",
      "392    392  285.0  370.0  452.0   582.0   676.0   720.0   773.0   969.0   \n",
      "445    445  318.0  444.0  569.0   716.0  1014.0   855.0  1194.0  1081.0   \n",
      "387    387  271.0  340.0  412.0   531.0   612.0   651.0   696.0   848.0   \n",
      "364    364  351.0  482.0  589.0   737.0   842.0   961.0  1072.0  1285.0   \n",
      "605    605  272.0  342.0  430.0   553.0   696.0   722.0   795.0   981.0   \n",
      "625    625  268.0  345.0  440.0   557.0   710.0   759.0   852.0  1065.0   \n",
      "590    590  275.0  356.0  429.0   584.0   709.0   762.0   815.0  1042.0   \n",
      "602    602  242.0  298.0  363.0   472.0   556.0   622.0   678.0   786.0   \n",
      "634    634  326.0  404.0  501.0   665.0   829.0   921.0   933.0  1229.0   \n",
      "621    621  257.0  326.0  402.0   530.0   642.0   712.0   750.0   937.0   \n",
      "607    607  266.0  325.0  415.0   536.0   666.0   732.0   782.0   954.0   \n",
      "599    599  266.0  341.0  420.0   541.0   669.0   703.0   770.0   952.0   \n",
      "\n",
      "      clear  tipo  \n",
      "74   9209.0   0.0  \n",
      "45   6755.0   0.0  \n",
      "48   6783.0   0.0  \n",
      "31   4851.0   0.0  \n",
      "65   7689.0   0.0  \n",
      "66   7114.0   0.0  \n",
      "118  6608.0   0.0  \n",
      "100  6346.0   0.0  \n",
      "272  8756.0   1.0  \n",
      "308  8077.0   1.0  \n",
      "263  8947.0   1.0  \n",
      "321  7817.0   1.0  \n",
      "306  8282.0   1.0  \n",
      "279  8439.0   1.0  \n",
      "292  8301.0   1.0  \n",
      "307  8238.0   1.0  \n",
      "502  3878.0   2.0  \n",
      "359  7430.0   2.0  \n",
      "414  6903.0   2.0  \n",
      "441  6892.0   2.0  \n",
      "392  5122.0   2.0  \n",
      "445  8192.0   2.0  \n",
      "387  4648.0   2.0  \n",
      "364  6879.0   2.0  \n",
      "605  4841.0   3.0  \n",
      "625  4563.0   3.0  \n",
      "590  4861.0   3.0  \n",
      "602  3787.0   3.0  \n",
      "634  5825.0   3.0  \n",
      "621  3984.0   3.0  \n",
      "607  4644.0   3.0  \n",
      "599  4569.0   3.0  \n"
     ]
    }
   ],
   "source": [
    "# Selecionar as features necessárias\n",
    "df_preprocessado_conj_vdd_praga = df_preprocessado[['index','f1','f2','f3','f4','f5','f6','f7','f8','clear','tipo']]\n",
    "\n",
    "# vetor de bases com tipo = 0, tipo = 1, tipo = 2, tipo = 3\n",
    "vec_conjunto_vdd_praga = []\n",
    "\n",
    "# Dados do Dataframe que a label \"tipo\" é 0\n",
    "df_process_tipo0 = df_preprocessado_conj_vdd_praga[df_preprocessado_conj_vdd_praga['tipo'] == 0.0]\n",
    "\n",
    "df_process_tipo0 = df_process_tipo0.sample(n = 8, random_state=1)\n",
    "\n",
    "vec_conjunto_vdd_praga.append(df_process_tipo0)\n",
    "\n",
    "#------------------------------------------\n",
    "\n",
    "# Dados do Dataframe que a label \"tipo\" é 1\n",
    "df_process_tipo1 = df_preprocessado_conj_vdd_praga[df_preprocessado_conj_vdd_praga['tipo'] == 1.0]\n",
    "\n",
    "df_process_tipo1 = df_process_tipo1.sample(n = 8, random_state=1)\n",
    "\n",
    "vec_conjunto_vdd_praga.append(df_process_tipo1)\n",
    "\n",
    "#------------------------------------------\n",
    "\n",
    "# Dados do Dataframe que a label \"tipo\" é 2\n",
    "df_process_tipo2 = df_preprocessado_conj_vdd_praga[df_preprocessado_conj_vdd_praga['tipo'] == 2.0]\n",
    "\n",
    "df_process_tipo2 = df_process_tipo2.sample(n = 8, random_state=1)\n",
    "\n",
    "vec_conjunto_vdd_praga.append(df_process_tipo2)\n",
    "\n",
    "#------------------------------------------\n",
    "\n",
    "# Dados do Dataframe que a label \"tipo\" é 3\n",
    "df_process_tipo3 = df_preprocessado_conj_vdd_praga[df_preprocessado_conj_vdd_praga['tipo'] == 3.0]\n",
    "\n",
    "# Selecionar uma parcela do dataset randomicamente\n",
    "df_process_tipo3 = df_process_tipo3.sample(n = 8, random_state=1)\n",
    "\n",
    "vec_conjunto_vdd_praga.append(df_process_tipo3)\n",
    "\n",
    "# Planejamento do conjunto de teste\n",
    "# - 10% da base com menor frequência\n",
    "# - Base com menor frequência = 72\n",
    "# - Conjunto de teste = 8*4\n",
    "\n",
    "vec_conjunto_teste_praga = pd.concat(vec_conjunto_vdd_praga)\n",
    "\n",
    "print(vec_conjunto_teste_praga)\n",
    "\n",
    "vec_conjunto_teste_praga.to_csv('conj_vdd_teste_identificacao_tipo_praga.csv')\n"
   ]
  },
  {
   "cell_type": "markdown",
   "metadata": {},
   "source": [
    "Criação do conjunto para treinamento"
   ]
  },
  {
   "cell_type": "code",
   "execution_count": 152,
   "metadata": {},
   "outputs": [
    {
     "name": "stdout",
     "output_type": "stream",
     "text": [
      "     index     f1     f2     f3     f4      f5      f6      f7      f8  \\\n",
      "75      75  354.0  473.0  541.0  716.0   878.0   991.0   990.0  1259.0   \n",
      "49      49  305.0  402.0  475.0  618.0   787.0   863.0   995.0  1118.0   \n",
      "61      61  363.0  490.0  586.0  791.0   969.0  1270.0  1261.0  1804.0   \n",
      "122    122  387.0  524.0  658.0  825.0   919.0   877.0  1112.0  1389.0   \n",
      "79      79  385.0  528.0  621.0  832.0  1063.0  1040.0  1304.0  1514.0   \n",
      "..     ...    ...    ...    ...    ...     ...     ...     ...     ...   \n",
      "42      42  340.0  448.0  561.0  754.0   854.0   897.0  1126.0  1295.0   \n",
      "54      54  293.0  395.0  450.0  586.0   689.0   870.0   883.0  1106.0   \n",
      "47      47  337.0  443.0  524.0  663.0   784.0   949.0   946.0  1292.0   \n",
      "123    123  325.0  433.0  558.0  692.0   859.0   834.0  1044.0  1130.0   \n",
      "55      55  299.0  413.0  499.0  632.0   721.0   854.0   894.0  1154.0   \n",
      "\n",
      "      clear    y  tipo  \n",
      "75   8699.0  1.0   0.0  \n",
      "49   6170.0  1.0   0.0  \n",
      "61   8317.0  1.0   0.0  \n",
      "122  7230.0  1.0   0.0  \n",
      "79   9863.0  1.0   0.0  \n",
      "..      ...  ...   ...  \n",
      "42   6529.0  1.0   0.0  \n",
      "54   5437.0  1.0   0.0  \n",
      "47   6253.0  1.0   0.0  \n",
      "123  7112.0  1.0   0.0  \n",
      "55   5934.0  1.0   0.0  \n",
      "\n",
      "[256 rows x 12 columns]\n"
     ]
    }
   ],
   "source": [
    "# Ids do conjunto de teste\n",
    "ids_praga = vec_conjunto_teste_praga['index'].values\n",
    "\n",
    "# Conjunto de treino sem a ocorrência dos exemplos usados no teste\n",
    "df_conjunto_treino_praga = df_preprocessado[~df_preprocessado['index'].isin(ids_praga)]\n",
    "\n",
    "# vetor de bases com tipo = 0, tipo = 1, tipo = 2, tipo = 3\n",
    "vec_conjunto_treino_praga = []\n",
    "\n",
    "# Dados do Dataframe que a label \"tipo\" é 0\n",
    "df_process_tipo0_treino = df_conjunto_treino_praga[df_conjunto_treino_praga['tipo'] == 0.0]\n",
    "\n",
    "# Selecionar uma parcela do dataset randomicamente\n",
    "df_process_tipo0_treino = df_process_tipo0_treino.sample(n = 64, random_state=1)\n",
    "\n",
    "vec_conjunto_treino_praga.append(df_process_tipo0_treino)\n",
    "\n",
    "#--------------------------\n",
    "\n",
    "# Dados do Dataframe que a label \"tipo\" é 1\n",
    "df_process_tipo1_treino = df_conjunto_treino_praga[df_conjunto_treino_praga['tipo'] == 0.0]\n",
    "\n",
    "# Selecionar uma parcela do dataset randomicamente\n",
    "df_process_tipo1_treino = df_process_tipo1_treino.sample(n = 64, random_state=1)\n",
    "\n",
    "vec_conjunto_treino_praga.append(df_process_tipo1_treino)\n",
    "\n",
    "#--------------------------\n",
    "\n",
    "# Dados do Dataframe que a label \"tipo\" é 2\n",
    "df_process_tipo2_treino = df_conjunto_treino_praga[df_conjunto_treino_praga['tipo'] == 0.0]\n",
    "\n",
    "# Selecionar uma parcela do dataset randomicamente\n",
    "df_process_tipo2_treino = df_process_tipo2_treino.sample(n = 64, random_state=1)\n",
    "\n",
    "vec_conjunto_treino_praga.append(df_process_tipo2_treino)\n",
    "\n",
    "#--------------------------\n",
    "\n",
    "# Dados do Dataframe que a label \"tipo\" é 3\n",
    "df_process_tipo3_treino = df_conjunto_treino_praga[df_conjunto_treino_praga['tipo'] == 0.0]\n",
    "\n",
    "# Selecionar uma parcela do dataset randomicamente\n",
    "df_process_tipo3_treino = df_process_tipo3_treino.sample(n = 64, random_state=1)\n",
    "\n",
    "vec_conjunto_treino_praga.append(df_process_tipo3_treino)\n",
    "\n",
    "# Planejamento do conjunto de teste\n",
    "# - 90% da base com menor frequência\n",
    "# - Base com menor frequência = 64\n",
    "# - Conjunto de teste = 64*4\n",
    "\n",
    "vec_conjunto_treino_praga_ok = pd.concat(vec_conjunto_treino_praga)\n",
    "\n",
    "print(vec_conjunto_treino_praga_ok)\n",
    "\n",
    "vec_conjunto_treino_praga_ok.to_csv('conj_vdd_treino_identificacao_tipo_praga.csv')"
   ]
  },
  {
   "cell_type": "code",
   "execution_count": null,
   "metadata": {},
   "outputs": [],
   "source": []
  },
  {
   "cell_type": "code",
   "execution_count": null,
   "metadata": {},
   "outputs": [],
   "source": []
  },
  {
   "cell_type": "code",
   "execution_count": null,
   "metadata": {},
   "outputs": [],
   "source": []
  }
 ],
 "metadata": {
  "kernelspec": {
   "display_name": "Python 3",
   "language": "python",
   "name": "python3"
  },
  "language_info": {
   "codemirror_mode": {
    "name": "ipython",
    "version": 3
   },
   "file_extension": ".py",
   "mimetype": "text/x-python",
   "name": "python",
   "nbconvert_exporter": "python",
   "pygments_lexer": "ipython3",
   "version": "3.7.5"
  }
 },
 "nbformat": 4,
 "nbformat_minor": 4
}
