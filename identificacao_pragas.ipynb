{
 "cells": [
  {
   "cell_type": "markdown",
   "metadata": {},
   "source": [
    "# Identificação de pragas em colheitas"
   ]
  },
  {
   "cell_type": "markdown",
   "metadata": {},
   "source": [
    "1 - Importação das bibliotecas:"
   ]
  },
  {
   "cell_type": "code",
   "execution_count": 135,
   "metadata": {},
   "outputs": [],
   "source": [
    "import pandas as pd\n",
    "import numpy as np\n",
    "from sklearn.preprocessing import LabelEncoder"
   ]
  },
  {
   "cell_type": "markdown",
   "metadata": {},
   "source": [
    "2 - Definição dos parâmetros dos Datasets e leitura dos arquivos:"
   ]
  },
  {
   "cell_type": "code",
   "execution_count": 136,
   "metadata": {},
   "outputs": [],
   "source": [
    "# Nome dos arquivos que serão lidos\n",
    "amargoso = 'data/_amargoso.csv'\n",
    "braquiaria = 'data/_braquiaria.csv'\n",
    "caruru = 'data/_caruru.csv'\n",
    "juazeiro = 'data/_juazeiro.csv'\n",
    "leiteiro = 'data/_leiteiro.csv'\n",
    "\n",
    "# Criação dos Dataframes\n",
    "df_amargoso = pd.read_csv(amargoso, sep=',')\n",
    "df_braquiaria = pd.read_csv(braquiaria, sep=',')\n",
    "df_caruru = pd.read_csv(caruru, sep=',')\n",
    "df_juazeiro = pd.read_csv(juazeiro, sep=',')\n",
    "df_leiteiro = pd.read_csv(leiteiro, sep=',')\n",
    "\n",
    "# Renomear as colunas dos Dataframes:\n",
    "vec_dfs = [df_amargoso, df_braquiaria, df_caruru, df_juazeiro, df_leiteiro]\n",
    "\n",
    "for df in vec_dfs:\n",
    "    df.rename(columns={'Sample num' : 'id', 'F1 (410nm)' : 'f1', 'F2 (440nm)' : 'f2', \n",
    "                       'F3 (470nm)' : 'f3', 'F4 (510nm)' : 'f4', 'F5 (550nm)' : 'f5', \n",
    "                       'F6 (583nm)' : 'f6', 'F7 (620nm)' : 'f7', 'F8 (670nm)' : 'f8', \n",
    "                       'CLEAR' : 'clear', 'SAIDA' : 'y'}, inplace = True)\n",
    "    df.drop('Function', axis=1, inplace=True)\n",
    "\n",
    "# Tipos de pragas\n",
    "# - A = Amargoso\n",
    "# - C = Caruru\n",
    "# - J = Juazeiro\n",
    "# - L = Leiteiro\n",
    "# - N = Sem praga\n",
    "\n",
    "df_amargoso['tipo'] = 'A'\n",
    "df_braquiaria['tipo'] = 'N'\n",
    "df_caruru['tipo'] = 'C'\n",
    "df_juazeiro['tipo'] = 'J'\n",
    "df_leiteiro['tipo'] = 'L'"
   ]
  },
  {
   "cell_type": "markdown",
   "metadata": {},
   "source": [
    "3 - Pré-processamento dos dados"
   ]
  },
  {
   "cell_type": "code",
   "execution_count": 141,
   "metadata": {},
   "outputs": [
    {
     "name": "stdout",
     "output_type": "stream",
     "text": [
      "f1       float64\n",
      "f2       float64\n",
      "f3       float64\n",
      "f4       float64\n",
      "f5       float64\n",
      "f6       float64\n",
      "f7       float64\n",
      "f8       float64\n",
      "clear    float64\n",
      "y          int64\n",
      "tipo       int64\n",
      "dtype: object\n",
      "               f1          f2          f3           f4           f5  \\\n",
      "count  637.000000  637.000000  637.000000   637.000000   637.000000   \n",
      "mean   308.949765  402.277865  507.406593   654.952904   787.064364   \n",
      "std     64.419937   90.669174  116.620654   146.701257   169.712291   \n",
      "min    210.000000  262.000000  340.000000   433.000000   521.000000   \n",
      "25%    262.000000  333.000000  420.000000   543.000000   661.000000   \n",
      "50%    290.000000  374.000000  471.000000   611.000000   743.000000   \n",
      "75%    346.000000  471.000000  577.000000   748.000000   892.000000   \n",
      "max    510.000000  683.000000  953.000000  1083.000000  1384.000000   \n",
      "\n",
      "                f6           f7           f8        clear           y  \\\n",
      "count   637.000000   637.000000   637.000000   637.000000  637.000000   \n",
      "mean    862.354788   987.450549  1194.594976  5847.492936    0.799058   \n",
      "std     206.829738   264.722085   337.501967  1619.477917    0.401020   \n",
      "min     574.000000   635.000000   740.000000  3360.000000    0.000000   \n",
      "25%     707.000000   795.000000   946.000000  4527.000000    1.000000   \n",
      "50%     794.000000   894.000000  1093.000000  5476.000000    1.000000   \n",
      "75%     971.000000  1087.000000  1347.000000  7284.000000    1.000000   \n",
      "max    1488.000000  1881.000000  2439.000000  9894.000000    1.000000   \n",
      "\n",
      "             tipo  \n",
      "count  637.000000  \n",
      "mean     2.037677  \n",
      "std      1.358120  \n",
      "min      0.000000  \n",
      "25%      1.000000  \n",
      "50%      2.000000  \n",
      "75%      3.000000  \n",
      "max      4.000000  \n"
     ]
    }
   ],
   "source": [
    "# Converter dados de Inteiro e Object para Float\n",
    "def converter_colunas_float(df):\n",
    "    df['f1'] = df.f1.astype(np.float64)\n",
    "    df['f2'] = df.f2.astype(np.float64)\n",
    "    df['f3'] = df.f3.astype(np.float64)\n",
    "    df['f4'] = df.f4.astype(np.float64)\n",
    "    df['f5'] = df.f5.astype(np.float64)\n",
    "    df['f6'] = df.f6.astype(np.float64)\n",
    "    df['f7'] = df.f7.astype(np.float64)\n",
    "    df['f8'] = df.f8.astype(np.float64)\n",
    "    df['clear'] = pd.to_numeric(df['clear'],errors='coerce')\n",
    "    df['y'] = pd.to_numeric(df['y'],errors='coerce')\n",
    "    \n",
    "    return df\n",
    "\n",
    "# Dados Faltantes\n",
    "# - Verificação da existência de dados faltantes\n",
    "# - - Substituição de dados faltantes pelo o valor obtido com interpolação linear\n",
    "\n",
    "def inserir_dados_faltantes(df):\n",
    "    if df['f1'].isna().any():\n",
    "        df['f1'] = df.f1.interpolate(method='linear')\n",
    "    if df['f2'].isna().any():\n",
    "        df['f2'] = df.f2.interpolate(method='linear')\n",
    "    if df['f3'].isna().any():\n",
    "        df['f3'] = df.f3.interpolate(method='linear')\n",
    "    if df['f4'].isna().any():\n",
    "        df['f4'] = df.f4.interpolate(method='linear')\n",
    "    if df['f5'].isna().any():\n",
    "        df['f5'] = df.f5.interpolate(method='linear')\n",
    "    if df['f6'].isna().any():\n",
    "        df['f6'] = df.f6.interpolate(method='linear')\n",
    "    if df['f7'].isna().any():\n",
    "        df['f7'] = df.f7.interpolate(method='linear')\n",
    "    if df['f8'].isna().any():\n",
    "        df['f8'] = df.f8.interpolate(method='linear')\n",
    "    if df['clear'].isna().any():\n",
    "        df['clear'] = df.clear.interpolate(method='linear')\n",
    "    \n",
    "    return df\n",
    "\n",
    "#-------------------------------------------------------------------------\n",
    "\n",
    "vec_dfs = [df_amargoso, df_braquiaria, df_caruru, df_juazeiro, df_leiteiro]\n",
    "\n",
    "vec_df_preprocessados = []\n",
    "\n",
    "for df in vec_dfs:\n",
    "    \n",
    "    # Converter os dados para float\n",
    "    df = converter_colunas_float(df)\n",
    "\n",
    "    # Inserir os dados faltantes via interpolação linear\n",
    "    df = inserir_dados_faltantes(df)\n",
    "    \n",
    "    # Inserir os Dataframes Pré-processados em um vetor\n",
    "    vec_df_preprocessados.append(df)\n",
    "\n",
    "# Concatenar todos os Dataframes\n",
    "df_preprocessado = pd.concat(vec_df_preprocessados)\n",
    "\n",
    "# Conversão de dados não numéricos para numéricos\n",
    "conversor = LabelEncoder()\n",
    "df_preprocessado['tipo'] = conversor.fit_transform(df_preprocessado['tipo'])\n",
    "\n",
    "# Seleção dos parâmetros mais interessantes\n",
    "df_preprocessado = df_preprocessado[['f1','f2','f3','f4','f5','f6','f7','f8','clear','y','tipo']]\n",
    "\n",
    "print(df_preprocessado.dtypes)\n",
    "print(df_preprocessado.describe())"
   ]
  },
  {
   "cell_type": "markdown",
   "metadata": {},
   "source": [
    "4 - Análise de dados"
   ]
  },
  {
   "cell_type": "code",
   "execution_count": 120,
   "metadata": {},
   "outputs": [
    {
     "name": "stdout",
     "output_type": "stream",
     "text": [
      "id        int64\n",
      "f1        int64\n",
      "f2        int64\n",
      "f3        int64\n",
      "f4        int64\n",
      "f5        int64\n",
      "f6        int64\n",
      "f7        int64\n",
      "f8        int64\n",
      "clear    object\n",
      "y         int64\n",
      "tipo     object\n",
      "dtype: object\n"
     ]
    }
   ],
   "source": [
    "# Correlação entre os dados\n",
    "# - Fazer a correlação de Pearson para verificar a se há correlação entre os dados.\n",
    "# - - - - - - - - - - Níveis de Correlação - - - - - - - - -\n",
    "# - - 0.9 para mais ou para menos indica uma correlação muito forte.\n",
    "# - - 0.7 a 0.9 positivo ou negativo indica uma correlação forte.\n",
    "# - - 0.5 a 0.7 positivo ou negativo indica uma correlação moderada.\n",
    "# - - 0.3 a 0.5 positivo ou negativo indica uma correlação fraca.\n",
    "# - - 0 a 0.3 positivo ou negativo indica uma correlação desprezível.\n",
    "\n",
    "print(df_amargoso.dtypes)"
   ]
  },
  {
   "cell_type": "markdown",
   "metadata": {},
   "source": [
    "HeatMap"
   ]
  },
  {
   "cell_type": "code",
   "execution_count": null,
   "metadata": {},
   "outputs": [],
   "source": []
  },
  {
   "cell_type": "markdown",
   "metadata": {},
   "source": [
    "PCA (Primary Component Analysis)"
   ]
  },
  {
   "cell_type": "code",
   "execution_count": null,
   "metadata": {},
   "outputs": [],
   "source": [
    "# Converter dados não numéricos para numéricos\n",
    "def converter_dados_nao_numericos(df):\n",
    "    conversor = LabelEncoder()\n",
    "    df['tipo'] = conversor.fit_transform(df['tipo'])\n",
    "    return df"
   ]
  }
 ],
 "metadata": {
  "kernelspec": {
   "display_name": "Python 3",
   "language": "python",
   "name": "python3"
  },
  "language_info": {
   "codemirror_mode": {
    "name": "ipython",
    "version": 3
   },
   "file_extension": ".py",
   "mimetype": "text/x-python",
   "name": "python",
   "nbconvert_exporter": "python",
   "pygments_lexer": "ipython3",
   "version": "3.7.5"
  }
 },
 "nbformat": 4,
 "nbformat_minor": 4
}
